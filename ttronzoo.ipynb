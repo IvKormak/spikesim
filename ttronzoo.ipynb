{
 "cells": [
  {
   "cell_type": "code",
   "execution_count": 1,
   "id": "b1887af3-bc21-43fc-b158-5175f23d2327",
   "metadata": {
    "tags": []
   },
   "outputs": [],
   "source": [
    "import pandas as pd\n",
    "import numpy as np\n",
    "from matplotlib import pyplot as plt\n",
    "from tqdm.notebook import trange\n",
    "from module import *"
   ]
  },
  {
   "cell_type": "code",
   "execution_count": 2,
   "id": "7dc3e482-9323-40a8-82b6-304265dc3d7d",
   "metadata": {
    "tags": []
   },
   "outputs": [],
   "source": [
    "data_rows = {\n",
    "    \"e\":  {0: 0, 1: 0, 2: 0, 3: 1, 4: 1, 5: 1},\n",
    "    \"r\":  {0: 0, 1: 0, 2: 1, 3: 1, 4: 1, 5: 0},\n",
    "    \"c\":  {0: 0, 1: 1, 2: 0, 3: 1, 4: 0, 5: 1},\n",
    "    \"cr\": {0: 0, 1: 1, 2: 1, 3: 1, 4: 0, 5: 0},\n",
    "    \"l\":  {0: 1, 1: 0, 2: 0, 3: 0, 4: 1, 5: 1},\n",
    "    \"lr\": {0: 1, 1: 0, 2: 1, 3: 0, 4: 1, 5: 0},\n",
    "    \"lc\": {0: 1, 1: 1, 2: 0, 3: 0, 4: 0, 5: 1},\n",
    "    \"f\":  {0: 1, 1: 1, 2: 1, 3: 0, 4: 0, 5: 0},\n",
    "    \"off\":{0: 0, 1: 0, 2: 0, 3: 0, 4: 0, 5: 0}\n",
    "}\n",
    "numbers = {\n",
    "    0: \"f lr lr lr lr lr f\",\n",
    "    1: \"c c c c c c c\",\n",
    "    2: \"f r r c l l f\",\n",
    "    3: \"lc r r c r r lc\",\n",
    "    4: \"lr lr lr f r r r\",\n",
    "    5: \"f l l c r r f\",\n",
    "    6: \"f l l f lr lr f\",\n",
    "    7: \"f r r c c c c\",\n",
    "    8: \"c lr lr c lr lr f\",\n",
    "    9: \"c lr lr cr r c l\",\n",
    "}\n",
    "empty = np.array([[0,0,0,1,1,1],[0,0,0,1,1,1],[0,0,0,1,1,1],[0,0,0,1,1,1],[0,0,0,1,1,1]])\n",
    "\n",
    "numbers_rows = {k: [data_rows[vv] for vv in v.split(\" \")] for k, v in numbers.items()}\n",
    "\n",
    "from ipywidgets import SelectMultiple, Select, Button, HBox, VBox, Output, IntRangeSlider, Checkbox, Accordion\n",
    "def ui(data):\n",
    "    def update_graph(b):\n",
    "        fig, ax = plt.subplots(figsize=(8,8))\n",
    "        s = np.concatenate(([x.value for x in select_nodes]))\n",
    "        if np.isin('---', s):\n",
    "            s = s[np.where(s != '---')].astype(int)\n",
    "        for n in s:\n",
    "            t = data.index.tolist()\n",
    "            ax.step(t[xw.value[0]:xw.value[1]], data[n][xw.value[0]:xw.value[1]])\n",
    "        ax.legend([int(n) for n in s])\n",
    "        with graph:\n",
    "            graph.clear_output()\n",
    "            display(plt.show())\n",
    "\n",
    "\n",
    "    graph = Output()\n",
    "    layer_select = Select(\n",
    "        options=net.nodes.layer.unique(),\n",
    "        value=0,\n",
    "        description='Слой'\n",
    "    )\n",
    "\n",
    "    type_chboxs = []\n",
    "    for t in net.nodes.type.unique():\n",
    "        type_chboxs.append(Checkbox(\n",
    "            value=True,\n",
    "            description=t,\n",
    "            disabled=False\n",
    "        ))\n",
    "    select_nodes = []\n",
    "    for t in type_chboxs:\n",
    "        v = t.value\n",
    "        if v:\n",
    "            select_nodes.append(\n",
    "                SelectMultiple(\n",
    "                    options=np.insert(np.array(net.nodes.query(f\"type=='{t.description}'\").index.tolist(),dtype=object), 0, '---'),\n",
    "                    description=t.description\n",
    "                )\n",
    "            )\n",
    "            select_nodes[-1].rows = min(len(select_nodes[-1].options), 10)\n",
    "\n",
    "    def on_layer_change(change):\n",
    "        select_nodes = []\n",
    "        for t in type_chboxs:\n",
    "            v = t.value\n",
    "            if v:\n",
    "                select_nodes.append(\n",
    "                    SelectMultiple(\n",
    "                        options=np.insert(np.array(net.nodes.query(f\"type=={t.description}\").index.tolist(),dtype=object), 0, '---'),\n",
    "                        description=t.description\n",
    "                    )\n",
    "                )\n",
    "                select_nodes[-1].rows = min(len(select_nodes[-1].options), 10)\n",
    "\n",
    "    layer_select.observe(on_layer_change, names='value')\n",
    "\n",
    "    xw = IntRangeSlider(\n",
    "        min=data.index.min(),\n",
    "        max=data.index.max(),\n",
    "        value=(data.index.min(), data.index.max()),\n",
    "        description='Окно просмотра',\n",
    "        disabled=False\n",
    "    )\n",
    "    select = Accordion(children=[VBox(type_chboxs), VBox(select_nodes)])\n",
    "    select.selected_index=1\n",
    "    select.set_title(0, 'Типы')\n",
    "    select.set_title(1, 'Ноды')\n",
    "    xw.observe(update_graph, names='value')\n",
    "    [x.observe(update_graph, names='value') for x in select_nodes]\n",
    "    draw = Button(description='Draw')\n",
    "    draw.on_click(update_graph)\n",
    "    return HBox((VBox((xw,select,draw)), graph))"
   ]
  },
  {
   "cell_type": "code",
   "execution_count": 3,
   "id": "df3e297d-ec17-414e-a5be-ef4f1560db92",
   "metadata": {
    "tags": []
   },
   "outputs": [
    {
     "data": {
      "image/png": "[encoded data removed]",
      "text/plain": [
       "<Figure size 640x480 with 8 Axes>"
      ]
     },
     "metadata": {},
     "output_type": "display_data"
    }
   ],
   "source": [
    "from matplotlib import gridspec\n",
    "\n",
    "gs = gridspec.GridSpec(1, 8)\n",
    "numbers_rows_18 = {k:v for k, v in numbers_rows.items() if 0 < k < 9}\n",
    "for i, n in enumerate(numbers_rows_18.values()):\n",
    "    ax = plt.subplot(gs[i])\n",
    "    ax.imshow(np.abs(1- pd.DataFrame(n).values[:, 0:3]), cmap=\"gray\")\n",
    "    ax.set_yticks(())\n",
    "    ax.set_xticks(())\n",
    "    ax.spines.right.set_visible(False)\n",
    "    ax.spines.top.set_visible(False)\n",
    "    ax.spines.left.set_visible(False)\n",
    "    ax.spines.bottom.set_visible(False)\n",
    "    plt.subplots_adjust(wspace=.9)\n",
    "\n"
   ]
  },
  {
   "cell_type": "code",
   "execution_count": 4,
   "id": "c2220dbb-f8d6-4806-87a2-d204fd4231fa",
   "metadata": {
    "tags": []
   },
   "outputs": [],
   "source": [
    "row_time = 10\n",
    "silent_time = 100\n",
    "params_dendrites = {\n",
    "    \"tau_leak\": 2.28*row_time, \n",
    "    \"tau_inhibitory\": 1,\n",
    "    \"tau_refractory\": 1,\n",
    "    \"tau_ltp\": 3.15*row_time, \n",
    "    \"thres\": 1150,\n",
    "    \"ainc\": 0.7, \n",
    "    \"adec\": -3, \n",
    "    \"wmax\": 195, \n",
    "    \"wmin\": 1,\n",
    "    \"learning\": True,\n",
    "    \"wta\": True,\n",
    "    \"layer_type\": \"ttron\"\n",
    "}"
   ]
  },
  {
   "cell_type": "markdown",
   "id": "488b2389-d184-44cc-8b88-fb8a0cb3e582",
   "metadata": {
    "tags": []
   },
   "source": [
    "# 1 Подготовка новой сети"
   ]
  },
  {
   "cell_type": "markdown",
   "id": "316261d7-71a2-4c59-b5e3-c73e318e241d",
   "metadata": {},
   "source": [
    "## Генерация"
   ]
  },
  {
   "cell_type": "code",
   "execution_count": 5,
   "id": "3ef4309d-0043-4b7a-8ab7-2c2f335326ce",
   "metadata": {
    "tags": []
   },
   "outputs": [],
   "source": [
    "def new_network(**ps):\n",
    "    params = params_dendrites.copy()\n",
    "    params.update(ps)\n",
    "    net = SpikeNetworkSim(inputs_l=6, dt=1)\n",
    "    teacher_nodes, who_is_who = net.ttron_layer(num_nodes=4, num_cat_inputs=4, delay_depth=5, **params)\n",
    "    return net, teacher_nodes, who_is_who\n",
    "net, teacher_nodes, who_is_who = new_network()"
   ]
  },
  {
   "cell_type": "code",
   "execution_count": 6,
   "id": "e85ada37-c161-491f-a7a0-ebdce93d6e99",
   "metadata": {
    "tags": []
   },
   "outputs": [
    {
     "data": {
      "text/html": [
       "<div>\n",
       "<style scoped>\n",
       "    .dataframe tbody tr th:only-of-type {\n",
       "        vertical-align: middle;\n",
       "    }\n",
       "\n",
       "    .dataframe tbody tr th {\n",
       "        vertical-align: top;\n",
       "    }\n",
       "\n",
       "    .dataframe thead th {\n",
       "        text-align: right;\n",
       "    }\n",
       "</style>\n",
       "<table border=\"1\" class=\"dataframe\">\n",
       "  <thead>\n",
       "    <tr style=\"text-align: right;\">\n",
       "      <th></th>\n",
       "      <th>type</th>\n",
       "      <th>listening</th>\n",
       "      <th>broadcasting</th>\n",
       "      <th>priority</th>\n",
       "      <th>layer</th>\n",
       "    </tr>\n",
       "  </thead>\n",
       "  <tbody>\n",
       "    <tr>\n",
       "      <th>77</th>\n",
       "      <td>presynaptic</td>\n",
       "      <td>[0, 1, 2, 3, 4, 5, 30, 31, 32, 33, 34, 35]</td>\n",
       "      <td>[80]</td>\n",
       "      <td>2</td>\n",
       "      <td>0</td>\n",
       "    </tr>\n",
       "    <tr>\n",
       "      <th>84</th>\n",
       "      <td>presynaptic</td>\n",
       "      <td>[0, 1, 2, 3, 4, 5, 30, 31, 32, 33, 34, 35]</td>\n",
       "      <td>[87]</td>\n",
       "      <td>2</td>\n",
       "      <td>0</td>\n",
       "    </tr>\n",
       "    <tr>\n",
       "      <th>91</th>\n",
       "      <td>presynaptic</td>\n",
       "      <td>[0, 1, 2, 3, 4, 5, 30, 31, 32, 33, 34, 35]</td>\n",
       "      <td>[94]</td>\n",
       "      <td>2</td>\n",
       "      <td>0</td>\n",
       "    </tr>\n",
       "    <tr>\n",
       "      <th>98</th>\n",
       "      <td>presynaptic</td>\n",
       "      <td>[0, 1, 2, 3, 4, 5, 30, 31, 32, 33, 34, 35]</td>\n",
       "      <td>[101]</td>\n",
       "      <td>2</td>\n",
       "      <td>0</td>\n",
       "    </tr>\n",
       "  </tbody>\n",
       "</table>\n",
       "</div>"
      ],
      "text/plain": [
       "           type                                   listening broadcasting  \\\n",
       "77  presynaptic  [0, 1, 2, 3, 4, 5, 30, 31, 32, 33, 34, 35]         [80]   \n",
       "84  presynaptic  [0, 1, 2, 3, 4, 5, 30, 31, 32, 33, 34, 35]         [87]   \n",
       "91  presynaptic  [0, 1, 2, 3, 4, 5, 30, 31, 32, 33, 34, 35]         [94]   \n",
       "98  presynaptic  [0, 1, 2, 3, 4, 5, 30, 31, 32, 33, 34, 35]        [101]   \n",
       "\n",
       "    priority  layer  \n",
       "77         2      0  \n",
       "84         2      0  \n",
       "91         2      0  \n",
       "98         2      0  "
      ]
     },
     "execution_count": 6,
     "metadata": {},
     "output_type": "execute_result"
    }
   ],
   "source": [
    "net.nodes.loc[net.nodes.type==\"presynaptic\"]"
   ]
  },
  {
   "cell_type": "markdown",
   "id": "371dd141-afd2-4453-9eab-80593551e19e",
   "metadata": {},
   "source": [
    "# 0 Инициализация наборов данных"
   ]
  },
  {
   "cell_type": "markdown",
   "id": "c61a4346-53bb-4229-9e17-a0255b92740e",
   "metadata": {},
   "source": [
    "## Обучающий датасет"
   ]
  },
  {
   "cell_type": "code",
   "execution_count": 7,
   "id": "ed4e3475-15f4-4c1e-a62b-472502b5ac47",
   "metadata": {
    "tags": []
   },
   "outputs": [],
   "source": [
    "\n",
    "genome = {\n",
    "    1:{35:0, 65:0}, \n",
    "    2:{35:1, 65:2},\n",
    "    3:{35:1, 65:1}, \n",
    "    4:{35:3, 65:1}, \n",
    "    5:{35:2, 65:1},\n",
    "    6:{35:2, 65:3},\n",
    "    7:{35:1, 65:0}, \n",
    "    #8:{25:0, 45:0}, \n",
    "    #9:{25:0, 45:1}, \n",
    "    #0:{35:4, 65:4}\n",
    "}\n",
    "pattern_sights = {teacher_nodes[k]: (np.concatenate([(g[35], g[65]) for g in genome.values()])==k).sum() for k in range(4)}\n"
   ]
  },
  {
   "cell_type": "code",
   "execution_count": 8,
   "id": "6fa0048a-fcea-41ae-b6d3-5a2b9f9f27c8",
   "metadata": {
    "tags": []
   },
   "outputs": [],
   "source": [
    "def gen_test(n_num):\n",
    "    seq_data = []\n",
    "    seq_labels = []\n",
    "    a = None\n",
    "    for n in range(n_num):\n",
    "            a = np.random.randint(1, 8)\n",
    "            seq_data+=[x.copy() for x in numbers_rows[a]]\n",
    "            seq_labels+=[a for _ in numbers_rows[a]]\n",
    "            seq_labels.append(-1)\n",
    "            seq_data.append(data_rows[\"off\"].copy())\n",
    "\n",
    "    #genome = {}\n",
    "    #for x in np.unique(seq_labels):\n",
    "    #    genome[x] = np.random.randint(len(teacher_nodes))\n",
    "\n",
    "    nseq_d = []\n",
    "    nseq_l = []\n",
    "\n",
    "    for d, l in zip(seq_data, seq_labels):\n",
    "        if l != -1:\n",
    "            t = row_time\n",
    "        else:\n",
    "            t = silent_time\n",
    "        nseq_d.append(d.copy())\n",
    "        nseq_l.append(l)\n",
    "        for i in range(t-1):\n",
    "            nseq_d.append(data_rows[\"off\"].copy())\n",
    "            nseq_l.append(l)\n",
    "\n",
    "    seq_data = nseq_d\n",
    "    seq_labels = nseq_l\n",
    "\n",
    "    d_p = seq_labels[0]\n",
    "    step = 1\n",
    "    for i, d in enumerate(seq_labels[1:]):\n",
    "        seq_data[i].update({k:0 for k in teacher_nodes})\n",
    "        if d_p == -1 and d != d_p:\n",
    "            step = 0\n",
    "        if d in genome:\n",
    "            if step in genome[d]:\n",
    "                seq_data[i][teacher_nodes[genome[d][step]]] = 1\n",
    "        d_p = d\n",
    "        step += 1\n",
    "    return seq_data"
   ]
  },
  {
   "cell_type": "markdown",
   "id": "ba266fc8-936a-4742-ad78-bd164d83ef15",
   "metadata": {},
   "source": [
    "## Тестовый датасет"
   ]
  },
  {
   "cell_type": "code",
   "execution_count": 9,
   "id": "29a4e748-2c39-4c37-9b9c-cc855e906d86",
   "metadata": {
    "tags": []
   },
   "outputs": [],
   "source": [
    "nseq_d = []\n",
    "nseq_l = []\n",
    "test_data = []\n",
    "test_labels = []\n",
    "a = None\n",
    "for n in range(1, 9):\n",
    "    a = n\n",
    "    test_data+=[x.copy() for x in numbers_rows[a]]\n",
    "    test_labels+=[a for _ in numbers_rows[a]]\n",
    "    test_labels.append(-1)\n",
    "    test_data.append(data_rows[\"off\"].copy())\n",
    "\n",
    "for d, l in zip(test_data, test_labels):\n",
    "    if l != -1:\n",
    "        t = row_time\n",
    "    else:\n",
    "        t = silent_time\n",
    "        \n",
    "    nseq_d.append(d.copy())\n",
    "    nseq_l.append(l)\n",
    "    for i in range(t-1):\n",
    "        nseq_d.append(data_rows[\"off\"].copy())\n",
    "        nseq_l.append(l)\n",
    "\n",
    "test_data = nseq_d\n",
    "test_labels = nseq_l\n",
    "step = 0\n",
    "d_p = 0\n",
    "for i, d in enumerate(test_labels[1:]):\n",
    "    test_data[i].update({k:0 for k in teacher_nodes})\n",
    "    if d_p == -1 and d != d_p:\n",
    "        step = 0\n",
    "    if d in genome:\n",
    "        if step<25:\n",
    "            test_data[i][teacher_nodes[genome[d][35]]] = 1\n",
    "        elif step<35:\n",
    "            test_data[i][teacher_nodes[genome[d][35]]] = 1\n",
    "            test_data[i][teacher_nodes[genome[d][65]]] = 1     \n",
    "        else:\n",
    "            test_data[i][teacher_nodes[genome[d][65]]] = 1            \n",
    "    d_p = d\n",
    "    step += 1"
   ]
  },
  {
   "cell_type": "markdown",
   "id": "faf9ef86-7908-4304-98b1-5a0d56ea9a6e",
   "metadata": {},
   "source": [
    "# 2 Обучение"
   ]
  },
  {
   "cell_type": "markdown",
   "id": "4d8fd788-03c0-4f1b-8b2c-c509b2dce5a5",
   "metadata": {},
   "source": [
    "## Цикл обучения"
   ]
  },
  {
   "cell_type": "code",
   "execution_count": 10,
   "id": "39926118-784b-421a-960d-fc07fbcd2b60",
   "metadata": {
    "tags": []
   },
   "outputs": [],
   "source": [
    "ZOO_POP = 0"
   ]
  },
  {
   "cell_type": "code",
   "execution_count": 11,
   "id": "a0617f1c-4781-48a1-8d00-5120f66fa62d",
   "metadata": {
    "tags": []
   },
   "outputs": [
    {
     "data": {
      "text/plain": [
       "{72: 3, 73: 6, 74: 3, 75: 2}"
      ]
     },
     "execution_count": 11,
     "metadata": {},
     "output_type": "execute_result"
    }
   ],
   "source": [
    "pattern_sights"
   ]
  },
  {
   "cell_type": "code",
   "execution_count": 12,
   "id": "8f0f43eb-9292-4c95-8c95-9e77d038e937",
   "metadata": {
    "tags": []
   },
   "outputs": [
    {
     "name": "stderr",
     "output_type": "stream",
     "text": [
      "0it [00:00, ?it/s]\n"
     ]
    }
   ],
   "source": [
    "zoo = []\n",
    "weights_variance = []\n",
    "net, _, _ = new_network()\n",
    "dist = []\n",
    "variations = []\n",
    "\n",
    "for j in trange(ZOO_POP):\n",
    "    start_weights = net.weights.weights.copy()\n",
    "    \n",
    "    #temp = 0.2\n",
    "    \n",
    "    #params_update = {\n",
    "    #    \"tau_leak\": np.random.randint(-2*row_time, 2*row_time)*temp+params_dendrites[\"tau_leak\"], \n",
    "    #    \"tau_ltp\": np.random.randint(-3*row_time, 3*row_time)*temp+params_dendrites[\"tau_ltp\"], \n",
    "    #    \"wmax\": np.random.randint(100, 255)*temp+params_dendrites[\"wmax\"]*(1-temp), \n",
    "   # }\n",
    "\n",
    "    net, _, _ = new_network()\n",
    "    #net.weights = start_weights.copy()\n",
    "    error_agg = error_agg_min = 100\n",
    "    for section in range(15):\n",
    "        net.layer_params[\"learning\"][-1] = True\n",
    "        out_learn = net.feed_raw(gen_test(10))\n",
    "        net.layer_params[\"learning\"][-1] = False\n",
    "        out_test = net.feed_raw(test_data)\n",
    "        error = net.error(teacher_nodes, pattern_sights=pattern_sights)\n",
    "        e = {k: v.copy() for k, v in error.items()}\n",
    "        mins = []\n",
    "        for _ in error.keys():\n",
    "            b = {k: min(e[k], key=lambda x: abs(e[k][x])) for k in e.keys()}\n",
    "            a = min(b, key=lambda x: abs(e[x][b[x]]))\n",
    "            mins.append(e[a][b[a]])\n",
    "            del e[a]\n",
    "            for k in e.keys():\n",
    "                del e[k][b[a]]\n",
    "        mins = np.array(mins)\n",
    "        error_agg = (mins.mean())\n",
    "        if error_agg > error_agg_min*1.2:\n",
    "            ...\n",
    "            #break\n",
    "        error_agg_min = min(error_agg, error_agg_min)\n",
    "        weights_variance.append(\n",
    "            {\"sp\": j, \"sec\": section, \"error\": error.copy(), \"weights\": net.weights.weights.copy(), \"error_agg\": error_agg}\n",
    "        )\n",
    "    #variations.append(params_update.copy())\n",
    "    \n",
    "    dist.append((start_weights-net.weights.weights).abs().sum())\n",
    "d2 = pd.DataFrame(weights_variance)"
   ]
  },
  {
   "cell_type": "code",
   "execution_count": 13,
   "id": "cabbf5ed-2b2f-4134-a68c-7fcf4e1a9177",
   "metadata": {},
   "outputs": [
    {
     "name": "stderr",
     "output_type": "stream",
     "text": [
      "C:\\Users\\Кормак\\AppData\\Local\\Temp\\ipykernel_3856\\3987556182.py:2: RuntimeWarning: Mean of empty slice.\n",
      "  a.mean(), a.std()\n",
      "H:\\JupyterLab\\spikesim\\Lib\\site-packages\\numpy\\core\\_methods.py:192: RuntimeWarning: invalid value encountered in scalar divide\n",
      "  ret = ret.dtype.type(ret / rcount)\n",
      "H:\\JupyterLab\\spikesim\\Lib\\site-packages\\numpy\\core\\_methods.py:269: RuntimeWarning: Degrees of freedom <= 0 for slice\n",
      "  ret = _var(a, axis=axis, dtype=dtype, out=out, ddof=ddof,\n",
      "H:\\JupyterLab\\spikesim\\Lib\\site-packages\\numpy\\core\\_methods.py:226: RuntimeWarning: invalid value encountered in divide\n",
      "  arrmean = um.true_divide(arrmean, div, out=arrmean,\n",
      "H:\\JupyterLab\\spikesim\\Lib\\site-packages\\numpy\\core\\_methods.py:261: RuntimeWarning: invalid value encountered in scalar divide\n",
      "  ret = ret.dtype.type(ret / rcount)\n"
     ]
    },
    {
     "data": {
      "text/plain": [
       "(nan, nan)"
      ]
     },
     "execution_count": 13,
     "metadata": {},
     "output_type": "execute_result"
    }
   ],
   "source": [
    "a = np.array([x.mean()/12 for x in dist])\n",
    "a.mean(), a.std()"
   ]
  },
  {
   "cell_type": "code",
   "execution_count": 14,
   "id": "d2c0e0e9-9ee6-4810-8882-d71410d0ea51",
   "metadata": {
    "tags": []
   },
   "outputs": [
    {
     "ename": "UndefinedVariableError",
     "evalue": "name 'sp' is not defined",
     "output_type": "error",
     "traceback": [
      "\u001b[1;31m---------------------------------------------------------------------------\u001b[0m",
      "\u001b[1;31mKeyError\u001b[0m                                  Traceback (most recent call last)",
      "File \u001b[1;32mH:\\JupyterLab\\spikesim\\Lib\\site-packages\\pandas\\core\\computation\\scope.py:198\u001b[0m, in \u001b[0;36mScope.resolve\u001b[1;34m(self, key, is_local)\u001b[0m\n\u001b[0;32m    197\u001b[0m \u001b[38;5;28;01mif\u001b[39;00m \u001b[38;5;28mself\u001b[39m\u001b[38;5;241m.\u001b[39mhas_resolvers:\n\u001b[1;32m--> 198\u001b[0m     \u001b[38;5;28;01mreturn\u001b[39;00m \u001b[38;5;28;43mself\u001b[39;49m\u001b[38;5;241;43m.\u001b[39;49m\u001b[43mresolvers\u001b[49m\u001b[43m[\u001b[49m\u001b[43mkey\u001b[49m\u001b[43m]\u001b[49m\n\u001b[0;32m    200\u001b[0m \u001b[38;5;66;03m# if we're here that means that we have no locals and we also have\u001b[39;00m\n\u001b[0;32m    201\u001b[0m \u001b[38;5;66;03m# no resolvers\u001b[39;00m\n",
      "File \u001b[1;32m~\\AppData\\Local\\Programs\\Python\\Python311\\Lib\\collections\\__init__.py:1004\u001b[0m, in \u001b[0;36mChainMap.__getitem__\u001b[1;34m(self, key)\u001b[0m\n\u001b[0;32m   1003\u001b[0m         \u001b[38;5;28;01mpass\u001b[39;00m\n\u001b[1;32m-> 1004\u001b[0m \u001b[38;5;28;01mreturn\u001b[39;00m \u001b[38;5;28;43mself\u001b[39;49m\u001b[38;5;241;43m.\u001b[39;49m\u001b[38;5;21;43m__missing__\u001b[39;49m\u001b[43m(\u001b[49m\u001b[43mkey\u001b[49m\u001b[43m)\u001b[49m\n",
      "File \u001b[1;32m~\\AppData\\Local\\Programs\\Python\\Python311\\Lib\\collections\\__init__.py:996\u001b[0m, in \u001b[0;36mChainMap.__missing__\u001b[1;34m(self, key)\u001b[0m\n\u001b[0;32m    995\u001b[0m \u001b[38;5;28;01mdef\u001b[39;00m \u001b[38;5;21m__missing__\u001b[39m(\u001b[38;5;28mself\u001b[39m, key):\n\u001b[1;32m--> 996\u001b[0m     \u001b[38;5;28;01mraise\u001b[39;00m \u001b[38;5;167;01mKeyError\u001b[39;00m(key)\n",
      "\u001b[1;31mKeyError\u001b[0m: 'sp'",
      "\nDuring handling of the above exception, another exception occurred:\n",
      "\u001b[1;31mKeyError\u001b[0m                                  Traceback (most recent call last)",
      "File \u001b[1;32mH:\\JupyterLab\\spikesim\\Lib\\site-packages\\pandas\\core\\computation\\scope.py:209\u001b[0m, in \u001b[0;36mScope.resolve\u001b[1;34m(self, key, is_local)\u001b[0m\n\u001b[0;32m    205\u001b[0m \u001b[38;5;28;01mtry\u001b[39;00m:\n\u001b[0;32m    206\u001b[0m     \u001b[38;5;66;03m# last ditch effort we look in temporaries\u001b[39;00m\n\u001b[0;32m    207\u001b[0m     \u001b[38;5;66;03m# these are created when parsing indexing expressions\u001b[39;00m\n\u001b[0;32m    208\u001b[0m     \u001b[38;5;66;03m# e.g., df[df > 0]\u001b[39;00m\n\u001b[1;32m--> 209\u001b[0m     \u001b[38;5;28;01mreturn\u001b[39;00m \u001b[38;5;28;43mself\u001b[39;49m\u001b[38;5;241;43m.\u001b[39;49m\u001b[43mtemps\u001b[49m\u001b[43m[\u001b[49m\u001b[43mkey\u001b[49m\u001b[43m]\u001b[49m\n\u001b[0;32m    210\u001b[0m \u001b[38;5;28;01mexcept\u001b[39;00m \u001b[38;5;167;01mKeyError\u001b[39;00m \u001b[38;5;28;01mas\u001b[39;00m err:\n",
      "\u001b[1;31mKeyError\u001b[0m: 'sp'",
      "\nThe above exception was the direct cause of the following exception:\n",
      "\u001b[1;31mUndefinedVariableError\u001b[0m                    Traceback (most recent call last)",
      "Cell \u001b[1;32mIn[14], line 1\u001b[0m\n\u001b[1;32m----> 1\u001b[0m plt\u001b[38;5;241m.\u001b[39mplot(\u001b[43md2\u001b[49m\u001b[38;5;241;43m.\u001b[39;49m\u001b[43mquery\u001b[49m\u001b[43m(\u001b[49m\u001b[38;5;124;43m\"\u001b[39;49m\u001b[38;5;124;43msp==18\u001b[39;49m\u001b[38;5;124;43m\"\u001b[39;49m\u001b[43m)\u001b[49m\u001b[38;5;241m.\u001b[39msort_values(\u001b[38;5;124m\"\u001b[39m\u001b[38;5;124msec\u001b[39m\u001b[38;5;124m\"\u001b[39m)\u001b[38;5;241m.\u001b[39merror_agg\u001b[38;5;241m.\u001b[39mvalues)\n",
      "File \u001b[1;32mH:\\JupyterLab\\spikesim\\Lib\\site-packages\\pandas\\util\\_decorators.py:331\u001b[0m, in \u001b[0;36mdeprecate_nonkeyword_arguments.<locals>.decorate.<locals>.wrapper\u001b[1;34m(*args, **kwargs)\u001b[0m\n\u001b[0;32m    325\u001b[0m \u001b[38;5;28;01mif\u001b[39;00m \u001b[38;5;28mlen\u001b[39m(args) \u001b[38;5;241m>\u001b[39m num_allow_args:\n\u001b[0;32m    326\u001b[0m     warnings\u001b[38;5;241m.\u001b[39mwarn(\n\u001b[0;32m    327\u001b[0m         msg\u001b[38;5;241m.\u001b[39mformat(arguments\u001b[38;5;241m=\u001b[39m_format_argument_list(allow_args)),\n\u001b[0;32m    328\u001b[0m         \u001b[38;5;167;01mFutureWarning\u001b[39;00m,\n\u001b[0;32m    329\u001b[0m         stacklevel\u001b[38;5;241m=\u001b[39mfind_stack_level(),\n\u001b[0;32m    330\u001b[0m     )\n\u001b[1;32m--> 331\u001b[0m \u001b[38;5;28;01mreturn\u001b[39;00m \u001b[43mfunc\u001b[49m\u001b[43m(\u001b[49m\u001b[38;5;241;43m*\u001b[39;49m\u001b[43margs\u001b[49m\u001b[43m,\u001b[49m\u001b[43m \u001b[49m\u001b[38;5;241;43m*\u001b[39;49m\u001b[38;5;241;43m*\u001b[39;49m\u001b[43mkwargs\u001b[49m\u001b[43m)\u001b[49m\n",
      "File \u001b[1;32mH:\\JupyterLab\\spikesim\\Lib\\site-packages\\pandas\\core\\frame.py:4474\u001b[0m, in \u001b[0;36mDataFrame.query\u001b[1;34m(self, expr, inplace, **kwargs)\u001b[0m\n\u001b[0;32m   4472\u001b[0m kwargs[\u001b[38;5;124m\"\u001b[39m\u001b[38;5;124mlevel\u001b[39m\u001b[38;5;124m\"\u001b[39m] \u001b[38;5;241m=\u001b[39m kwargs\u001b[38;5;241m.\u001b[39mpop(\u001b[38;5;124m\"\u001b[39m\u001b[38;5;124mlevel\u001b[39m\u001b[38;5;124m\"\u001b[39m, \u001b[38;5;241m0\u001b[39m) \u001b[38;5;241m+\u001b[39m \u001b[38;5;241m2\u001b[39m\n\u001b[0;32m   4473\u001b[0m kwargs[\u001b[38;5;124m\"\u001b[39m\u001b[38;5;124mtarget\u001b[39m\u001b[38;5;124m\"\u001b[39m] \u001b[38;5;241m=\u001b[39m \u001b[38;5;28;01mNone\u001b[39;00m\n\u001b[1;32m-> 4474\u001b[0m res \u001b[38;5;241m=\u001b[39m \u001b[38;5;28;43mself\u001b[39;49m\u001b[38;5;241;43m.\u001b[39;49m\u001b[43meval\u001b[49m\u001b[43m(\u001b[49m\u001b[43mexpr\u001b[49m\u001b[43m,\u001b[49m\u001b[43m \u001b[49m\u001b[38;5;241;43m*\u001b[39;49m\u001b[38;5;241;43m*\u001b[39;49m\u001b[43mkwargs\u001b[49m\u001b[43m)\u001b[49m\n\u001b[0;32m   4476\u001b[0m \u001b[38;5;28;01mtry\u001b[39;00m:\n\u001b[0;32m   4477\u001b[0m     result \u001b[38;5;241m=\u001b[39m \u001b[38;5;28mself\u001b[39m\u001b[38;5;241m.\u001b[39mloc[res]\n",
      "File \u001b[1;32mH:\\JupyterLab\\spikesim\\Lib\\site-packages\\pandas\\util\\_decorators.py:331\u001b[0m, in \u001b[0;36mdeprecate_nonkeyword_arguments.<locals>.decorate.<locals>.wrapper\u001b[1;34m(*args, **kwargs)\u001b[0m\n\u001b[0;32m    325\u001b[0m \u001b[38;5;28;01mif\u001b[39;00m \u001b[38;5;28mlen\u001b[39m(args) \u001b[38;5;241m>\u001b[39m num_allow_args:\n\u001b[0;32m    326\u001b[0m     warnings\u001b[38;5;241m.\u001b[39mwarn(\n\u001b[0;32m    327\u001b[0m         msg\u001b[38;5;241m.\u001b[39mformat(arguments\u001b[38;5;241m=\u001b[39m_format_argument_list(allow_args)),\n\u001b[0;32m    328\u001b[0m         \u001b[38;5;167;01mFutureWarning\u001b[39;00m,\n\u001b[0;32m    329\u001b[0m         stacklevel\u001b[38;5;241m=\u001b[39mfind_stack_level(),\n\u001b[0;32m    330\u001b[0m     )\n\u001b[1;32m--> 331\u001b[0m \u001b[38;5;28;01mreturn\u001b[39;00m \u001b[43mfunc\u001b[49m\u001b[43m(\u001b[49m\u001b[38;5;241;43m*\u001b[39;49m\u001b[43margs\u001b[49m\u001b[43m,\u001b[49m\u001b[43m \u001b[49m\u001b[38;5;241;43m*\u001b[39;49m\u001b[38;5;241;43m*\u001b[39;49m\u001b[43mkwargs\u001b[49m\u001b[43m)\u001b[49m\n",
      "File \u001b[1;32mH:\\JupyterLab\\spikesim\\Lib\\site-packages\\pandas\\core\\frame.py:4612\u001b[0m, in \u001b[0;36mDataFrame.eval\u001b[1;34m(self, expr, inplace, **kwargs)\u001b[0m\n\u001b[0;32m   4609\u001b[0m     kwargs[\u001b[38;5;124m\"\u001b[39m\u001b[38;5;124mtarget\u001b[39m\u001b[38;5;124m\"\u001b[39m] \u001b[38;5;241m=\u001b[39m \u001b[38;5;28mself\u001b[39m\n\u001b[0;32m   4610\u001b[0m kwargs[\u001b[38;5;124m\"\u001b[39m\u001b[38;5;124mresolvers\u001b[39m\u001b[38;5;124m\"\u001b[39m] \u001b[38;5;241m=\u001b[39m \u001b[38;5;28mtuple\u001b[39m(kwargs\u001b[38;5;241m.\u001b[39mget(\u001b[38;5;124m\"\u001b[39m\u001b[38;5;124mresolvers\u001b[39m\u001b[38;5;124m\"\u001b[39m, ())) \u001b[38;5;241m+\u001b[39m resolvers\n\u001b[1;32m-> 4612\u001b[0m \u001b[38;5;28;01mreturn\u001b[39;00m \u001b[43m_eval\u001b[49m\u001b[43m(\u001b[49m\u001b[43mexpr\u001b[49m\u001b[43m,\u001b[49m\u001b[43m \u001b[49m\u001b[43minplace\u001b[49m\u001b[38;5;241;43m=\u001b[39;49m\u001b[43minplace\u001b[49m\u001b[43m,\u001b[49m\u001b[43m \u001b[49m\u001b[38;5;241;43m*\u001b[39;49m\u001b[38;5;241;43m*\u001b[39;49m\u001b[43mkwargs\u001b[49m\u001b[43m)\u001b[49m\n",
      "File \u001b[1;32mH:\\JupyterLab\\spikesim\\Lib\\site-packages\\pandas\\core\\computation\\eval.py:353\u001b[0m, in \u001b[0;36meval\u001b[1;34m(expr, parser, engine, truediv, local_dict, global_dict, resolvers, level, target, inplace)\u001b[0m\n\u001b[0;32m    344\u001b[0m \u001b[38;5;66;03m# get our (possibly passed-in) scope\u001b[39;00m\n\u001b[0;32m    345\u001b[0m env \u001b[38;5;241m=\u001b[39m ensure_scope(\n\u001b[0;32m    346\u001b[0m     level \u001b[38;5;241m+\u001b[39m \u001b[38;5;241m1\u001b[39m,\n\u001b[0;32m    347\u001b[0m     global_dict\u001b[38;5;241m=\u001b[39mglobal_dict,\n\u001b[1;32m   (...)\u001b[0m\n\u001b[0;32m    350\u001b[0m     target\u001b[38;5;241m=\u001b[39mtarget,\n\u001b[0;32m    351\u001b[0m )\n\u001b[1;32m--> 353\u001b[0m parsed_expr \u001b[38;5;241m=\u001b[39m \u001b[43mExpr\u001b[49m\u001b[43m(\u001b[49m\u001b[43mexpr\u001b[49m\u001b[43m,\u001b[49m\u001b[43m \u001b[49m\u001b[43mengine\u001b[49m\u001b[38;5;241;43m=\u001b[39;49m\u001b[43mengine\u001b[49m\u001b[43m,\u001b[49m\u001b[43m \u001b[49m\u001b[43mparser\u001b[49m\u001b[38;5;241;43m=\u001b[39;49m\u001b[43mparser\u001b[49m\u001b[43m,\u001b[49m\u001b[43m \u001b[49m\u001b[43menv\u001b[49m\u001b[38;5;241;43m=\u001b[39;49m\u001b[43menv\u001b[49m\u001b[43m)\u001b[49m\n\u001b[0;32m    355\u001b[0m \u001b[38;5;66;03m# construct the engine and evaluate the parsed expression\u001b[39;00m\n\u001b[0;32m    356\u001b[0m eng \u001b[38;5;241m=\u001b[39m ENGINES[engine]\n",
      "File \u001b[1;32mH:\\JupyterLab\\spikesim\\Lib\\site-packages\\pandas\\core\\computation\\expr.py:813\u001b[0m, in \u001b[0;36mExpr.__init__\u001b[1;34m(self, expr, engine, parser, env, level)\u001b[0m\n\u001b[0;32m    811\u001b[0m \u001b[38;5;28mself\u001b[39m\u001b[38;5;241m.\u001b[39mparser \u001b[38;5;241m=\u001b[39m parser\n\u001b[0;32m    812\u001b[0m \u001b[38;5;28mself\u001b[39m\u001b[38;5;241m.\u001b[39m_visitor \u001b[38;5;241m=\u001b[39m PARSERS[parser](\u001b[38;5;28mself\u001b[39m\u001b[38;5;241m.\u001b[39menv, \u001b[38;5;28mself\u001b[39m\u001b[38;5;241m.\u001b[39mengine, \u001b[38;5;28mself\u001b[39m\u001b[38;5;241m.\u001b[39mparser)\n\u001b[1;32m--> 813\u001b[0m \u001b[38;5;28mself\u001b[39m\u001b[38;5;241m.\u001b[39mterms \u001b[38;5;241m=\u001b[39m \u001b[38;5;28;43mself\u001b[39;49m\u001b[38;5;241;43m.\u001b[39;49m\u001b[43mparse\u001b[49m\u001b[43m(\u001b[49m\u001b[43m)\u001b[49m\n",
      "File \u001b[1;32mH:\\JupyterLab\\spikesim\\Lib\\site-packages\\pandas\\core\\computation\\expr.py:832\u001b[0m, in \u001b[0;36mExpr.parse\u001b[1;34m(self)\u001b[0m\n\u001b[0;32m    828\u001b[0m \u001b[38;5;28;01mdef\u001b[39;00m \u001b[38;5;21mparse\u001b[39m(\u001b[38;5;28mself\u001b[39m):\n\u001b[0;32m    829\u001b[0m \u001b[38;5;250m    \u001b[39m\u001b[38;5;124;03m\"\"\"\u001b[39;00m\n\u001b[0;32m    830\u001b[0m \u001b[38;5;124;03m    Parse an expression.\u001b[39;00m\n\u001b[0;32m    831\u001b[0m \u001b[38;5;124;03m    \"\"\"\u001b[39;00m\n\u001b[1;32m--> 832\u001b[0m     \u001b[38;5;28;01mreturn\u001b[39;00m \u001b[38;5;28;43mself\u001b[39;49m\u001b[38;5;241;43m.\u001b[39;49m\u001b[43m_visitor\u001b[49m\u001b[38;5;241;43m.\u001b[39;49m\u001b[43mvisit\u001b[49m\u001b[43m(\u001b[49m\u001b[38;5;28;43mself\u001b[39;49m\u001b[38;5;241;43m.\u001b[39;49m\u001b[43mexpr\u001b[49m\u001b[43m)\u001b[49m\n",
      "File \u001b[1;32mH:\\JupyterLab\\spikesim\\Lib\\site-packages\\pandas\\core\\computation\\expr.py:415\u001b[0m, in \u001b[0;36mBaseExprVisitor.visit\u001b[1;34m(self, node, **kwargs)\u001b[0m\n\u001b[0;32m    413\u001b[0m method \u001b[38;5;241m=\u001b[39m \u001b[38;5;124m\"\u001b[39m\u001b[38;5;124mvisit_\u001b[39m\u001b[38;5;124m\"\u001b[39m \u001b[38;5;241m+\u001b[39m \u001b[38;5;28mtype\u001b[39m(node)\u001b[38;5;241m.\u001b[39m\u001b[38;5;18m__name__\u001b[39m\n\u001b[0;32m    414\u001b[0m visitor \u001b[38;5;241m=\u001b[39m \u001b[38;5;28mgetattr\u001b[39m(\u001b[38;5;28mself\u001b[39m, method)\n\u001b[1;32m--> 415\u001b[0m \u001b[38;5;28;01mreturn\u001b[39;00m \u001b[43mvisitor\u001b[49m\u001b[43m(\u001b[49m\u001b[43mnode\u001b[49m\u001b[43m,\u001b[49m\u001b[43m \u001b[49m\u001b[38;5;241;43m*\u001b[39;49m\u001b[38;5;241;43m*\u001b[39;49m\u001b[43mkwargs\u001b[49m\u001b[43m)\u001b[49m\n",
      "File \u001b[1;32mH:\\JupyterLab\\spikesim\\Lib\\site-packages\\pandas\\core\\computation\\expr.py:421\u001b[0m, in \u001b[0;36mBaseExprVisitor.visit_Module\u001b[1;34m(self, node, **kwargs)\u001b[0m\n\u001b[0;32m    419\u001b[0m     \u001b[38;5;28;01mraise\u001b[39;00m \u001b[38;5;167;01mSyntaxError\u001b[39;00m(\u001b[38;5;124m\"\u001b[39m\u001b[38;5;124monly a single expression is allowed\u001b[39m\u001b[38;5;124m\"\u001b[39m)\n\u001b[0;32m    420\u001b[0m expr \u001b[38;5;241m=\u001b[39m node\u001b[38;5;241m.\u001b[39mbody[\u001b[38;5;241m0\u001b[39m]\n\u001b[1;32m--> 421\u001b[0m \u001b[38;5;28;01mreturn\u001b[39;00m \u001b[38;5;28;43mself\u001b[39;49m\u001b[38;5;241;43m.\u001b[39;49m\u001b[43mvisit\u001b[49m\u001b[43m(\u001b[49m\u001b[43mexpr\u001b[49m\u001b[43m,\u001b[49m\u001b[43m \u001b[49m\u001b[38;5;241;43m*\u001b[39;49m\u001b[38;5;241;43m*\u001b[39;49m\u001b[43mkwargs\u001b[49m\u001b[43m)\u001b[49m\n",
      "File \u001b[1;32mH:\\JupyterLab\\spikesim\\Lib\\site-packages\\pandas\\core\\computation\\expr.py:415\u001b[0m, in \u001b[0;36mBaseExprVisitor.visit\u001b[1;34m(self, node, **kwargs)\u001b[0m\n\u001b[0;32m    413\u001b[0m method \u001b[38;5;241m=\u001b[39m \u001b[38;5;124m\"\u001b[39m\u001b[38;5;124mvisit_\u001b[39m\u001b[38;5;124m\"\u001b[39m \u001b[38;5;241m+\u001b[39m \u001b[38;5;28mtype\u001b[39m(node)\u001b[38;5;241m.\u001b[39m\u001b[38;5;18m__name__\u001b[39m\n\u001b[0;32m    414\u001b[0m visitor \u001b[38;5;241m=\u001b[39m \u001b[38;5;28mgetattr\u001b[39m(\u001b[38;5;28mself\u001b[39m, method)\n\u001b[1;32m--> 415\u001b[0m \u001b[38;5;28;01mreturn\u001b[39;00m \u001b[43mvisitor\u001b[49m\u001b[43m(\u001b[49m\u001b[43mnode\u001b[49m\u001b[43m,\u001b[49m\u001b[43m \u001b[49m\u001b[38;5;241;43m*\u001b[39;49m\u001b[38;5;241;43m*\u001b[39;49m\u001b[43mkwargs\u001b[49m\u001b[43m)\u001b[49m\n",
      "File \u001b[1;32mH:\\JupyterLab\\spikesim\\Lib\\site-packages\\pandas\\core\\computation\\expr.py:424\u001b[0m, in \u001b[0;36mBaseExprVisitor.visit_Expr\u001b[1;34m(self, node, **kwargs)\u001b[0m\n\u001b[0;32m    423\u001b[0m \u001b[38;5;28;01mdef\u001b[39;00m \u001b[38;5;21mvisit_Expr\u001b[39m(\u001b[38;5;28mself\u001b[39m, node, \u001b[38;5;241m*\u001b[39m\u001b[38;5;241m*\u001b[39mkwargs):\n\u001b[1;32m--> 424\u001b[0m     \u001b[38;5;28;01mreturn\u001b[39;00m \u001b[38;5;28;43mself\u001b[39;49m\u001b[38;5;241;43m.\u001b[39;49m\u001b[43mvisit\u001b[49m\u001b[43m(\u001b[49m\u001b[43mnode\u001b[49m\u001b[38;5;241;43m.\u001b[39;49m\u001b[43mvalue\u001b[49m\u001b[43m,\u001b[49m\u001b[43m \u001b[49m\u001b[38;5;241;43m*\u001b[39;49m\u001b[38;5;241;43m*\u001b[39;49m\u001b[43mkwargs\u001b[49m\u001b[43m)\u001b[49m\n",
      "File \u001b[1;32mH:\\JupyterLab\\spikesim\\Lib\\site-packages\\pandas\\core\\computation\\expr.py:415\u001b[0m, in \u001b[0;36mBaseExprVisitor.visit\u001b[1;34m(self, node, **kwargs)\u001b[0m\n\u001b[0;32m    413\u001b[0m method \u001b[38;5;241m=\u001b[39m \u001b[38;5;124m\"\u001b[39m\u001b[38;5;124mvisit_\u001b[39m\u001b[38;5;124m\"\u001b[39m \u001b[38;5;241m+\u001b[39m \u001b[38;5;28mtype\u001b[39m(node)\u001b[38;5;241m.\u001b[39m\u001b[38;5;18m__name__\u001b[39m\n\u001b[0;32m    414\u001b[0m visitor \u001b[38;5;241m=\u001b[39m \u001b[38;5;28mgetattr\u001b[39m(\u001b[38;5;28mself\u001b[39m, method)\n\u001b[1;32m--> 415\u001b[0m \u001b[38;5;28;01mreturn\u001b[39;00m \u001b[43mvisitor\u001b[49m\u001b[43m(\u001b[49m\u001b[43mnode\u001b[49m\u001b[43m,\u001b[49m\u001b[43m \u001b[49m\u001b[38;5;241;43m*\u001b[39;49m\u001b[38;5;241;43m*\u001b[39;49m\u001b[43mkwargs\u001b[49m\u001b[43m)\u001b[49m\n",
      "File \u001b[1;32mH:\\JupyterLab\\spikesim\\Lib\\site-packages\\pandas\\core\\computation\\expr.py:723\u001b[0m, in \u001b[0;36mBaseExprVisitor.visit_Compare\u001b[1;34m(self, node, **kwargs)\u001b[0m\n\u001b[0;32m    721\u001b[0m     op \u001b[38;5;241m=\u001b[39m \u001b[38;5;28mself\u001b[39m\u001b[38;5;241m.\u001b[39mtranslate_In(ops[\u001b[38;5;241m0\u001b[39m])\n\u001b[0;32m    722\u001b[0m     binop \u001b[38;5;241m=\u001b[39m ast\u001b[38;5;241m.\u001b[39mBinOp(op\u001b[38;5;241m=\u001b[39mop, left\u001b[38;5;241m=\u001b[39mnode\u001b[38;5;241m.\u001b[39mleft, right\u001b[38;5;241m=\u001b[39mcomps[\u001b[38;5;241m0\u001b[39m])\n\u001b[1;32m--> 723\u001b[0m     \u001b[38;5;28;01mreturn\u001b[39;00m \u001b[38;5;28;43mself\u001b[39;49m\u001b[38;5;241;43m.\u001b[39;49m\u001b[43mvisit\u001b[49m\u001b[43m(\u001b[49m\u001b[43mbinop\u001b[49m\u001b[43m)\u001b[49m\n\u001b[0;32m    725\u001b[0m \u001b[38;5;66;03m# recursive case: we have a chained comparison, a CMP b CMP c, etc.\u001b[39;00m\n\u001b[0;32m    726\u001b[0m left \u001b[38;5;241m=\u001b[39m node\u001b[38;5;241m.\u001b[39mleft\n",
      "File \u001b[1;32mH:\\JupyterLab\\spikesim\\Lib\\site-packages\\pandas\\core\\computation\\expr.py:415\u001b[0m, in \u001b[0;36mBaseExprVisitor.visit\u001b[1;34m(self, node, **kwargs)\u001b[0m\n\u001b[0;32m    413\u001b[0m method \u001b[38;5;241m=\u001b[39m \u001b[38;5;124m\"\u001b[39m\u001b[38;5;124mvisit_\u001b[39m\u001b[38;5;124m\"\u001b[39m \u001b[38;5;241m+\u001b[39m \u001b[38;5;28mtype\u001b[39m(node)\u001b[38;5;241m.\u001b[39m\u001b[38;5;18m__name__\u001b[39m\n\u001b[0;32m    414\u001b[0m visitor \u001b[38;5;241m=\u001b[39m \u001b[38;5;28mgetattr\u001b[39m(\u001b[38;5;28mself\u001b[39m, method)\n\u001b[1;32m--> 415\u001b[0m \u001b[38;5;28;01mreturn\u001b[39;00m \u001b[43mvisitor\u001b[49m\u001b[43m(\u001b[49m\u001b[43mnode\u001b[49m\u001b[43m,\u001b[49m\u001b[43m \u001b[49m\u001b[38;5;241;43m*\u001b[39;49m\u001b[38;5;241;43m*\u001b[39;49m\u001b[43mkwargs\u001b[49m\u001b[43m)\u001b[49m\n",
      "File \u001b[1;32mH:\\JupyterLab\\spikesim\\Lib\\site-packages\\pandas\\core\\computation\\expr.py:536\u001b[0m, in \u001b[0;36mBaseExprVisitor.visit_BinOp\u001b[1;34m(self, node, **kwargs)\u001b[0m\n\u001b[0;32m    535\u001b[0m \u001b[38;5;28;01mdef\u001b[39;00m \u001b[38;5;21mvisit_BinOp\u001b[39m(\u001b[38;5;28mself\u001b[39m, node, \u001b[38;5;241m*\u001b[39m\u001b[38;5;241m*\u001b[39mkwargs):\n\u001b[1;32m--> 536\u001b[0m     op, op_class, left, right \u001b[38;5;241m=\u001b[39m \u001b[38;5;28;43mself\u001b[39;49m\u001b[38;5;241;43m.\u001b[39;49m\u001b[43m_maybe_transform_eq_ne\u001b[49m\u001b[43m(\u001b[49m\u001b[43mnode\u001b[49m\u001b[43m)\u001b[49m\n\u001b[0;32m    537\u001b[0m     left, right \u001b[38;5;241m=\u001b[39m \u001b[38;5;28mself\u001b[39m\u001b[38;5;241m.\u001b[39m_maybe_downcast_constants(left, right)\n\u001b[0;32m    538\u001b[0m     \u001b[38;5;28;01mreturn\u001b[39;00m \u001b[38;5;28mself\u001b[39m\u001b[38;5;241m.\u001b[39m_maybe_evaluate_binop(op, op_class, left, right)\n",
      "File \u001b[1;32mH:\\JupyterLab\\spikesim\\Lib\\site-packages\\pandas\\core\\computation\\expr.py:456\u001b[0m, in \u001b[0;36mBaseExprVisitor._maybe_transform_eq_ne\u001b[1;34m(self, node, left, right)\u001b[0m\n\u001b[0;32m    454\u001b[0m \u001b[38;5;28;01mdef\u001b[39;00m \u001b[38;5;21m_maybe_transform_eq_ne\u001b[39m(\u001b[38;5;28mself\u001b[39m, node, left\u001b[38;5;241m=\u001b[39m\u001b[38;5;28;01mNone\u001b[39;00m, right\u001b[38;5;241m=\u001b[39m\u001b[38;5;28;01mNone\u001b[39;00m):\n\u001b[0;32m    455\u001b[0m     \u001b[38;5;28;01mif\u001b[39;00m left \u001b[38;5;129;01mis\u001b[39;00m \u001b[38;5;28;01mNone\u001b[39;00m:\n\u001b[1;32m--> 456\u001b[0m         left \u001b[38;5;241m=\u001b[39m \u001b[38;5;28;43mself\u001b[39;49m\u001b[38;5;241;43m.\u001b[39;49m\u001b[43mvisit\u001b[49m\u001b[43m(\u001b[49m\u001b[43mnode\u001b[49m\u001b[38;5;241;43m.\u001b[39;49m\u001b[43mleft\u001b[49m\u001b[43m,\u001b[49m\u001b[43m \u001b[49m\u001b[43mside\u001b[49m\u001b[38;5;241;43m=\u001b[39;49m\u001b[38;5;124;43m\"\u001b[39;49m\u001b[38;5;124;43mleft\u001b[39;49m\u001b[38;5;124;43m\"\u001b[39;49m\u001b[43m)\u001b[49m\n\u001b[0;32m    457\u001b[0m     \u001b[38;5;28;01mif\u001b[39;00m right \u001b[38;5;129;01mis\u001b[39;00m \u001b[38;5;28;01mNone\u001b[39;00m:\n\u001b[0;32m    458\u001b[0m         right \u001b[38;5;241m=\u001b[39m \u001b[38;5;28mself\u001b[39m\u001b[38;5;241m.\u001b[39mvisit(node\u001b[38;5;241m.\u001b[39mright, side\u001b[38;5;241m=\u001b[39m\u001b[38;5;124m\"\u001b[39m\u001b[38;5;124mright\u001b[39m\u001b[38;5;124m\"\u001b[39m)\n",
      "File \u001b[1;32mH:\\JupyterLab\\spikesim\\Lib\\site-packages\\pandas\\core\\computation\\expr.py:415\u001b[0m, in \u001b[0;36mBaseExprVisitor.visit\u001b[1;34m(self, node, **kwargs)\u001b[0m\n\u001b[0;32m    413\u001b[0m method \u001b[38;5;241m=\u001b[39m \u001b[38;5;124m\"\u001b[39m\u001b[38;5;124mvisit_\u001b[39m\u001b[38;5;124m\"\u001b[39m \u001b[38;5;241m+\u001b[39m \u001b[38;5;28mtype\u001b[39m(node)\u001b[38;5;241m.\u001b[39m\u001b[38;5;18m__name__\u001b[39m\n\u001b[0;32m    414\u001b[0m visitor \u001b[38;5;241m=\u001b[39m \u001b[38;5;28mgetattr\u001b[39m(\u001b[38;5;28mself\u001b[39m, method)\n\u001b[1;32m--> 415\u001b[0m \u001b[38;5;28;01mreturn\u001b[39;00m \u001b[43mvisitor\u001b[49m\u001b[43m(\u001b[49m\u001b[43mnode\u001b[49m\u001b[43m,\u001b[49m\u001b[43m \u001b[49m\u001b[38;5;241;43m*\u001b[39;49m\u001b[38;5;241;43m*\u001b[39;49m\u001b[43mkwargs\u001b[49m\u001b[43m)\u001b[49m\n",
      "File \u001b[1;32mH:\\JupyterLab\\spikesim\\Lib\\site-packages\\pandas\\core\\computation\\expr.py:549\u001b[0m, in \u001b[0;36mBaseExprVisitor.visit_Name\u001b[1;34m(self, node, **kwargs)\u001b[0m\n\u001b[0;32m    548\u001b[0m \u001b[38;5;28;01mdef\u001b[39;00m \u001b[38;5;21mvisit_Name\u001b[39m(\u001b[38;5;28mself\u001b[39m, node, \u001b[38;5;241m*\u001b[39m\u001b[38;5;241m*\u001b[39mkwargs):\n\u001b[1;32m--> 549\u001b[0m     \u001b[38;5;28;01mreturn\u001b[39;00m \u001b[38;5;28;43mself\u001b[39;49m\u001b[38;5;241;43m.\u001b[39;49m\u001b[43mterm_type\u001b[49m\u001b[43m(\u001b[49m\u001b[43mnode\u001b[49m\u001b[38;5;241;43m.\u001b[39;49m\u001b[43mid\u001b[49m\u001b[43m,\u001b[49m\u001b[43m \u001b[49m\u001b[38;5;28;43mself\u001b[39;49m\u001b[38;5;241;43m.\u001b[39;49m\u001b[43menv\u001b[49m\u001b[43m,\u001b[49m\u001b[43m \u001b[49m\u001b[38;5;241;43m*\u001b[39;49m\u001b[38;5;241;43m*\u001b[39;49m\u001b[43mkwargs\u001b[49m\u001b[43m)\u001b[49m\n",
      "File \u001b[1;32mH:\\JupyterLab\\spikesim\\Lib\\site-packages\\pandas\\core\\computation\\ops.py:85\u001b[0m, in \u001b[0;36mTerm.__init__\u001b[1;34m(self, name, env, side, encoding)\u001b[0m\n\u001b[0;32m     83\u001b[0m tname \u001b[38;5;241m=\u001b[39m \u001b[38;5;28mstr\u001b[39m(name)\n\u001b[0;32m     84\u001b[0m \u001b[38;5;28mself\u001b[39m\u001b[38;5;241m.\u001b[39mis_local \u001b[38;5;241m=\u001b[39m tname\u001b[38;5;241m.\u001b[39mstartswith(LOCAL_TAG) \u001b[38;5;129;01mor\u001b[39;00m tname \u001b[38;5;129;01min\u001b[39;00m DEFAULT_GLOBALS\n\u001b[1;32m---> 85\u001b[0m \u001b[38;5;28mself\u001b[39m\u001b[38;5;241m.\u001b[39m_value \u001b[38;5;241m=\u001b[39m \u001b[38;5;28;43mself\u001b[39;49m\u001b[38;5;241;43m.\u001b[39;49m\u001b[43m_resolve_name\u001b[49m\u001b[43m(\u001b[49m\u001b[43m)\u001b[49m\n\u001b[0;32m     86\u001b[0m \u001b[38;5;28mself\u001b[39m\u001b[38;5;241m.\u001b[39mencoding \u001b[38;5;241m=\u001b[39m encoding\n",
      "File \u001b[1;32mH:\\JupyterLab\\spikesim\\Lib\\site-packages\\pandas\\core\\computation\\ops.py:109\u001b[0m, in \u001b[0;36mTerm._resolve_name\u001b[1;34m(self)\u001b[0m\n\u001b[0;32m    104\u001b[0m \u001b[38;5;28;01mif\u001b[39;00m local_name \u001b[38;5;129;01min\u001b[39;00m \u001b[38;5;28mself\u001b[39m\u001b[38;5;241m.\u001b[39menv\u001b[38;5;241m.\u001b[39mscope \u001b[38;5;129;01mand\u001b[39;00m \u001b[38;5;28misinstance\u001b[39m(\n\u001b[0;32m    105\u001b[0m     \u001b[38;5;28mself\u001b[39m\u001b[38;5;241m.\u001b[39menv\u001b[38;5;241m.\u001b[39mscope[local_name], \u001b[38;5;28mtype\u001b[39m\n\u001b[0;32m    106\u001b[0m ):\n\u001b[0;32m    107\u001b[0m     is_local \u001b[38;5;241m=\u001b[39m \u001b[38;5;28;01mFalse\u001b[39;00m\n\u001b[1;32m--> 109\u001b[0m res \u001b[38;5;241m=\u001b[39m \u001b[38;5;28;43mself\u001b[39;49m\u001b[38;5;241;43m.\u001b[39;49m\u001b[43menv\u001b[49m\u001b[38;5;241;43m.\u001b[39;49m\u001b[43mresolve\u001b[49m\u001b[43m(\u001b[49m\u001b[43mlocal_name\u001b[49m\u001b[43m,\u001b[49m\u001b[43m \u001b[49m\u001b[43mis_local\u001b[49m\u001b[38;5;241;43m=\u001b[39;49m\u001b[43mis_local\u001b[49m\u001b[43m)\u001b[49m\n\u001b[0;32m    110\u001b[0m \u001b[38;5;28mself\u001b[39m\u001b[38;5;241m.\u001b[39mupdate(res)\n\u001b[0;32m    112\u001b[0m \u001b[38;5;28;01mif\u001b[39;00m \u001b[38;5;28mhasattr\u001b[39m(res, \u001b[38;5;124m\"\u001b[39m\u001b[38;5;124mndim\u001b[39m\u001b[38;5;124m\"\u001b[39m) \u001b[38;5;129;01mand\u001b[39;00m res\u001b[38;5;241m.\u001b[39mndim \u001b[38;5;241m>\u001b[39m \u001b[38;5;241m2\u001b[39m:\n",
      "File \u001b[1;32mH:\\JupyterLab\\spikesim\\Lib\\site-packages\\pandas\\core\\computation\\scope.py:211\u001b[0m, in \u001b[0;36mScope.resolve\u001b[1;34m(self, key, is_local)\u001b[0m\n\u001b[0;32m    209\u001b[0m     \u001b[38;5;28;01mreturn\u001b[39;00m \u001b[38;5;28mself\u001b[39m\u001b[38;5;241m.\u001b[39mtemps[key]\n\u001b[0;32m    210\u001b[0m \u001b[38;5;28;01mexcept\u001b[39;00m \u001b[38;5;167;01mKeyError\u001b[39;00m \u001b[38;5;28;01mas\u001b[39;00m err:\n\u001b[1;32m--> 211\u001b[0m     \u001b[38;5;28;01mraise\u001b[39;00m UndefinedVariableError(key, is_local) \u001b[38;5;28;01mfrom\u001b[39;00m \u001b[38;5;21;01merr\u001b[39;00m\n",
      "\u001b[1;31mUndefinedVariableError\u001b[0m: name 'sp' is not defined"
     ]
    }
   ],
   "source": [
    "plt.plot(d2.query(\"sp==18\").sort_values(\"sec\").error_agg.values)"
   ]
  },
  {
   "cell_type": "code",
   "execution_count": null,
   "id": "73d64896-db4b-448f-919d-896d5b884b80",
   "metadata": {
    "tags": []
   },
   "outputs": [],
   "source": [
    "for i in range(ZOO_POP):\n",
    "    plt.plot(d2.query(\"sp==@i\").sort_values(\"sec\").error_agg.values)"
   ]
  },
  {
   "cell_type": "code",
   "execution_count": 15,
   "id": "feb30c74-cb42-4fd6-84f7-5e4d8c49553f",
   "metadata": {
    "tags": []
   },
   "outputs": [
    {
     "data": {
      "application/vnd.jupyter.widget-view+json": {
       "model_id": "7fed1762c3164968964108a9f3c734a2",
       "version_major": 2,
       "version_minor": 0
      },
      "text/plain": [
       "VBox(children=(HBox(children=(BoundedIntText(value=134, layout=Layout(height='30px', width='50px'), max=255, m…"
      ]
     },
     "execution_count": 21,
     "metadata": {},
     "output_type": "execute_result"
    }
   ],
   "source": [
    "import ipywidgets as widgets\n",
    "\n",
    "def arrowed_spines(fig, ax):\n",
    "\n",
    "    xmin, xmax = ax.get_xlim() \n",
    "    ymin, ymax = ax.get_ylim()\n",
    "\n",
    "    # removing the default axis on all sides:\n",
    "    for side in ['bottom','right','top','left']:\n",
    "        ax.spines[side].set_visible(False)\n",
    "\n",
    "    # get width and height of axes object to compute \n",
    "    # matching arrowhead length and width\n",
    "    dps = fig.dpi_scale_trans.inverted()\n",
    "    bbox = ax.get_window_extent().transformed(dps)\n",
    "    width, height = bbox.width, bbox.height\n",
    "\n",
    "    # manual arrowhead width and length\n",
    "    hw = 1./20.\n",
    "    hl = 40.\n",
    "    lw = .7 # axis line width\n",
    "    ohg = 0.3 # arrow overhang\n",
    "\n",
    "    # compute matching arrowhead length and width\n",
    "    yhw = hw/(ymax-ymin)*(xmax-xmin)* height/width \n",
    "    yhl = hl/(xmax-xmin)*(ymax-ymin)* width/height\n",
    "\n",
    "    # draw x and y axis\n",
    "    ax.arrow(xmin, 0, xmax-xmin, 0., fc='k', ec='k', lw = lw, \n",
    "             head_width=hw, head_length=hl, overhang = ohg, \n",
    "             length_includes_head= True, clip_on = False, zorder=999) \n",
    "\n",
    "    ax.arrow(0, ymin, 0., ymax-ymin, fc='k', ec='k', lw = lw, \n",
    "             head_width=yhw, head_length=yhl, overhang = ohg, \n",
    "             length_includes_head= True, clip_on = False, zorder=999)\n",
    "#загрузить исходные веса\n",
    "inputs = [[] for _ in range(4)]\n",
    "array = np.array\n",
    "presynaptic = net.nodes.loc[net.nodes.type==\"presynaptic\"].index.tolist()\n",
    "save = {77: array([134, 103, 45,   53,  30,  96, 14, 126, 153,  185,  175,  36]),\n",
    " 84: array([ 100,  173,   1,  158, 3, 153, 147, 70, 127, 1,   172,  20]),\n",
    " 91: array([199, 135,  34,   5,  40, 102, 154,  73,  24, 116,   3,  86]),\n",
    " 98: array([56,  89,  51, 130,  2, 116, 68,   115, 110,  182, 91,   80])}\n",
    "\n",
    "best_weights = save#\n",
    "#best_weights=d2.loc[d2[\"error_agg\"].abs().sort_values().index[3]].weights\n",
    "weights = best_weights\n",
    "\n",
    "for i in range(4):\n",
    "    for _ in range(12):\n",
    "        inputs[i].append(widgets.BoundedIntText(\n",
    "            value=best_weights[presynaptic[i]][_],\n",
    "            min=1,\n",
    "            max=255,\n",
    "            step=1,\n",
    "            description='',\n",
    "            layout=widgets.Layout(width='50px', height='30px')\n",
    "        ))\n",
    "    inputs[i].append(widgets.BoundedFloatText(\n",
    "        value=1,\n",
    "        min=0,\n",
    "        max=10,\n",
    "        step=0.1,\n",
    "        description='Cf'\n",
    "    ))\n",
    "#\n",
    "def rescale(nr):\n",
    "    def inner(_):\n",
    "        global weights\n",
    "        for nc in range(12):\n",
    "            inputs[nr][nc].value = int(inputs[nr][12].value*weights[presynaptic[nr]][nc])\n",
    "    return inner\n",
    "#\n",
    "\n",
    "scalers = []\n",
    "for i in range(4):    \n",
    "    scalers.append(rescale(i))\n",
    "    inputs[i][-1].observe(scalers[i])\n",
    "#по нажатию кнопки - обновить всё\n",
    "def get_weights():\n",
    "    global weights\n",
    "    weights = dict(list(zip(presynaptic, [np.array([c.value for c in row[:12]]) for row in inputs])))\n",
    "    return weights\n",
    "\n",
    "def run_new_weights(_):\n",
    "    net, _, _ = new_network()\n",
    "    net.weights.weights = get_weights()\n",
    "    net.layer_params[\"learning\"][-1] = False\n",
    "    \n",
    "    out_test = net.feed_raw(test_data)\n",
    "    fig, ax = plt.subplots(figsize=(6,3))\n",
    "    s = [x+3 for x in presynaptic]\n",
    "    for n in s:\n",
    "        ax.step(out_test.index.tolist(), out_test[n], lw=2)\n",
    "    #ax.legend([1, 2, 3, 4], loc=\"center right\")\n",
    "    ax.set_xlim(0, 1399)\n",
    "    ax.set_ylim(0.001, 1.2)\n",
    "    ax.set_yticks(())\n",
    "    arrowed_spines(fig, ax)\n",
    "    ax.spines[['left', 'bottom']].set_position('zero')\n",
    "    ax.spines['right'].set_visible(False)\n",
    "    ax.spines['top'].set_visible(False)\n",
    "    with graph:\n",
    "        graph.clear_output()\n",
    "        display(plt.show())\n",
    "    for row in inputs:\n",
    "        row[12].value = 1\n",
    "\n",
    "draw = Button(description=\"Draw\")\n",
    "draw.on_click(run_new_weights)\n",
    "graph = Output()\n",
    "run_new_weights(None)\n",
    "VBox([HBox(i) for i in inputs]+[draw, graph])"
   ]
  },
  {
   "cell_type": "code",
   "execution_count": 17,
   "id": "3cdf270e-53d5-4ec2-9e13-a0b496d25109",
   "metadata": {
    "tags": []
   },
   "outputs": [
    {
     "data": {
      "text/plain": [
       "<Figure size 640x480 with 0 Axes>"
      ]
     },
     "metadata": {},
     "output_type": "display_data"
    }
   ],
   "source": []
  },
  {
   "cell_type": "code",
   "execution_count": 22,
   "id": "084c5d92-7583-4280-927d-9801c279e1f3",
   "metadata": {
    "tags": []
   },
   "outputs": [],
   "source": [
    "def prep(data):\n",
    "    r = data.copy()\n",
    "    for i in range(len(r), 0, -1):\n",
    "        for _ in range(9):\n",
    "            r.insert(i, 'off')\n",
    "    return r\n",
    "\n",
    "net, _, _ = new_network()\n",
    "net.weights.weights = get_weights()\n",
    "net.layer_params['learning'][-1] = False\n",
    "net.layer_params['thres'][-1] = 1500\n",
    "data = ['c', 'lr', 'f']\n",
    "out = net.feed_raw([data_rows[x] for x in prep(data[::-1])])\n",
    "out2 = net.feed_raw([data_rows[x] for x in prep(data)])"
   ]
  },
  {
   "cell_type": "code",
   "execution_count": 23,
   "id": "3596cbc0-aea4-4c05-8088-3e51ee54e343",
   "metadata": {},
   "outputs": [
    {
     "data": {
      "text/plain": [
       "array([], dtype=float64)"
      ]
     },
     "execution_count": 23,
     "metadata": {},
     "output_type": "execute_result"
    }
   ],
   "source": [
    "a"
   ]
  },
  {
   "cell_type": "code",
   "execution_count": 24,
   "id": "391a2075-647a-4de5-b3a7-548a4c9c59ae",
   "metadata": {
    "tags": []
   },
   "outputs": [
    {
     "ename": "NameError",
     "evalue": "name 'node' is not defined",
     "output_type": "error",
     "traceback": [
      "\u001b[1;31m---------------------------------------------------------------------------\u001b[0m",
      "\u001b[1;31mNameError\u001b[0m                                 Traceback (most recent call last)",
      "Cell \u001b[1;32mIn[24], line 1\u001b[0m\n\u001b[1;32m----> 1\u001b[0m out[\u001b[43mnode\u001b[49m]\n",
      "\u001b[1;31mNameError\u001b[0m: name 'node' is not defined"
     ]
    }
   ],
   "source": [
    "out[node]"
   ]
  },
  {
   "cell_type": "code",
   "execution_count": 29,
   "id": "a5a36a5b-b120-4648-8c66-7b942942bad4",
   "metadata": {
    "tags": []
   },
   "outputs": [
    {
     "data": {
      "image/png": "[encoded data removed]",
      "text/plain": [
       "<Figure size 640x480 with 1 Axes>"
      ]
     },
     "metadata": {},
     "output_type": "display_data"
    }
   ],
   "source": [
    "data = ['c', 'lr', 'f']\n",
    "node = presynaptic[1]\n",
    "a = out[node]\n",
    "b = out2[node]\n",
    "\n",
    "fig, ax = plt.subplots(layout='constrained')\n",
    "\n",
    "ax.plot(a, lw=3)\n",
    "ax.plot(b, lw=3)\n",
    "ax.plot((0,30), (1150, 1150), '--k')\n",
    "#ax.grid(True)\n",
    "ax.spines[[\"left\", \"top\", \"bottom\", \"right\"]].set_visible(False)\n",
    "ax.set_yticks(())\n",
    "ax.set_xticks(())\n",
    "plt.savefig(\"direction.png\", dpi=500)"
   ]
  },
  {
   "cell_type": "code",
   "execution_count": 26,
   "id": "bbe982c5-4d4e-4447-8969-ed3354aa27ba",
   "metadata": {
    "tags": []
   },
   "outputs": [
    {
     "data": {
      "text/plain": [
       "463.68971040408826"
      ]
     },
     "execution_count": 26,
     "metadata": {},
     "output_type": "execute_result"
    }
   ],
   "source": [
    "((b-a).max()-(b-a).min())"
   ]
  },
  {
   "cell_type": "code",
   "execution_count": 27,
   "id": "87cca0cb-3e9a-4916-8271-d5b5a2c0f33e",
   "metadata": {
    "tags": []
   },
   "outputs": [
    {
     "data": {
      "text/plain": [
       "['f', 'lr', 'c']"
      ]
     },
     "execution_count": 27,
     "metadata": {},
     "output_type": "execute_result"
    }
   ],
   "source": [
    "data[::-1]"
   ]
  },
  {
   "cell_type": "code",
   "execution_count": null,
   "id": "e7422e17-d2e8-4da6-b6d5-17e7287fb18f",
   "metadata": {
    "tags": []
   },
   "outputs": [],
   "source": [
    "a = np.array([1,2,3,4,5,6, 1,2,3,4,5,6])"
   ]
  },
  {
   "cell_type": "code",
   "execution_count": null,
   "id": "64cdf61b-5a0f-48cc-973d-2d476a46d7d2",
   "metadata": {
    "tags": []
   },
   "outputs": [],
   "source": [
    "a.reshape(2, 6)"
   ]
  },
  {
   "cell_type": "code",
   "execution_count": null,
   "id": "da71a888-766c-469d-a696-789c375973aa",
   "metadata": {},
   "outputs": [],
   "source": [
    "np.array([1,2,3]),np.array([3,2,1]))"
   ]
  },
  {
   "cell_type": "code",
   "execution_count": null,
   "id": "7482242b-2f59-4ec4-9452-c66e0eb707b8",
   "metadata": {
    "tags": []
   },
   "outputs": [],
   "source": [
    "a = get_weights()[98].reshape((2,6))[[1,0]]\n",
    "a[:,3:]-a[:,:3]"
   ]
  },
  {
   "cell_type": "code",
   "execution_count": null,
   "id": "225991ca-8683-4e00-bc1a-e6495b810882",
   "metadata": {
    "tags": []
   },
   "outputs": [],
   "source": []
  },
  {
   "cell_type": "code",
   "execution_count": null,
   "id": "0744cdf6-0446-4fd8-afcf-3987ea9a15c0",
   "metadata": {},
   "outputs": [],
   "source": []
  },
  {
   "cell_type": "code",
   "execution_count": 31,
   "id": "64711dab-eeb3-4054-a884-f36c6afece11",
   "metadata": {},
   "outputs": [
    {
     "data": {
      "image/png": "[encoded data removed]",
      "text/plain": [
       "<Figure size 640x480 with 2 Axes>"
      ]
     },
     "metadata": {},
     "output_type": "display_data"
    }
   ],
   "source": [
    "a= plt.imshow(get_weights().values())\n",
    "plt.xticks(())\n",
    "plt.yticks(())\n",
    "plt.colorbar(a, aspect=5, )\n",
    "plt.savefig(\"dendrite_weights.png\", dpi=500)"
   ]
  },
  {
   "cell_type": "code",
   "execution_count": null,
   "id": "10364cb4-eff0-4fcf-b7d8-86440c8b651a",
   "metadata": {},
   "outputs": [],
   "source": []
  }
 ],
 "metadata": {
  "kernelspec": {
   "display_name": "spikesim",
   "language": "python",
   "name": "spikesim"
  },
  "language_info": {
   "codemirror_mode": {
    "name": "ipython",
    "version": 3
   },
   "file_extension": ".py",
   "mimetype": "text/x-python",
   "name": "python",
   "nbconvert_exporter": "python",
   "pygments_lexer": "ipython3",
   "version": "3.11.2"
  }
 },
 "nbformat": 4,
 "nbformat_minor": 5
}
