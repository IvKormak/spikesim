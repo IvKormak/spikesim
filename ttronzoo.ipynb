{
 "cells": [
  {
   "cell_type": "code",
   "execution_count": 1,
   "id": "b1887af3-bc21-43fc-b158-5175f23d2327",
   "metadata": {
    "tags": []
   },
   "outputs": [],
   "source": [
    "import pandas as pd\n",
    "import numpy as np\n",
    "from matplotlib import pyplot as plt\n",
    "from tqdm.notebook import trange\n",
    "from module import *"
   ]
  },
  {
   "cell_type": "code",
   "execution_count": 2,
   "id": "7dc3e482-9323-40a8-82b6-304265dc3d7d",
   "metadata": {
    "tags": []
   },
   "outputs": [],
   "source": [
    "data_rows = {\n",
    "    \"e\":  {0: 0, 1: 0, 2: 0, 3: 1, 4: 1, 5: 1},\n",
    "    \"r\":  {0: 0, 1: 0, 2: 1, 3: 1, 4: 1, 5: 0},\n",
    "    \"c\":  {0: 0, 1: 1, 2: 0, 3: 1, 4: 0, 5: 1},\n",
    "    \"cr\": {0: 0, 1: 1, 2: 1, 3: 1, 4: 0, 5: 0},\n",
    "    \"l\":  {0: 1, 1: 0, 2: 0, 3: 0, 4: 1, 5: 1},\n",
    "    \"lr\": {0: 1, 1: 0, 2: 1, 3: 0, 4: 1, 5: 0},\n",
    "    \"lc\": {0: 1, 1: 1, 2: 0, 3: 0, 4: 0, 5: 1},\n",
    "    \"f\":  {0: 1, 1: 1, 2: 1, 3: 0, 4: 0, 5: 0},\n",
    "    \"off\":{0: 0, 1: 0, 2: 0, 3: 0, 4: 0, 5: 0}\n",
    "}\n",
    "numbers = {\n",
    "    0: \"f lr lr lr f\",\n",
    "    1: \"c c c c c\",\n",
    "    2: \"f r f l f\",\n",
    "    3: \"f r f r f\",\n",
    "    4: \"lr lr f r r\",\n",
    "    5: \"f l f r f\",\n",
    "    6: \"cr l f lr f\",\n",
    "    7: \"f r r r r\",\n",
    "    8: \"f lr f lr f\",\n",
    "    9: \"f lr f r lc\",\n",
    "}\n",
    "empty = np.array([[0,0,0,1,1,1],[0,0,0,1,1,1],[0,0,0,1,1,1],[0,0,0,1,1,1],[0,0,0,1,1,1]])\n",
    "\n",
    "numbers_rows = {k: [data_rows[vv] for vv in v.split(\" \")] for k, v in numbers.items()}\n",
    "\n",
    "from ipywidgets import SelectMultiple, Select, Button, HBox, VBox, Output, IntRangeSlider, Checkbox, Accordion\n",
    "def ui(data):\n",
    "    def update_graph(b):\n",
    "        fig, ax = plt.subplots(figsize=(8,8))\n",
    "        s = np.concatenate(([x.value for x in select_nodes]))\n",
    "        if np.isin('---', s):\n",
    "            s = s[np.where(s != '---')].astype(int)\n",
    "        for n in s:\n",
    "            t = data.index.tolist()\n",
    "            ax.step(t[xw.value[0]:xw.value[1]], data[n][xw.value[0]:xw.value[1]])\n",
    "        ax.legend([int(n) for n in s])\n",
    "        with graph:\n",
    "            graph.clear_output()\n",
    "            display(plt.show())\n",
    "\n",
    "\n",
    "    graph = Output()\n",
    "    layer_select = Select(\n",
    "        options=net.nodes.layer.unique(),\n",
    "        value=0,\n",
    "        description='Слой'\n",
    "    )\n",
    "\n",
    "    type_chboxs = []\n",
    "    for t in net.nodes.type.unique():\n",
    "        type_chboxs.append(Checkbox(\n",
    "            value=True,\n",
    "            description=t,\n",
    "            disabled=False\n",
    "        ))\n",
    "    select_nodes = []\n",
    "    for t in type_chboxs:\n",
    "        v = t.value\n",
    "        if v:\n",
    "            select_nodes.append(\n",
    "                SelectMultiple(\n",
    "                    options=np.insert(np.array(net.nodes.query(f\"type=='{t.description}'\").index.tolist(),dtype=object), 0, '---'),\n",
    "                    description=t.description\n",
    "                )\n",
    "            )\n",
    "            select_nodes[-1].rows = min(len(select_nodes[-1].options), 10)\n",
    "\n",
    "    def on_layer_change(change):\n",
    "        select_nodes = []\n",
    "        for t in type_chboxs:\n",
    "            v = t.value\n",
    "            if v:\n",
    "                select_nodes.append(\n",
    "                    SelectMultiple(\n",
    "                        options=np.insert(np.array(net.nodes.query(f\"type=={t.description}\").index.tolist(),dtype=object), 0, '---'),\n",
    "                        description=t.description\n",
    "                    )\n",
    "                )\n",
    "                select_nodes[-1].rows = min(len(select_nodes[-1].options), 10)\n",
    "\n",
    "    layer_select.observe(on_layer_change, names='value')\n",
    "\n",
    "    xw = IntRangeSlider(\n",
    "        min=data.index.min(),\n",
    "        max=data.index.max(),\n",
    "        value=(data.index.min(), data.index.max()),\n",
    "        description='Окно просмотра',\n",
    "        disabled=False\n",
    "    )\n",
    "    select = Accordion(children=[VBox(type_chboxs), VBox(select_nodes)])\n",
    "    select.selected_index=1\n",
    "    select.set_title(0, 'Типы')\n",
    "    select.set_title(1, 'Ноды')\n",
    "    xw.observe(update_graph, names='value')\n",
    "    [x.observe(update_graph, names='value') for x in select_nodes]\n",
    "    draw = Button(description='Draw')\n",
    "    draw.on_click(update_graph)\n",
    "    return HBox((VBox((xw,select,draw)), graph))"
   ]
  },
  {
   "cell_type": "code",
   "execution_count": 3,
   "id": "c2220dbb-f8d6-4806-87a2-d204fd4231fa",
   "metadata": {
    "tags": []
   },
   "outputs": [],
   "source": [
    "row_time = 10\n",
    "silent_time = 100\n",
    "params_dendrites = {\n",
    "    \"tau_leak\": 1*row_time, \n",
    "    \"tau_inhibitory\": 0,\n",
    "    \"tau_refractory\": 0,\n",
    "    \"tau_ltp\": 2*row_time, \n",
    "    \"thres\": 1400,\n",
    "    \"ainc\": 0.7, \n",
    "    \"adec\": -3, \n",
    "    \"wmax\": 300, \n",
    "    \"wmin\": 1,\n",
    "    \"learning\": True,\n",
    "    \"wta\": True,\n",
    "    \"layer_type\": \"ttron\"\n",
    "}\n",
    "dendrites = [\n",
    "    {\n",
    "        \"connections\":{\n",
    "            0: [0, 1],\n",
    "            1: [0, 1],\n",
    "            2: [0, 1],\n",
    "            3: [0, 1],\n",
    "            4: [0, 1],\n",
    "            5: [0, 1],\n",
    "        }\n",
    "    }, {\n",
    "        \"connections\":{\n",
    "            0: [0, 1],\n",
    "            1: [0, 1],\n",
    "            2: [0, 1],\n",
    "            3: [0, 1],\n",
    "            4: [0, 1],\n",
    "            5: [0, 1],\n",
    "        }\n",
    "    }, {\n",
    "        \"connections\":{\n",
    "            0: [0, 1],\n",
    "            1: [0, 1],\n",
    "            2: [0, 1],\n",
    "            3: [0, 1],\n",
    "            4: [0, 1],\n",
    "            5: [0, 1],\n",
    "        }\n",
    "    }, {\n",
    "        \"connections\":{\n",
    "            0: [0, 1],\n",
    "            1: [0, 1],\n",
    "            2: [0, 1],\n",
    "            3: [0, 1],\n",
    "            4: [0, 1],\n",
    "            5: [0, 1],\n",
    "        }\n",
    "    }, \n",
    "]"
   ]
  },
  {
   "cell_type": "markdown",
   "id": "488b2389-d184-44cc-8b88-fb8a0cb3e582",
   "metadata": {
    "tags": []
   },
   "source": [
    "# 1 Подготовка новой сети"
   ]
  },
  {
   "cell_type": "markdown",
   "id": "316261d7-71a2-4c59-b5e3-c73e318e241d",
   "metadata": {},
   "source": [
    "## Генерация"
   ]
  },
  {
   "cell_type": "code",
   "execution_count": 4,
   "id": "3ef4309d-0043-4b7a-8ab7-2c2f335326ce",
   "metadata": {},
   "outputs": [],
   "source": [
    "def new_network():\n",
    "    net = SpikeNetworkSim(inputs_l=6, dt=1)\n",
    "    teacher_nodes, who_is_who = net.ttron_layer(num_nodes=4, num_cat_inputs=4, delay_depth=6, **params_dendrites)\n",
    "    return net, teacher_nodes, who_is_who\n",
    "net, teacher_nodes, who_is_who = new_network()"
   ]
  },
  {
   "cell_type": "code",
   "execution_count": 5,
   "id": "e85ada37-c161-491f-a7a0-ebdce93d6e99",
   "metadata": {
    "tags": []
   },
   "outputs": [
    {
     "data": {
      "text/html": [
       "<div>\n",
       "<style scoped>\n",
       "    .dataframe tbody tr th:only-of-type {\n",
       "        vertical-align: middle;\n",
       "    }\n",
       "\n",
       "    .dataframe tbody tr th {\n",
       "        vertical-align: top;\n",
       "    }\n",
       "\n",
       "    .dataframe thead th {\n",
       "        text-align: right;\n",
       "    }\n",
       "</style>\n",
       "<table border=\"1\" class=\"dataframe\">\n",
       "  <thead>\n",
       "    <tr style=\"text-align: right;\">\n",
       "      <th></th>\n",
       "      <th>type</th>\n",
       "      <th>listening</th>\n",
       "      <th>broadcasting</th>\n",
       "      <th>priority</th>\n",
       "      <th>layer</th>\n",
       "    </tr>\n",
       "  </thead>\n",
       "  <tbody>\n",
       "    <tr>\n",
       "      <th>89</th>\n",
       "      <td>presynaptic</td>\n",
       "      <td>[0, 1, 2, 3, 4, 5, 36, 37, 38, 39, 40, 41]</td>\n",
       "      <td>[92]</td>\n",
       "      <td>2</td>\n",
       "      <td>0</td>\n",
       "    </tr>\n",
       "    <tr>\n",
       "      <th>96</th>\n",
       "      <td>presynaptic</td>\n",
       "      <td>[0, 1, 2, 3, 4, 5, 36, 37, 38, 39, 40, 41]</td>\n",
       "      <td>[99]</td>\n",
       "      <td>2</td>\n",
       "      <td>0</td>\n",
       "    </tr>\n",
       "    <tr>\n",
       "      <th>103</th>\n",
       "      <td>presynaptic</td>\n",
       "      <td>[0, 1, 2, 3, 4, 5, 36, 37, 38, 39, 40, 41]</td>\n",
       "      <td>[106]</td>\n",
       "      <td>2</td>\n",
       "      <td>0</td>\n",
       "    </tr>\n",
       "    <tr>\n",
       "      <th>110</th>\n",
       "      <td>presynaptic</td>\n",
       "      <td>[0, 1, 2, 3, 4, 5, 36, 37, 38, 39, 40, 41]</td>\n",
       "      <td>[113]</td>\n",
       "      <td>2</td>\n",
       "      <td>0</td>\n",
       "    </tr>\n",
       "  </tbody>\n",
       "</table>\n",
       "</div>"
      ],
      "text/plain": [
       "            type                                   listening broadcasting  \\\n",
       "89   presynaptic  [0, 1, 2, 3, 4, 5, 36, 37, 38, 39, 40, 41]         [92]   \n",
       "96   presynaptic  [0, 1, 2, 3, 4, 5, 36, 37, 38, 39, 40, 41]         [99]   \n",
       "103  presynaptic  [0, 1, 2, 3, 4, 5, 36, 37, 38, 39, 40, 41]        [106]   \n",
       "110  presynaptic  [0, 1, 2, 3, 4, 5, 36, 37, 38, 39, 40, 41]        [113]   \n",
       "\n",
       "     priority  layer  \n",
       "89          2      0  \n",
       "96          2      0  \n",
       "103         2      0  \n",
       "110         2      0  "
      ]
     },
     "execution_count": 5,
     "metadata": {},
     "output_type": "execute_result"
    }
   ],
   "source": [
    "net.nodes.loc[net.nodes.type==\"presynaptic\"]"
   ]
  },
  {
   "cell_type": "markdown",
   "id": "371dd141-afd2-4453-9eab-80593551e19e",
   "metadata": {},
   "source": [
    "# 0 Инициализация наборов данных"
   ]
  },
  {
   "cell_type": "markdown",
   "id": "c61a4346-53bb-4229-9e17-a0255b92740e",
   "metadata": {},
   "source": [
    "## Обучающий датасет"
   ]
  },
  {
   "cell_type": "code",
   "execution_count": 6,
   "id": "ed4e3475-15f4-4c1e-a62b-472502b5ac47",
   "metadata": {
    "tags": []
   },
   "outputs": [],
   "source": [
    "\n",
    "genome = {\n",
    "    1:{25:1, 45:1}, \n",
    "    2:{25:3, 45:2},\n",
    "    3:{25:3, 45:3}, \n",
    "    4:{25:0, 45:3}, \n",
    "    5:{25:2, 45:3},\n",
    "    6:{25:2, 45:0},\n",
    "    7:{25:3, 45:1}, \n",
    "    8:{25:0, 45:0}, \n",
    "    #9:{25:0, 45:1}, \n",
    "    #0:{25:1, 45:1}\n",
    "}\n",
    "pattern_sights = {teacher_nodes[k]: (np.concatenate([(g[25], g[45]) for g in genome.values()])==k).sum() for k in range(4)}\n"
   ]
  },
  {
   "cell_type": "code",
   "execution_count": 7,
   "id": "6fa0048a-fcea-41ae-b6d3-5a2b9f9f27c8",
   "metadata": {},
   "outputs": [],
   "source": [
    "def gen_test(n_num):\n",
    "    seq_data = []\n",
    "    seq_labels = []\n",
    "    a = None\n",
    "    for n in range(n_num):\n",
    "            a = np.random.randint(1, 9)\n",
    "            seq_data+=[x.copy() for x in numbers_rows[a]]\n",
    "            seq_labels+=[a for _ in numbers_rows[a]]\n",
    "            seq_labels.append(-1)\n",
    "            seq_data.append(data_rows[\"off\"].copy())\n",
    "\n",
    "    #genome = {}\n",
    "    #for x in np.unique(seq_labels):\n",
    "    #    genome[x] = np.random.randint(len(teacher_nodes))\n",
    "\n",
    "    nseq_d = []\n",
    "    nseq_l = []\n",
    "\n",
    "    for d, l in zip(seq_data, seq_labels):\n",
    "        if l != -1:\n",
    "            t = row_time\n",
    "        else:\n",
    "            t = silent_time\n",
    "        nseq_d.append(d.copy())\n",
    "        nseq_l.append(l)\n",
    "        for i in range(t-1):\n",
    "            nseq_d.append(data_rows[\"off\"].copy())\n",
    "            nseq_l.append(l)\n",
    "\n",
    "    seq_data = nseq_d\n",
    "    seq_labels = nseq_l\n",
    "\n",
    "    d_p = seq_labels[0]\n",
    "    step = 1\n",
    "    for i, d in enumerate(seq_labels[1:]):\n",
    "        seq_data[i].update({k:0 for k in teacher_nodes})\n",
    "        if d_p == -1 and d != d_p:\n",
    "            step = 0\n",
    "        if d in genome:\n",
    "            if step in genome[d]:\n",
    "                seq_data[i][teacher_nodes[genome[d][step]]] = 1\n",
    "        d_p = d\n",
    "        step += 1\n",
    "    return seq_data"
   ]
  },
  {
   "cell_type": "markdown",
   "id": "ba266fc8-936a-4742-ad78-bd164d83ef15",
   "metadata": {},
   "source": [
    "## Тестовый датасет"
   ]
  },
  {
   "cell_type": "code",
   "execution_count": 8,
   "id": "29a4e748-2c39-4c37-9b9c-cc855e906d86",
   "metadata": {},
   "outputs": [],
   "source": [
    "nseq_d = []\n",
    "nseq_l = []\n",
    "test_data = []\n",
    "test_labels = []\n",
    "a = None\n",
    "for n in range(10):\n",
    "    a = n\n",
    "    test_data+=[x.copy() for x in numbers_rows[a]]\n",
    "    test_labels+=[a for _ in numbers_rows[a]]\n",
    "    test_labels.append(-1)\n",
    "    test_data.append(data_rows[\"off\"].copy())\n",
    "\n",
    "for d, l in zip(test_data, test_labels):\n",
    "    if l != -1:\n",
    "        t = row_time\n",
    "    else:\n",
    "        t = silent_time\n",
    "        \n",
    "    nseq_d.append(d.copy())\n",
    "    nseq_l.append(l)\n",
    "    for i in range(t-1):\n",
    "        nseq_d.append(data_rows[\"off\"].copy())\n",
    "        nseq_l.append(l)\n",
    "\n",
    "test_data = nseq_d\n",
    "test_labels = nseq_l\n",
    "step = 0\n",
    "d_p = 0\n",
    "for i, d in enumerate(test_labels[1:]):\n",
    "    test_data[i].update({k:0 for k in teacher_nodes})\n",
    "    if d_p == -1 and d != d_p:\n",
    "        step = 0\n",
    "    if d in genome:\n",
    "        if step<15:\n",
    "            test_data[i][teacher_nodes[genome[d][25]]] = 1\n",
    "        elif step<25:\n",
    "            test_data[i][teacher_nodes[genome[d][25]]] = 1\n",
    "            test_data[i][teacher_nodes[genome[d][45]]] = 1     \n",
    "        else:\n",
    "            test_data[i][teacher_nodes[genome[d][45]]] = 1            \n",
    "    d_p = d\n",
    "    step += 1"
   ]
  },
  {
   "cell_type": "markdown",
   "id": "faf9ef86-7908-4304-98b1-5a0d56ea9a6e",
   "metadata": {},
   "source": [
    "# 2 Обучение"
   ]
  },
  {
   "cell_type": "markdown",
   "id": "4d8fd788-03c0-4f1b-8b2c-c509b2dce5a5",
   "metadata": {},
   "source": [
    "## Цикл обучения"
   ]
  },
  {
   "cell_type": "code",
   "execution_count": 9,
   "id": "39926118-784b-421a-960d-fc07fbcd2b60",
   "metadata": {
    "tags": []
   },
   "outputs": [],
   "source": [
    "ZOO_POP = 0"
   ]
  },
  {
   "cell_type": "code",
   "execution_count": 10,
   "id": "8f0f43eb-9292-4c95-8c95-9e77d038e937",
   "metadata": {},
   "outputs": [
    {
     "name": "stderr",
     "output_type": "stream",
     "text": [
      "0it [00:00, ?it/s]\n"
     ]
    }
   ],
   "source": [
    "zoo = []\n",
    "weights_variance = []\n",
    "net, _, _ = new_network()\n",
    "start_weights = net.weights.copy()\n",
    "for j in trange(ZOO_POP):\n",
    "    net, _, _ = new_network()\n",
    "    #net.weights.weights = best_weights.copy()\n",
    "    error_agg = error_agg_min = 100\n",
    "    \n",
    "    \n",
    "    \n",
    "    for section in range(15):\n",
    "        net.layer_params[\"learning\"][-1] = True\n",
    "        out_learn = net.feed_raw(gen_test(10))\n",
    "        net.layer_params[\"learning\"][-1] = False\n",
    "        out_test = net.feed_raw(test_data)\n",
    "        error = net.error(teacher_nodes, pattern_sights=pattern_sights)\n",
    "        e = {k: v.copy() for k, v in error.items()}\n",
    "        mins = []\n",
    "        for _ in error.keys():\n",
    "            b = {k: min(e[k], key=lambda x: abs(e[k][x])) for k in e.keys()}\n",
    "            a = min(b, key=lambda x: abs(e[x][b[x]]))\n",
    "            mins.append(e[a][b[a]])\n",
    "            del e[a]\n",
    "            for k in e.keys():\n",
    "                del e[k][b[a]]\n",
    "        mins = np.array(mins)\n",
    "        error_agg = (mins.mean())\n",
    "        if error_agg > error_agg_min*1.2:\n",
    "            ...#break\n",
    "        error_agg_min = min(error_agg, error_agg_min)\n",
    "        weights_variance.append(\n",
    "            {\"sp\": j, \"sec\": section, \"error\": error.copy(), \"weights\": net.weights.weights.copy(), \"error_agg\": error_agg}\n",
    "        )\n",
    "d2 = pd.DataFrame(weights_variance)"
   ]
  },
  {
   "cell_type": "code",
   "execution_count": 11,
   "id": "2b2f94b5-06e4-4c87-9e9f-b21472866734",
   "metadata": {
    "tags": []
   },
   "outputs": [],
   "source": [
    "d2 = pd.DataFrame(weights_variance)\n",
    "for i in range(ZOO_POP):\n",
    "    plt.plot(d2.loc[d2.sp == i].sec, d2.loc[d2.sp == i].error_agg)\n"
   ]
  },
  {
   "cell_type": "code",
   "execution_count": 12,
   "id": "0bf1a8e7-17a9-4fef-867f-b55df0a7a536",
   "metadata": {
    "tags": []
   },
   "outputs": [
    {
     "ename": "KeyError",
     "evalue": "'error_agg'",
     "output_type": "error",
     "traceback": [
      "\u001b[1;31m---------------------------------------------------------------------------\u001b[0m",
      "\u001b[1;31mKeyError\u001b[0m                                  Traceback (most recent call last)",
      "Cell \u001b[1;32mIn[12], line 1\u001b[0m\n\u001b[1;32m----> 1\u001b[0m \u001b[43md2\u001b[49m\u001b[38;5;241;43m.\u001b[39;49m\u001b[43msort_values\u001b[49m\u001b[43m(\u001b[49m\u001b[38;5;124;43m\"\u001b[39;49m\u001b[38;5;124;43merror_agg\u001b[39;49m\u001b[38;5;124;43m\"\u001b[39;49m\u001b[43m)\u001b[49m\u001b[38;5;241m.\u001b[39mgroupby(\u001b[38;5;124m\"\u001b[39m\u001b[38;5;124msp\u001b[39m\u001b[38;5;124m\"\u001b[39m)\u001b[38;5;241m.\u001b[39mhead(\u001b[38;5;241m1\u001b[39m)\u001b[38;5;241m.\u001b[39mhead(\u001b[38;5;241m10\u001b[39m)\n",
      "File \u001b[1;32mH:\\JupyterLab\\spikesim\\Lib\\site-packages\\pandas\\util\\_decorators.py:331\u001b[0m, in \u001b[0;36mdeprecate_nonkeyword_arguments.<locals>.decorate.<locals>.wrapper\u001b[1;34m(*args, **kwargs)\u001b[0m\n\u001b[0;32m    325\u001b[0m \u001b[38;5;28;01mif\u001b[39;00m \u001b[38;5;28mlen\u001b[39m(args) \u001b[38;5;241m>\u001b[39m num_allow_args:\n\u001b[0;32m    326\u001b[0m     warnings\u001b[38;5;241m.\u001b[39mwarn(\n\u001b[0;32m    327\u001b[0m         msg\u001b[38;5;241m.\u001b[39mformat(arguments\u001b[38;5;241m=\u001b[39m_format_argument_list(allow_args)),\n\u001b[0;32m    328\u001b[0m         \u001b[38;5;167;01mFutureWarning\u001b[39;00m,\n\u001b[0;32m    329\u001b[0m         stacklevel\u001b[38;5;241m=\u001b[39mfind_stack_level(),\n\u001b[0;32m    330\u001b[0m     )\n\u001b[1;32m--> 331\u001b[0m \u001b[38;5;28;01mreturn\u001b[39;00m \u001b[43mfunc\u001b[49m\u001b[43m(\u001b[49m\u001b[38;5;241;43m*\u001b[39;49m\u001b[43margs\u001b[49m\u001b[43m,\u001b[49m\u001b[43m \u001b[49m\u001b[38;5;241;43m*\u001b[39;49m\u001b[38;5;241;43m*\u001b[39;49m\u001b[43mkwargs\u001b[49m\u001b[43m)\u001b[49m\n",
      "File \u001b[1;32mH:\\JupyterLab\\spikesim\\Lib\\site-packages\\pandas\\core\\frame.py:6912\u001b[0m, in \u001b[0;36mDataFrame.sort_values\u001b[1;34m(self, by, axis, ascending, inplace, kind, na_position, ignore_index, key)\u001b[0m\n\u001b[0;32m   6908\u001b[0m \u001b[38;5;28;01melif\u001b[39;00m \u001b[38;5;28mlen\u001b[39m(by):\n\u001b[0;32m   6909\u001b[0m     \u001b[38;5;66;03m# len(by) == 1\u001b[39;00m\n\u001b[0;32m   6911\u001b[0m     by \u001b[38;5;241m=\u001b[39m by[\u001b[38;5;241m0\u001b[39m]\n\u001b[1;32m-> 6912\u001b[0m     k \u001b[38;5;241m=\u001b[39m \u001b[38;5;28;43mself\u001b[39;49m\u001b[38;5;241;43m.\u001b[39;49m\u001b[43m_get_label_or_level_values\u001b[49m\u001b[43m(\u001b[49m\u001b[43mby\u001b[49m\u001b[43m,\u001b[49m\u001b[43m \u001b[49m\u001b[43maxis\u001b[49m\u001b[38;5;241;43m=\u001b[39;49m\u001b[43maxis\u001b[49m\u001b[43m)\u001b[49m\n\u001b[0;32m   6914\u001b[0m     \u001b[38;5;66;03m# need to rewrap column in Series to apply key function\u001b[39;00m\n\u001b[0;32m   6915\u001b[0m     \u001b[38;5;28;01mif\u001b[39;00m key \u001b[38;5;129;01mis\u001b[39;00m \u001b[38;5;129;01mnot\u001b[39;00m \u001b[38;5;28;01mNone\u001b[39;00m:\n\u001b[0;32m   6916\u001b[0m         \u001b[38;5;66;03m# error: Incompatible types in assignment (expression has type\u001b[39;00m\n\u001b[0;32m   6917\u001b[0m         \u001b[38;5;66;03m# \"Series\", variable has type \"ndarray\")\u001b[39;00m\n",
      "File \u001b[1;32mH:\\JupyterLab\\spikesim\\Lib\\site-packages\\pandas\\core\\generic.py:1850\u001b[0m, in \u001b[0;36mNDFrame._get_label_or_level_values\u001b[1;34m(self, key, axis)\u001b[0m\n\u001b[0;32m   1844\u001b[0m     values \u001b[38;5;241m=\u001b[39m (\n\u001b[0;32m   1845\u001b[0m         \u001b[38;5;28mself\u001b[39m\u001b[38;5;241m.\u001b[39maxes[axis]\n\u001b[0;32m   1846\u001b[0m         \u001b[38;5;241m.\u001b[39mget_level_values(key)  \u001b[38;5;66;03m# type: ignore[assignment]\u001b[39;00m\n\u001b[0;32m   1847\u001b[0m         \u001b[38;5;241m.\u001b[39m_values\n\u001b[0;32m   1848\u001b[0m     )\n\u001b[0;32m   1849\u001b[0m \u001b[38;5;28;01melse\u001b[39;00m:\n\u001b[1;32m-> 1850\u001b[0m     \u001b[38;5;28;01mraise\u001b[39;00m \u001b[38;5;167;01mKeyError\u001b[39;00m(key)\n\u001b[0;32m   1852\u001b[0m \u001b[38;5;66;03m# Check for duplicates\u001b[39;00m\n\u001b[0;32m   1853\u001b[0m \u001b[38;5;28;01mif\u001b[39;00m values\u001b[38;5;241m.\u001b[39mndim \u001b[38;5;241m>\u001b[39m \u001b[38;5;241m1\u001b[39m:\n",
      "\u001b[1;31mKeyError\u001b[0m: 'error_agg'"
     ]
    }
   ],
   "source": [
    "d2.sort_values(\"error_agg\").groupby(\"sp\").head(1).head(10)"
   ]
  },
  {
   "cell_type": "code",
   "execution_count": null,
   "id": "a28eb75d-13e5-47ef-a495-d60623cce462",
   "metadata": {
    "tags": []
   },
   "outputs": [],
   "source": [
    "out_test = net.feed_raw(test_data)\n",
    "net.error(teacher_nodes, pattern_sights={132: 4, 133:6, 134:4, 135:6})"
   ]
  },
  {
   "cell_type": "code",
   "execution_count": null,
   "id": "d4fdd660-8b0a-4c19-b20f-852fcb9bc2fa",
   "metadata": {
    "tags": []
   },
   "outputs": [],
   "source": [
    "net2, _, _ = new_network()\n",
    "net2.weights.weights = best_weights.copy()\n",
    "net2.layer_params[\"learning\"][-1] = False\n",
    "out_test = net2.feed_raw(test_data)\n",
    "net2.error(teacher_nodes, pattern_sights={84: 4, 85:6, 86:4, 87:6})"
   ]
  },
  {
   "cell_type": "code",
   "execution_count": null,
   "id": "8968f989-77ec-46a6-bce8-ef64ddf0eb47",
   "metadata": {
    "tags": []
   },
   "outputs": [],
   "source": [
    "\n",
    "ui(out_test)"
   ]
  },
  {
   "cell_type": "code",
   "execution_count": 13,
   "id": "feb30c74-cb42-4fd6-84f7-5e4d8c49553f",
   "metadata": {},
   "outputs": [
    {
     "data": {
      "application/vnd.jupyter.widget-view+json": {
       "model_id": "28e254cd536f410faa73f124bb195dc3",
       "version_major": 2,
       "version_minor": 0
      },
      "text/plain": [
       "VBox(children=(HBox(children=(BoundedIntText(value=255, layout=Layout(height='30px', width='50px'), max=255, m…"
      ]
     },
     "execution_count": 13,
     "metadata": {},
     "output_type": "execute_result"
    }
   ],
   "source": [
    "import ipywidgets as widgets\n",
    "\n",
    "#загрузить исходные веса\n",
    "inputs = [[] for _ in range(4)]\n",
    "array = np.array\n",
    "save = {89: array([280, 1, 200,   240, 270, 1,  240, 1,  240,  240,  255,   1]),\n",
    " 96: array([230,  1,   1, 1, 230, 230, 230, 230, 230, 1,  1, 1]),\n",
    " 103: array([ 300,   1,  300, 1, 300, 300,  270, 270,  270, 1, 1, 1]),\n",
    " 110: array([1, 255,  1,  255,  200, 200, 240,   255, 200,  255, 1,  255])}\n",
    "best_weights = save#\n",
    "#best_weights=d2.loc[d2[\"error_agg\"].idxmin()].weights\n",
    "weights = best_weights\n",
    "\n",
    "for i in range(4):\n",
    "    for _ in range(12):\n",
    "        inputs[i].append(widgets.BoundedIntText(\n",
    "            value=best_weights[[89,96,103,110][i]][_],\n",
    "            min=1,\n",
    "            max=255,\n",
    "            step=1,\n",
    "            description='',\n",
    "            layout=widgets.Layout(width='50px', height='30px')\n",
    "        ))\n",
    "    inputs[i].append(widgets.BoundedFloatText(\n",
    "        value=1,\n",
    "        min=0,\n",
    "        max=10,\n",
    "        step=0.1,\n",
    "        description='Cf'\n",
    "    ))\n",
    "#\n",
    "def rescale(nr):\n",
    "    def inner(_):\n",
    "        global weights\n",
    "        for nc in range(12):\n",
    "            inputs[nr][nc].value = int(inputs[nr][12].value*weights[[89,96,103,110][nr]][nc])\n",
    "    return inner\n",
    "#\n",
    "\n",
    "scalers = []\n",
    "for i in range(4):    \n",
    "    scalers.append(rescale(i))\n",
    "    inputs[i][-1].observe(scalers[i])\n",
    "#по нажатию кнопки - обновить всё\n",
    "def get_weights():\n",
    "    global weights\n",
    "    weights = dict(list(zip([89,96,103,110], [np.array([c.value for c in row[:12]]) for row in inputs])))\n",
    "    return weights\n",
    "\n",
    "def run_new_weights(_):\n",
    "    net, _, _ = new_network()\n",
    "    net.weights.weights = get_weights()\n",
    "    net.layer_params[\"learning\"][-1] = False\n",
    "    \n",
    "    out_test = net.feed_raw(test_data)\n",
    "    fig, ax = plt.subplots(figsize=(8,8))\n",
    "    s = [92,99,106,113]\n",
    "    for n in s:\n",
    "        ax.step(out_test.index.tolist(), out_test[n])\n",
    "    ax.legend([1, 2, 3, 4])\n",
    "    with graph:\n",
    "        graph.clear_output()\n",
    "        display(plt.show())\n",
    "    for row in inputs:\n",
    "        row[12].value = 1\n",
    "\n",
    "        \n",
    "draw = Button(description=\"Draw\")\n",
    "draw.on_click(run_new_weights)\n",
    "graph = Output()\n",
    "run_new_weights(None)\n",
    "VBox([HBox(i) for i in inputs]+[draw, graph])"
   ]
  },
  {
   "cell_type": "code",
   "execution_count": null,
   "id": "c6227321-de00-42ad-8fff-607f0102b450",
   "metadata": {},
   "outputs": [],
   "source": [
    "get_weights()"
   ]
  },
  {
   "cell_type": "code",
   "execution_count": null,
   "id": "084c5d92-7583-4280-927d-9801c279e1f3",
   "metadata": {},
   "outputs": [],
   "source": []
  }
 ],
 "metadata": {
  "kernelspec": {
   "display_name": "spikesim",
   "language": "python",
   "name": "spikesim"
  },
  "language_info": {
   "codemirror_mode": {
    "name": "ipython",
    "version": 3
   },
   "file_extension": ".py",
   "mimetype": "text/x-python",
   "name": "python",
   "nbconvert_exporter": "python",
   "pygments_lexer": "ipython3",
   "version": "3.11.2"
  }
 },
 "nbformat": 4,
 "nbformat_minor": 5
}
