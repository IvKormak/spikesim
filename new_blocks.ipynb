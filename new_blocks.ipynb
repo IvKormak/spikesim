{
 "cells": [
  {
   "cell_type": "code",
   "execution_count": 1,
   "id": "4e0f41a7-7e8b-45c4-8695-546c031b1821",
   "metadata": {},
   "outputs": [],
   "source": [
    "import pandas as pd\n",
    "import numpy as np\n",
    "import pickle\n",
    "from matplotlib import pyplot as plt\n",
    "from tqdm import trange\n",
    "from dataclasses import dataclass\n",
    "import csv\n",
    "import ipywidgets"
   ]
  },
  {
   "cell_type": "code",
   "execution_count": 2,
   "id": "5bb5e6b3-8388-4fc0-83ba-65a5239e3ffd",
   "metadata": {},
   "outputs": [],
   "source": [
    "from module import *"
   ]
  },
  {
   "cell_type": "code",
   "execution_count": 3,
   "id": "641f9a44-9aff-4724-b0e6-b2fda5c8f368",
   "metadata": {},
   "outputs": [
    {
     "data": {
      "image/png": "[encoded data removed]",
      "text/plain": [
       "<Figure size 2000x2000 with 10 Axes>"
      ]
     },
     "metadata": {},
     "output_type": "display_data"
    }
   ],
   "source": [
    "data_rows = {\n",
    "    \"e\":  {0: 0, 1: 0, 2: 0, 3: 1, 4: 1, 5: 1},\n",
    "    \"r\":  {0: 0, 1: 0, 2: 1, 3: 1, 4: 1, 5: 0},\n",
    "    \"c\":  {0: 0, 1: 1, 2: 0, 3: 1, 4: 0, 5: 1},\n",
    "    \"cr\": {0: 0, 1: 1, 2: 1, 3: 1, 4: 0, 5: 0},\n",
    "    \"l\":  {0: 1, 1: 0, 2: 0, 3: 0, 4: 1, 5: 1},\n",
    "    \"lr\": {0: 1, 1: 0, 2: 1, 3: 0, 4: 1, 5: 0},\n",
    "    \"lc\": {0: 1, 1: 1, 2: 0, 3: 0, 4: 0, 5: 1},\n",
    "    \"f\":  {0: 1, 1: 1, 2: 1, 3: 0, 4: 0, 5: 0},\n",
    "    \"off\":{0: 0, 1: 0, 2: 0, 3: 0, 4: 0, 5: 0}\n",
    "}\n",
    "numbers = {\n",
    "    0: \"f lr lr lr f\",\n",
    "    1: \"c c c c c\",\n",
    "    2: \"f r f l f\",\n",
    "    3: \"f r f r f\",\n",
    "    4: \"lr lr f r r\",\n",
    "    5: \"f l f r f\",\n",
    "    6: \"f l f lr f\",\n",
    "    7: \"f r r r r\",\n",
    "    8: \"f lr f lr f\",\n",
    "    9: \"f lr f r f\",\n",
    "}\n",
    "empty = np.array([[0,0,0,1,1,1],[0,0,0,1,1,1],[0,0,0,1,1,1],[0,0,0,1,1,1],[0,0,0,1,1,1]])\n",
    "\n",
    "numbers_rows = {k: [data_rows[vv] for vv in v.split(\" \")] for k, v in numbers.items()}\n",
    "\n",
    "fig, axs = plt.subplots(1, 10, figsize=(20,20))\n",
    "for ax, n in zip(axs, numbers_rows.values()):\n",
    "    ax.imshow(pd.DataFrame(n).values)"
   ]
  },
  {
   "cell_type": "code",
   "execution_count": 4,
   "id": "7573880f-ee11-4098-951b-3655d0e87669",
   "metadata": {},
   "outputs": [],
   "source": [
    "dendrites = [\n",
    "    {\n",
    "        \"connections\":{\n",
    "            0: [0, 1],\n",
    "            1: [0, 1],\n",
    "            2: [0, 1],\n",
    "            3: [0, 1],\n",
    "            4: [0, 1],\n",
    "            5: [0, 1],\n",
    "        }\n",
    "    }, {\n",
    "        \"connections\":{\n",
    "            0: [0, 1],\n",
    "            1: [0, 1],\n",
    "            2: [0, 1],\n",
    "            3: [0, 1],\n",
    "            4: [0, 1],\n",
    "            5: [0, 1],\n",
    "        }\n",
    "    }, {\n",
    "        \"connections\":{\n",
    "            0: [0, 1],\n",
    "            1: [0, 1],\n",
    "            2: [0, 1],\n",
    "            3: [0, 1],\n",
    "            4: [0, 1],\n",
    "            5: [0, 1],\n",
    "        }\n",
    "    }, {\n",
    "        \"connections\":{\n",
    "            0: [0, 1],\n",
    "            1: [0, 1],\n",
    "            2: [0, 1],\n",
    "            3: [0, 1],\n",
    "            4: [0, 1],\n",
    "            5: [0, 1],\n",
    "        }\n",
    "    },\n",
    "]\n",
    "params_dendrites = {\n",
    "    \"tau_leak\": 2, \n",
    "    \"tau_inhibitory\": 0,\n",
    "    \"tau_refractory\": 1,\n",
    "    \"tau_ltp\": 2, \n",
    "    \"thres\": 1700,\n",
    "    \"ainc\": 30, \n",
    "    \"adec\": -15, \n",
    "    \"wmax\": 255, \n",
    "    \"wmin\": 1,\n",
    "    \"learning\": False,\n",
    "    \"wta\": True\n",
    "}\n",
    "net = SpikeNetworkSim(inputs_l=6, dt=1)\n",
    "net.new_dendritic_layer([d[\"connections\"] for d in dendrites], **params_dendrites)"
   ]
  },
  {
   "cell_type": "code",
   "execution_count": 5,
   "id": "c68b3b97-77f7-4334-bdb1-dc6fa7df6d8c",
   "metadata": {},
   "outputs": [
    {
     "data": {
      "text/html": [
       "<div>\n",
       "<style scoped>\n",
       "    .dataframe tbody tr th:only-of-type {\n",
       "        vertical-align: middle;\n",
       "    }\n",
       "\n",
       "    .dataframe tbody tr th {\n",
       "        vertical-align: top;\n",
       "    }\n",
       "\n",
       "    .dataframe thead th {\n",
       "        text-align: right;\n",
       "    }\n",
       "</style>\n",
       "<table border=\"1\" class=\"dataframe\">\n",
       "  <thead>\n",
       "    <tr style=\"text-align: right;\">\n",
       "      <th></th>\n",
       "      <th>weights</th>\n",
       "      <th>inhibited</th>\n",
       "    </tr>\n",
       "  </thead>\n",
       "  <tbody>\n",
       "    <tr>\n",
       "      <th>24</th>\n",
       "      <td>[2, 217, 55, 227, 57, 128, 189, 108, 122, 177,...</td>\n",
       "      <td>-1</td>\n",
       "    </tr>\n",
       "    <tr>\n",
       "      <th>27</th>\n",
       "      <td>[62, 26, 7, 106, 103, 169, 160, 226, 97, 154, ...</td>\n",
       "      <td>-1</td>\n",
       "    </tr>\n",
       "    <tr>\n",
       "      <th>30</th>\n",
       "      <td>[38, 145, 18, 81, 31, 59, 106, 239, 175, 164, ...</td>\n",
       "      <td>-1</td>\n",
       "    </tr>\n",
       "    <tr>\n",
       "      <th>33</th>\n",
       "      <td>[248, 191, 172, 71, 80, 149, 253, 219, 7, 118,...</td>\n",
       "      <td>-1</td>\n",
       "    </tr>\n",
       "  </tbody>\n",
       "</table>\n",
       "</div>"
      ],
      "text/plain": [
       "                                              weights inhibited\n",
       "24  [2, 217, 55, 227, 57, 128, 189, 108, 122, 177,...        -1\n",
       "27  [62, 26, 7, 106, 103, 169, 160, 226, 97, 154, ...        -1\n",
       "30  [38, 145, 18, 81, 31, 59, 106, 239, 175, 164, ...        -1\n",
       "33  [248, 191, 172, 71, 80, 149, 253, 219, 7, 118,...        -1"
      ]
     },
     "execution_count": 5,
     "metadata": {},
     "output_type": "execute_result"
    }
   ],
   "source": [
    "net.weights"
   ]
  },
  {
   "cell_type": "code",
   "execution_count": 6,
   "id": "25c82d0d-df70-455d-ad4c-e2ebc15cb78d",
   "metadata": {
    "tags": []
   },
   "outputs": [
    {
     "data": {
      "application/vnd.jupyter.widget-view+json": {
       "model_id": "354fd433565a4e9281e0eb838d99eced",
       "version_major": 2,
       "version_minor": 0
      },
      "text/plain": [
       "HBox(children=(Output(), Output(), Output(), Output()))"
      ]
     },
     "execution_count": 6,
     "metadata": {},
     "output_type": "execute_result"
    }
   ],
   "source": [
    "from ipywidgets import Output, HBox\n",
    "a = Output()\n",
    "b = Output()\n",
    "c = Output()\n",
    "d = Output()\n",
    "with a:\n",
    "    display(net.nodes.query(\"type=='input'\"))\n",
    "with b:\n",
    "    display(net.nodes.query(\"type=='buffer'\"))\n",
    "with c:\n",
    "    display(net.nodes.query(\"type=='presynaptic'\"))\n",
    "with d:\n",
    "    display(net.nodes.query(\"type=='postsynaptic'\"))\n",
    "HBox((a, b, c, d))"
   ]
  },
  {
   "cell_type": "code",
   "execution_count": 7,
   "id": "67f6ae03-f5fe-474f-a41c-a9d8714689e6",
   "metadata": {},
   "outputs": [],
   "source": [
    "test_seq_data = []\n",
    "test_seq_labels = []\n",
    "for n in range(10):\n",
    "        a = n\n",
    "        test_seq_labels+=[a for _ in range(50)]\n",
    "        test_seq_data+=[x for x in numbers_rows[a]]\n",
    "        for i in range(10):\n",
    "            test_seq_labels.append(-1)\n",
    "            test_seq_data.append(data_rows[\"off\"])"
   ]
  },
  {
   "cell_type": "code",
   "execution_count": 72,
   "id": "0074e764-9317-4c3f-be86-635961c8f5fd",
   "metadata": {},
   "outputs": [],
   "source": [
    "params_dendrites = {\n",
    "    \"tau_leak\": 2, \n",
    "    \"tau_inhibitory\": 2,\n",
    "    \"tau_refractory\": 12,\n",
    "    \"tau_ltp\": 2, \n",
    "    \"thres\": 1000,\n",
    "    \"ainc\": 15, \n",
    "    \"adec\": -15, \n",
    "    \"wmax\": 255, \n",
    "    \"wmin\": 1,\n",
    "    \"learning\": True,\n",
    "    \"wta\": True,\n",
    "    \"layer_type\": \"tempotron\"\n",
    "}\n",
    "net = SpikeNetworkSim(inputs_l=6, dt=1)\n",
    "net.new_dendritic_layer([d[\"connections\"] for d in dendrites], **params_dendrites)"
   ]
  },
  {
   "cell_type": "code",
   "execution_count": 75,
   "id": "38d44804-3ec0-4826-a374-345b2485e45d",
   "metadata": {},
   "outputs": [],
   "source": [
    "test_seq_data = []\n",
    "test_seq_labels = []\n",
    "for n in range(100):\n",
    "        a = np.random.randint(10)\n",
    "        test_seq_labels+=[a for _ in range(50)]\n",
    "        test_seq_data+=[x for x in numbers_rows[a]]\n",
    "        for i in range(5):\n",
    "            test_seq_labels.append(-1)\n",
    "            test_seq_data.append(data_rows[\"off\"])"
   ]
  },
  {
   "cell_type": "code",
   "execution_count": 76,
   "id": "03313711-209b-49e0-b640-d717d91a57f8",
   "metadata": {
    "tags": []
   },
   "outputs": [],
   "source": [
    "out = net.feed_raw(test_seq_data)"
   ]
  },
  {
   "cell_type": "code",
   "execution_count": 11,
   "id": "fe141dfa-b122-417e-8a8e-a998f9e08cbf",
   "metadata": {},
   "outputs": [
    {
     "data": {
      "application/vnd.jupyter.widget-view+json": {
       "model_id": "dd8645df55c0457a9f0eb3d02a4acaab",
       "version_major": 2,
       "version_minor": 0
      },
      "text/plain": [
       "HBox(children=(VBox(children=(SelectMultiple(description='nodes', options=(0, 1, 2, 3, 4, 5, 6, 7, 8, 9, 10, 1…"
      ]
     },
     "execution_count": 11,
     "metadata": {},
     "output_type": "execute_result"
    }
   ],
   "source": [
    "from ipywidgets import SelectMultiple, Button, HBox, VBox, Output\n",
    "def update_graph(b):\n",
    "    fig, ax = plt.subplots(figsize=(8,8))\n",
    "    for n in select.value:\n",
    "        t = out.index.tolist()\n",
    "        ax.plot(t, out[n])\n",
    "        ax.legend([f\"{n}/{net.labels_dict[n]}\" if n != net.labels_dict[n] else n for n in select.value])\n",
    "    with graph:\n",
    "        graph.clear_output()\n",
    "        display(plt.show())\n",
    "        \n",
    "    \n",
    "graph = Output()\n",
    "select = SelectMultiple(\n",
    "    options=net.nodes.index.tolist(),\n",
    "    rows=10,\n",
    "    description='nodes',\n",
    "    disabled=False\n",
    ")\n",
    "draw = Button(description='Draw')\n",
    "draw.on_click(update_graph)\n",
    "HBox((VBox((select, draw)), graph))"
   ]
  },
  {
   "cell_type": "code",
   "execution_count": 35,
   "id": "150a13ff-abc4-4232-bb53-5bd6b72461f9",
   "metadata": {},
   "outputs": [
    {
     "data": {
      "text/html": [
       "<div>\n",
       "<style scoped>\n",
       "    .dataframe tbody tr th:only-of-type {\n",
       "        vertical-align: middle;\n",
       "    }\n",
       "\n",
       "    .dataframe tbody tr th {\n",
       "        vertical-align: top;\n",
       "    }\n",
       "\n",
       "    .dataframe thead th {\n",
       "        text-align: right;\n",
       "    }\n",
       "</style>\n",
       "<table border=\"1\" class=\"dataframe\">\n",
       "  <thead>\n",
       "    <tr style=\"text-align: right;\">\n",
       "      <th></th>\n",
       "      <th>weights</th>\n",
       "      <th>inhibited</th>\n",
       "    </tr>\n",
       "  </thead>\n",
       "  <tbody>\n",
       "    <tr>\n",
       "      <th>24</th>\n",
       "      <td>[255.0, 42.04293966704805, 255.0, 221.04293966...</td>\n",
       "      <td>993</td>\n",
       "    </tr>\n",
       "    <tr>\n",
       "      <th>27</th>\n",
       "      <td>[140, 181, 17, 248, 86, 57, 24, 236, 227, 160,...</td>\n",
       "      <td>995</td>\n",
       "    </tr>\n",
       "    <tr>\n",
       "      <th>30</th>\n",
       "      <td>[10, 67, 199, 112, 153, 215, 54, 53, 156, 45, ...</td>\n",
       "      <td>995</td>\n",
       "    </tr>\n",
       "    <tr>\n",
       "      <th>33</th>\n",
       "      <td>[255.0, 91.25618462259747, 255.0, 205.25618462...</td>\n",
       "      <td>995</td>\n",
       "    </tr>\n",
       "  </tbody>\n",
       "</table>\n",
       "</div>"
      ],
      "text/plain": [
       "                                              weights  inhibited\n",
       "24  [255.0, 42.04293966704805, 255.0, 221.04293966...        993\n",
       "27  [140, 181, 17, 248, 86, 57, 24, 236, 227, 160,...        995\n",
       "30  [10, 67, 199, 112, 153, 215, 54, 53, 156, 45, ...        995\n",
       "33  [255.0, 91.25618462259747, 255.0, 205.25618462...        995"
      ]
     },
     "execution_count": 35,
     "metadata": {},
     "output_type": "execute_result"
    }
   ],
   "source": [
    "net.weights"
   ]
  },
  {
   "cell_type": "code",
   "execution_count": 13,
   "id": "ad998121-a27f-4c8e-85a9-ac1e2a277aa8",
   "metadata": {},
   "outputs": [],
   "source": [
    "params_first_row = {\n",
    "    \"tau_leak\": 1, \n",
    "    \"tau_inhibitory\": 10,\n",
    "    \"tau_refractory\": 10,\n",
    "    \"tau_ltp\": 1, \n",
    "    \"thres\": 750,\n",
    "    \"ainc\": 30, \n",
    "    \"adec\": -15, \n",
    "    \"wmax\": 255, \n",
    "    \"wmin\": 1,\n",
    "    \"learning\": False\n",
    "}\n",
    "params_second_row = {\n",
    "    \"tau_leak\": 1, \n",
    "    \"tau_inhibitory\": 10,\n",
    "    \"tau_refractory\": 20,\n",
    "    \"tau_ltp\": 1, \n",
    "    \"thres\": 1000,\n",
    "    \"ainc\": 30, \n",
    "    \"adec\": -30, \n",
    "    \"wmax\": 255, \n",
    "    \"wmin\": 1,\n",
    "    \"learning\": False\n",
    "}\n",
    "params_third_row = {\n",
    "    \"tau_leak\": 1, \n",
    "    \"tau_inhibitory\": 10,\n",
    "    \"tau_refractory\": 30,\n",
    "    \"tau_ltp\": 1, \n",
    "    \"thres\": 1000,\n",
    "    \"ainc\": 30, \n",
    "    \"adec\": -30, \n",
    "    \"wmax\": 255, \n",
    "    \"wmin\": 1,\n",
    "    \"learning\": False\n",
    "}\n",
    "weights_rows = np.array([\n",
    "    [1, 1, 1, 255, 255, 255],\n",
    "    [1, 1, 255, 255, 255, 1],\n",
    "    [1, 255, 1, 255, 1, 255],\n",
    "    [1, 255, 255, 255, 1, 1],\n",
    "    [255, 1, 1, 1, 255, 255],\n",
    "    [255, 1, 255, 1, 255, 1],\n",
    "    [255, 255, 1, 1, 1, 255],\n",
    "    [255, 255, 255, 1, 1, 1]\n",
    "])\n",
    "labels_rows = [\n",
    "    \"e\",\n",
    "    \"r\",\n",
    "    \"c\",\n",
    "    \"cr\",\n",
    "    \"l\",\n",
    "    \"lr\",\n",
    "    \"lc\",\n",
    "    \"f\"\n",
    "]"
   ]
  },
  {
   "cell_type": "code",
   "execution_count": 14,
   "id": "dc388180-0529-4a25-a5d8-b0e78c18d5e9",
   "metadata": {},
   "outputs": [
    {
     "name": "stderr",
     "output_type": "stream",
     "text": [
      "ERROR:root:No traceback has been produced, nothing to debug.\n"
     ]
    }
   ],
   "source": [
    "%debug"
   ]
  },
  {
   "cell_type": "code",
   "execution_count": null,
   "id": "98af6ea2-c4d7-4fdb-8188-391df06f8a4a",
   "metadata": {},
   "outputs": [],
   "source": []
  }
 ],
 "metadata": {
  "kernelspec": {
   "display_name": "spikesim",
   "language": "python",
   "name": "spikesim"
  },
  "language_info": {
   "codemirror_mode": {
    "name": "ipython",
    "version": 3
   },
   "file_extension": ".py",
   "mimetype": "text/x-python",
   "name": "python",
   "nbconvert_exporter": "python",
   "pygments_lexer": "ipython3",
   "version": "3.11.2"
  }
 },
 "nbformat": 4,
 "nbformat_minor": 5
}
