{
 "cells": [
  {
   "cell_type": "code",
   "execution_count": 1,
   "id": "4e0f41a7-7e8b-45c4-8695-546c031b1821",
   "metadata": {},
   "outputs": [],
   "source": [
    "import pandas as pd\n",
    "import numpy as np\n",
    "import pickle\n",
    "from matplotlib import pyplot as plt\n",
    "from tqdm import trange\n",
    "from dataclasses import dataclass\n",
    "import csv\n",
    "import ipywidgets"
   ]
  },
  {
   "cell_type": "code",
   "execution_count": 2,
   "id": "5bb5e6b3-8388-4fc0-83ba-65a5239e3ffd",
   "metadata": {},
   "outputs": [],
   "source": [
    "from module import *"
   ]
  },
  {
   "cell_type": "code",
   "execution_count": 3,
   "id": "641f9a44-9aff-4724-b0e6-b2fda5c8f368",
   "metadata": {},
   "outputs": [
    {
     "data": {
      "image/png": "[encoded data removed]",
      "text/plain": [
       "<Figure size 2000x2000 with 10 Axes>"
      ]
     },
     "metadata": {},
     "output_type": "display_data"
    }
   ],
   "source": [
    "data_rows = {\n",
    "    \"e\":  {0: 0, 1: 0, 2: 0, 3: 1, 4: 1, 5: 1},\n",
    "    \"r\":  {0: 0, 1: 0, 2: 1, 3: 1, 4: 1, 5: 0},\n",
    "    \"c\":  {0: 0, 1: 1, 2: 0, 3: 1, 4: 0, 5: 1},\n",
    "    \"cr\": {0: 0, 1: 1, 2: 1, 3: 1, 4: 0, 5: 0},\n",
    "    \"l\":  {0: 1, 1: 0, 2: 0, 3: 0, 4: 1, 5: 1},\n",
    "    \"lr\": {0: 1, 1: 0, 2: 1, 3: 0, 4: 1, 5: 0},\n",
    "    \"lc\": {0: 1, 1: 1, 2: 0, 3: 0, 4: 0, 5: 1},\n",
    "    \"f\":  {0: 1, 1: 1, 2: 1, 3: 0, 4: 0, 5: 0},\n",
    "    \"off\":{0: 0, 1: 0, 2: 0, 3: 0, 4: 0, 5: 0}\n",
    "}\n",
    "numbers = {\n",
    "    0: \"f lr lr lr f\",\n",
    "    1: \"c c c c c\",\n",
    "    2: \"f r f l f\",\n",
    "    3: \"f r f r f\",\n",
    "    4: \"lr lr f r r\",\n",
    "    5: \"f l f r f\",\n",
    "    6: \"f l f lr f\",\n",
    "    7: \"f r r r r\",\n",
    "    8: \"f lr f lr f\",\n",
    "    9: \"f lr f r f\",\n",
    "}\n",
    "empty = np.array([[0,0,0,1,1,1],[0,0,0,1,1,1],[0,0,0,1,1,1],[0,0,0,1,1,1],[0,0,0,1,1,1]])\n",
    "\n",
    "numbers_rows = {k: [data_rows[vv] for vv in v.split(\" \")] for k, v in numbers.items()}\n",
    "\n",
    "fig, axs = plt.subplots(1, 10, figsize=(20,20))\n",
    "for ax, n in zip(axs, numbers_rows.values()):\n",
    "    ax.imshow(pd.DataFrame(n).values)"
   ]
  },
  {
   "cell_type": "code",
   "execution_count": 4,
   "id": "7573880f-ee11-4098-951b-3655d0e87669",
   "metadata": {},
   "outputs": [],
   "source": [
    "net = SpikeNetworkSim(inputs_l=6, dt=1)\n",
    "dendrites = [\n",
    "    {\n",
    "        \"connections\":{\n",
    "            0: [0, 1],\n",
    "            1: [0, 1],\n",
    "            2: [0, 1],\n",
    "            3: [0, 1],\n",
    "            4: [0, 1],\n",
    "            5: [0, 1],\n",
    "        }, \"weights\": {\n",
    "            0: {0: 255, 1: 255},\n",
    "            1: {0: 0, 1: 0},\n",
    "            2: {0: 255, 1: 255},\n",
    "            3: {0: 0, 1: 0},\n",
    "            4: {0: 255, 1: 255},\n",
    "            5: {0: 0, 1: 0},\n",
    "        }\n",
    "    }, {\n",
    "        \"connections\":{\n",
    "            0: [0, 1],\n",
    "            1: [0, 1],\n",
    "            2: [0, 1],\n",
    "            3: [0, 1],\n",
    "            4: [0, 1],\n",
    "            5: [0, 1],\n",
    "        }, \"weights\": {\n",
    "            0: {0: 255, 1: 0},\n",
    "            1: {0: 255, 1: 0},\n",
    "            2: {0: 255, 1: 255},\n",
    "            3: {0: 0, 1: 255},\n",
    "            4: {0: 0, 1: 255},\n",
    "            5: {0: 0, 1: 0},\n",
    "        }\n",
    "    }, {\n",
    "        \"connections\":{\n",
    "            0: [0, 1],\n",
    "            1: [0, 1],\n",
    "            2: [0, 1],\n",
    "            3: [0, 1],\n",
    "            4: [0, 1],\n",
    "            5: [0, 1],\n",
    "        }, \"weights\": {\n",
    "            0: {0: 255, 1: 255},\n",
    "            1: {0: 255, 1: 0},\n",
    "            2: {0: 255, 1: 0},\n",
    "            3: {0: 0, 1: 0},\n",
    "            4: {0: 0, 1: 255},\n",
    "            5: {0: 0, 1: 255},\n",
    "        }\n",
    "    }, {\n",
    "        \"connections\":{\n",
    "            0: [0, 1],\n",
    "            1: [0, 1],\n",
    "            2: [0, 1],\n",
    "            3: [0, 1],\n",
    "            4: [0, 1],\n",
    "            5: [0, 1],\n",
    "        }, \"weights\": {\n",
    "            0: {0: 0, 1: 0},\n",
    "            1: {0: 255, 1: 255},\n",
    "            2: {0: 0, 1: 0},\n",
    "            3: {0: 0, 1: 0},\n",
    "            4: {0: 255, 1: 255},\n",
    "            5: {0: 0, 1: 0},\n",
    "        }\n",
    "    }, {\n",
    "        \"connections\":{\n",
    "            0: [0, 1],\n",
    "            1: [0, 1],\n",
    "            2: [0, 1],\n",
    "            3: [0, 1],\n",
    "            4: [0, 1],\n",
    "            5: [0, 1],\n",
    "        }, \"weights\": {\n",
    "            0: {0: 0, 1: 0},\n",
    "            1: {0: 0, 1: 0},\n",
    "            2: {0: 255, 1: 255},\n",
    "            3: {0: 255, 1: 255},\n",
    "            4: {0: 255, 1: 255},\n",
    "            5: {0: 0, 1: 0},\n",
    "        }\n",
    "    },\n",
    "]\n",
    "lb = [\"lr/lr\",\"f/r\",\"f/l\",\"c/c\",\"r/r\"]\n",
    "params_dendrites = {\n",
    "    \"tau_leak\": 3, \n",
    "    \"tau_inhibitory\": 10,\n",
    "    \"tau_refractory\": 4,\n",
    "    \"tau_ltp\": 2, \n",
    "    \"thres\": 1400,\n",
    "    \"ainc\": 30, \n",
    "    \"adec\": -15, \n",
    "    \"wmax\": 255, \n",
    "    \"wmin\": 1,\n",
    "    \"learning\": False\n",
    "}"
   ]
  },
  {
   "cell_type": "code",
   "execution_count": 5,
   "id": "38d44804-3ec0-4826-a374-345b2485e45d",
   "metadata": {},
   "outputs": [],
   "source": [
    "test_seq_data = []\n",
    "test_seq_labels = []\n",
    "for n in range(50):\n",
    "        a = np.random.randint(10)\n",
    "        test_seq_labels+=[a for _ in range(50)]\n",
    "        test_seq_data+=[x for x in numbers_rows[a]]\n",
    "        for i in range(5):\n",
    "            test_seq_labels.append(-1)\n",
    "            test_seq_data.append(data_rows[\"off\"])"
   ]
  },
  {
   "cell_type": "code",
   "execution_count": 6,
   "id": "0074e764-9317-4c3f-be86-635961c8f5fd",
   "metadata": {},
   "outputs": [],
   "source": [
    "net.new_dendritic_layer([d[\"connections\"] for d in dendrites], [d[\"weights\"] for d in dendrites], lb, **params_dendrites)\n",
    "out = net.feed_raw(test_seq_data)"
   ]
  },
  {
   "cell_type": "code",
   "execution_count": 7,
   "id": "fe141dfa-b122-417e-8a8e-a998f9e08cbf",
   "metadata": {},
   "outputs": [
    {
     "data": {
      "application/vnd.jupyter.widget-view+json": {
       "model_id": "da421ef538144f8c91d4ccca78ea7cd9",
       "version_major": 2,
       "version_minor": 0
      },
      "text/plain": [
       "SelectMultiple(description='Fruits', index=(1,), options=('Apples', 'Oranges', 'Pears'), value=('Oranges',))"
      ]
     },
     "execution_count": 7,
     "metadata": {},
     "output_type": "execute_result"
    }
   ],
   "source": [
    "from ipywidgets import SelectMultiple\n",
    "SelectMultiple(\n",
    "    options=['Apples', 'Oranges', 'Pears'],\n",
    "    value=['Oranges'],\n",
    "    #rows=10,\n",
    "    description='Fruits',\n",
    "    disabled=False\n",
    ")"
   ]
  },
  {
   "cell_type": "code",
   "execution_count": 8,
   "id": "ad998121-a27f-4c8e-85a9-ac1e2a277aa8",
   "metadata": {},
   "outputs": [],
   "source": [
    "params_first_row = {\n",
    "    \"tau_leak\": 1, \n",
    "    \"tau_inhibitory\": 10,\n",
    "    \"tau_refractory\": 10,\n",
    "    \"tau_ltp\": 1, \n",
    "    \"thres\": 750,\n",
    "    \"ainc\": 30, \n",
    "    \"adec\": -15, \n",
    "    \"wmax\": 255, \n",
    "    \"wmin\": 1,\n",
    "    \"learning\": False\n",
    "}\n",
    "params_second_row = {\n",
    "    \"tau_leak\": 1, \n",
    "    \"tau_inhibitory\": 10,\n",
    "    \"tau_refractory\": 20,\n",
    "    \"tau_ltp\": 1, \n",
    "    \"thres\": 1000,\n",
    "    \"ainc\": 30, \n",
    "    \"adec\": -30, \n",
    "    \"wmax\": 255, \n",
    "    \"wmin\": 1,\n",
    "    \"learning\": False\n",
    "}\n",
    "params_third_row = {\n",
    "    \"tau_leak\": 1, \n",
    "    \"tau_inhibitory\": 10,\n",
    "    \"tau_refractory\": 30,\n",
    "    \"tau_ltp\": 1, \n",
    "    \"thres\": 1000,\n",
    "    \"ainc\": 30, \n",
    "    \"adec\": -30, \n",
    "    \"wmax\": 255, \n",
    "    \"wmin\": 1,\n",
    "    \"learning\": False\n",
    "}\n",
    "weights_rows = np.array([\n",
    "    [1, 1, 1, 255, 255, 255],\n",
    "    [1, 1, 255, 255, 255, 1],\n",
    "    [1, 255, 1, 255, 1, 255],\n",
    "    [1, 255, 255, 255, 1, 1],\n",
    "    [255, 1, 1, 1, 255, 255],\n",
    "    [255, 1, 255, 1, 255, 1],\n",
    "    [255, 255, 1, 1, 1, 255],\n",
    "    [255, 255, 255, 1, 1, 1]\n",
    "])\n",
    "labels_rows = [\n",
    "    \"e\",\n",
    "    \"r\",\n",
    "    \"c\",\n",
    "    \"cr\",\n",
    "    \"l\",\n",
    "    \"lr\",\n",
    "    \"lc\",\n",
    "    \"f\"\n",
    "]"
   ]
  },
  {
   "cell_type": "code",
   "execution_count": 9,
   "id": "867c0d38-f10b-46f6-b02f-9123339ae62a",
   "metadata": {},
   "outputs": [
    {
     "ename": "ValueError",
     "evalue": "operands could not be broadcast together with shapes (8,) (6,) ",
     "output_type": "error",
     "traceback": [
      "\u001b[1;31m---------------------------------------------------------------------------\u001b[0m",
      "\u001b[1;31mValueError\u001b[0m                                Traceback (most recent call last)",
      "Cell \u001b[1;32mIn[9], line 19\u001b[0m\n\u001b[0;32m     17\u001b[0m net\u001b[38;5;241m.\u001b[39mnew_layer(\u001b[38;5;241m8\u001b[39m, weights\u001b[38;5;241m=\u001b[39mweights_rows, labels\u001b[38;5;241m=\u001b[39mlabels_rows, passed_inputs\u001b[38;5;241m=\u001b[39minputs, \u001b[38;5;241m*\u001b[39m\u001b[38;5;241m*\u001b[39mparams_second_row)\n\u001b[0;32m     18\u001b[0m net\u001b[38;5;241m.\u001b[39mnew_layer(\u001b[38;5;241m8\u001b[39m, weights\u001b[38;5;241m=\u001b[39mweights_rows, labels\u001b[38;5;241m=\u001b[39mlabels_rows, passed_inputs\u001b[38;5;241m=\u001b[39minputs, \u001b[38;5;241m*\u001b[39m\u001b[38;5;241m*\u001b[39mparams_third_row)\n\u001b[1;32m---> 19\u001b[0m \u001b[43mnet\u001b[49m\u001b[38;5;241;43m.\u001b[39;49m\u001b[43mfeed_raw\u001b[49m\u001b[43m(\u001b[49m\u001b[43mtest_seq_data\u001b[49m\u001b[43m)\u001b[49m\n\u001b[0;32m     20\u001b[0m net\u001b[38;5;241m.\u001b[39mweights\n",
      "File \u001b[1;32mH:\\JupyterLab\\spikesim\\module.py:433\u001b[0m, in \u001b[0;36mSpikeNetworkSim.feed_raw\u001b[1;34m(self, data_raw, out_csv)\u001b[0m\n\u001b[0;32m    431\u001b[0m data \u001b[38;5;241m=\u001b[39m pd\u001b[38;5;241m.\u001b[39mDataFrame(data_raw, columns\u001b[38;5;241m=\u001b[39m\u001b[38;5;28mself\u001b[39m\u001b[38;5;241m.\u001b[39mnodes\u001b[38;5;241m.\u001b[39mindex)\u001b[38;5;241m.\u001b[39mfillna(\u001b[38;5;241m0\u001b[39m)\u001b[38;5;241m.\u001b[39mvalues\n\u001b[0;32m    432\u001b[0m s \u001b[38;5;241m=\u001b[39m \u001b[38;5;28mself\u001b[39m\u001b[38;5;241m.\u001b[39mstepwise_generator(data)\n\u001b[1;32m--> 433\u001b[0m out \u001b[38;5;241m=\u001b[39m [u \u001b[38;5;28;01mfor\u001b[39;00m u \u001b[38;5;129;01min\u001b[39;00m s]\n\u001b[0;32m    434\u001b[0m \u001b[38;5;28mself\u001b[39m\u001b[38;5;241m.\u001b[39mvalues \u001b[38;5;241m=\u001b[39m pd\u001b[38;5;241m.\u001b[39mDataFrame(out)\n\u001b[0;32m    435\u001b[0m \u001b[38;5;28;01mif\u001b[39;00m \u001b[38;5;129;01mnot\u001b[39;00m out_csv \u001b[38;5;129;01mis\u001b[39;00m \u001b[38;5;28;01mNone\u001b[39;00m:\n",
      "File \u001b[1;32mH:\\JupyterLab\\spikesim\\module.py:433\u001b[0m, in \u001b[0;36m<listcomp>\u001b[1;34m(.0)\u001b[0m\n\u001b[0;32m    431\u001b[0m data \u001b[38;5;241m=\u001b[39m pd\u001b[38;5;241m.\u001b[39mDataFrame(data_raw, columns\u001b[38;5;241m=\u001b[39m\u001b[38;5;28mself\u001b[39m\u001b[38;5;241m.\u001b[39mnodes\u001b[38;5;241m.\u001b[39mindex)\u001b[38;5;241m.\u001b[39mfillna(\u001b[38;5;241m0\u001b[39m)\u001b[38;5;241m.\u001b[39mvalues\n\u001b[0;32m    432\u001b[0m s \u001b[38;5;241m=\u001b[39m \u001b[38;5;28mself\u001b[39m\u001b[38;5;241m.\u001b[39mstepwise_generator(data)\n\u001b[1;32m--> 433\u001b[0m out \u001b[38;5;241m=\u001b[39m [u \u001b[38;5;28;01mfor\u001b[39;00m u \u001b[38;5;129;01min\u001b[39;00m s]\n\u001b[0;32m    434\u001b[0m \u001b[38;5;28mself\u001b[39m\u001b[38;5;241m.\u001b[39mvalues \u001b[38;5;241m=\u001b[39m pd\u001b[38;5;241m.\u001b[39mDataFrame(out)\n\u001b[0;32m    435\u001b[0m \u001b[38;5;28;01mif\u001b[39;00m \u001b[38;5;129;01mnot\u001b[39;00m out_csv \u001b[38;5;129;01mis\u001b[39;00m \u001b[38;5;28;01mNone\u001b[39;00m:\n",
      "File \u001b[1;32mH:\\JupyterLab\\spikesim\\module.py:340\u001b[0m, in \u001b[0;36mSpikeNetworkSim.stepwise_generator\u001b[1;34m(self, data)\u001b[0m\n\u001b[0;32m    338\u001b[0m         params \u001b[38;5;241m=\u001b[39m {k: layer_params[k][layer] \u001b[38;5;28;01mfor\u001b[39;00m k \u001b[38;5;129;01min\u001b[39;00m layer_params\u001b[38;5;241m.\u001b[39mkeys()}\n\u001b[0;32m    339\u001b[0m         params[\u001b[38;5;124m\"\u001b[39m\u001b[38;5;124mleak\u001b[39m\u001b[38;5;124m\"\u001b[39m] \u001b[38;5;241m=\u001b[39m np\u001b[38;5;241m.\u001b[39mexp(\u001b[38;5;241m-\u001b[39m\u001b[38;5;28mself\u001b[39m\u001b[38;5;241m.\u001b[39mdt\u001b[38;5;241m/\u001b[39mparams[\u001b[38;5;124m\"\u001b[39m\u001b[38;5;124mtau_leak\u001b[39m\u001b[38;5;124m\"\u001b[39m])\n\u001b[1;32m--> 340\u001b[0m     vals \u001b[38;5;241m=\u001b[39m \u001b[38;5;28;43mself\u001b[39;49m\u001b[38;5;241;43m.\u001b[39;49m\u001b[43mprocessors\u001b[49m\u001b[43m[\u001b[49m\u001b[43mparams\u001b[49m\u001b[43m[\u001b[49m\u001b[38;5;124;43m\"\u001b[39;49m\u001b[38;5;124;43mlayer_type\u001b[39;49m\u001b[38;5;124;43m\"\u001b[39;49m\u001b[43m]\u001b[49m\u001b[43m]\u001b[49m\u001b[43m(\u001b[49m\u001b[43mnode_type\u001b[49m\u001b[43m,\u001b[49m\u001b[43m \u001b[49m\u001b[43m_\u001b[49m\u001b[43m,\u001b[49m\u001b[43m \u001b[49m\u001b[43mlisten\u001b[49m\u001b[43m,\u001b[49m\u001b[43m \u001b[49m\u001b[43mcast\u001b[49m\u001b[43m,\u001b[49m\u001b[43m \u001b[49m\u001b[43mstatus\u001b[49m\u001b[43m,\u001b[49m\u001b[43m \u001b[49m\u001b[43mvals\u001b[49m\u001b[43m,\u001b[49m\u001b[43m \u001b[49m\u001b[43mvals_z\u001b[49m\u001b[43m,\u001b[49m\u001b[43m \u001b[49m\u001b[43mparams\u001b[49m\u001b[43m,\u001b[49m\u001b[43m \u001b[49m\u001b[43mnode\u001b[49m\u001b[43m,\u001b[49m\u001b[43m \u001b[49m\u001b[43mt\u001b[49m\u001b[43m)\u001b[49m       \n\u001b[0;32m    342\u001b[0m vals_z \u001b[38;5;241m=\u001b[39m vals\n\u001b[0;32m    343\u001b[0m \u001b[38;5;28;01myield\u001b[39;00m \u001b[38;5;28mdict\u001b[39m(\u001b[38;5;28mzip\u001b[39m(\u001b[38;5;28mself\u001b[39m\u001b[38;5;241m.\u001b[39mnodes\u001b[38;5;241m.\u001b[39mindex, vals))\n",
      "File \u001b[1;32mH:\\JupyterLab\\spikesim\\module.py:357\u001b[0m, in \u001b[0;36mSpikeNetworkSim.process\u001b[1;34m(self, node_type, _, listen, cast, status, vals, vals_z, params, node, t)\u001b[0m\n\u001b[0;32m    355\u001b[0m \u001b[38;5;28;01melif\u001b[39;00m node_type \u001b[38;5;241m==\u001b[39m \u001b[38;5;124m\"\u001b[39m\u001b[38;5;124mpresynaptic\u001b[39m\u001b[38;5;124m\"\u001b[39m:\n\u001b[0;32m    356\u001b[0m     \u001b[38;5;28;01mif\u001b[39;00m status[\u001b[38;5;124m\"\u001b[39m\u001b[38;5;124minhibited\u001b[39m\u001b[38;5;124m\"\u001b[39m][node] \u001b[38;5;241m<\u001b[39m t:\n\u001b[1;32m--> 357\u001b[0m         n_val \u001b[38;5;241m=\u001b[39m (\u001b[43mvals\u001b[49m\u001b[43m[\u001b[49m\u001b[43mlisten\u001b[49m\u001b[43m]\u001b[49m\u001b[38;5;241;43m*\u001b[39;49m\u001b[43mstatus\u001b[49m\u001b[43m[\u001b[49m\u001b[38;5;124;43m\"\u001b[39;49m\u001b[38;5;124;43mweights\u001b[39;49m\u001b[38;5;124;43m\"\u001b[39;49m\u001b[43m]\u001b[49m\u001b[43m[\u001b[49m\u001b[43mnode\u001b[49m\u001b[43m]\u001b[49m)\u001b[38;5;241m.\u001b[39msum()\u001b[38;5;241m+\u001b[39mvals_z[node]\u001b[38;5;241m*\u001b[39mparams[\u001b[38;5;124m\"\u001b[39m\u001b[38;5;124mleak\u001b[39m\u001b[38;5;124m\"\u001b[39m]\n\u001b[0;32m    358\u001b[0m \u001b[38;5;28;01melif\u001b[39;00m node_type \u001b[38;5;241m==\u001b[39m \u001b[38;5;124m\"\u001b[39m\u001b[38;5;124mpostsynaptic\u001b[39m\u001b[38;5;124m\"\u001b[39m:\n\u001b[0;32m    359\u001b[0m     n_val \u001b[38;5;241m=\u001b[39m \u001b[38;5;28mint\u001b[39m(vals[listen]\u001b[38;5;241m>\u001b[39mparams[\u001b[38;5;124m\"\u001b[39m\u001b[38;5;124mthres\u001b[39m\u001b[38;5;124m\"\u001b[39m])\n",
      "\u001b[1;31mValueError\u001b[0m: operands could not be broadcast together with shapes (8,) (6,) "
     ]
    }
   ],
   "source": [
    "weights = np.zeros((10,8))\n",
    "errors = np.ones(10)\n",
    "iteration = 0\n",
    "test_seq_data = []\n",
    "test_seq_labels = []\n",
    "for n in range(50):\n",
    "        a = np.random.randint(10)\n",
    "        test_seq_labels+=[a for _ in range(50)]\n",
    "        test_seq_data+=[x for x in numbers_rows[a] for _ in range(10)]\n",
    "        #data += [in numbers_rows[n] for _ in range(10)]\n",
    "        for i in range(50):\n",
    "            test_seq_labels.append(-1)\n",
    "            test_seq_data.append(data_rows[\"off\"])\n",
    "net = SpikeNetworkSim(inputs_l=6, dt=1)\n",
    "net.new_layer(8, weights=weights_rows, labels=labels_rows, **params_first_row)\n",
    "inputs = net.nodes.join(net.layers).query(\"type == 'postsynaptic' and layer == -1\").index\n",
    "net.new_layer(8, weights=weights_rows, labels=labels_rows, passed_inputs=inputs, **params_second_row)\n",
    "net.new_layer(8, weights=weights_rows, labels=labels_rows, passed_inputs=inputs, **params_third_row)\n",
    "net.feed_raw(test_seq_data)\n",
    "net.weights"
   ]
  },
  {
   "cell_type": "code",
   "execution_count": null,
   "id": "3e8dbaca-3188-4d76-bea7-9fc9e0a04714",
   "metadata": {},
   "outputs": [],
   "source": [
    "%debug"
   ]
  },
  {
   "cell_type": "code",
   "execution_count": null,
   "id": "d9f9bbfc-374a-459e-8455-6c8c13cd9d77",
   "metadata": {},
   "outputs": [],
   "source": [
    "net.nodes[59]"
   ]
  },
  {
   "cell_type": "code",
   "execution_count": null,
   "id": "f4d52c9f-6359-486a-851a-6e1429135460",
   "metadata": {},
   "outputs": [],
   "source": [
    "\n",
    "            \n",
    "while any(errors>0.5):\n",
    "    print(iteration)\n",
    "    net = SpikeNetworkSim(inputs_l=6, dt=1)\n",
    "    net.new_layer(8, weights=weights_rows, labels=labels_rows, **params_rows)\n",
    "    net.new_layer(40, weights=weights, **params_digits)\n",
    "    digits_post = net.nodes.join(net.layers).query(\"type == 'postsynaptic' and layer == layer.max()\").index\n",
    "    data = []\n",
    "    ans = []\n",
    "    ns = [0, 1, 2]\n",
    "    for n in range(50):\n",
    "        a = np.random.randint(10)\n",
    "        ans+=[a for _ in range(50)]\n",
    "        data+=[x for x in numbers_rows[a] for _ in range(10)]\n",
    "        #data += [in numbers_rows[n] for _ in range(10)]\n",
    "        for i in range(150):\n",
    "            ans.append(-1)\n",
    "            data.append(data_rows[\"off\"])\n",
    "    net.feed_raw(data, \"output.csv\")\n",
    "    \n",
    "    net.layer_params[\"learning\"][-1] = False\n",
    "    net.layer_params[\"tau_refractory\"][-1] = 50\n",
    "    net.layer_params[\"tau_inhibitory\"][-1] = 50\n",
    "    \n",
    "    net.feed_raw(test_seq_data)\n",
    "    r = net.error(test_seq_labels, pos_weight=50, neg_weight=50)[digits_post]\n",
    "    r = pd.DataFrame((r.min(), r.idxmin()), index=[\"min\", \"tag\"]).transpose()\n",
    "\n",
    "    for i in range(10):\n",
    "        if i in r.tag.values.astype(int):\n",
    "            ind = r.query(\"tag==@i\").query(\"min==min.min()\").index[0]\n",
    "            if r.at[ind, \"min\"] <= errors[i]:\n",
    "                weights[i] = net.weights.at[ind-1, \"weights\"]\n",
    "                errors[i] = r.at[ind, \"min\"]\n",
    "            else:\n",
    "                errors[i] = r.iat[i, 0]\n",
    "            \n",
    "    print(errors)\n",
    "    print(weights)\n",
    "    iteration+=1\n"
   ]
  },
  {
   "cell_type": "code",
   "execution_count": null,
   "id": "dc388180-0529-4a25-a5d8-b0e78c18d5e9",
   "metadata": {},
   "outputs": [],
   "source": [
    "%debug"
   ]
  },
  {
   "cell_type": "code",
   "execution_count": null,
   "id": "fcb200e0-4435-48c0-9192-25ca0761231b",
   "metadata": {},
   "outputs": [],
   "source": [
    "dendrite = {1: (1,2,3), 2: 1}\n",
    "[d if isinstance(d, int) else [_d for _d in d] for s,d in dendrite]"
   ]
  },
  {
   "cell_type": "code",
   "execution_count": null,
   "id": "98af6ea2-c4d7-4fdb-8188-391df06f8a4a",
   "metadata": {},
   "outputs": [],
   "source": []
  }
 ],
 "metadata": {
  "kernelspec": {
   "display_name": "spikesim",
   "language": "python",
   "name": "spikesim"
  },
  "language_info": {
   "codemirror_mode": {
    "name": "ipython",
    "version": 3
   },
   "file_extension": ".py",
   "mimetype": "text/x-python",
   "name": "python",
   "nbconvert_exporter": "python",
   "pygments_lexer": "ipython3",
   "version": "3.9.1"
  }
 },
 "nbformat": 4,
 "nbformat_minor": 5
}
