{
 "cells": [
  {
   "cell_type": "markdown",
   "id": "86eb5391-00e6-4bbb-a1b9-6d46a4628ea5",
   "metadata": {},
   "source": [
    "# Opimized spiking neural network architectures"
   ]
  },
  {
   "cell_type": "markdown",
   "id": "ec60398b-b213-4ce1-bf15-c10e32b22294",
   "metadata": {
    "tags": []
   },
   "source": [
    "## 1. Initial setup"
   ]
  },
  {
   "cell_type": "code",
   "execution_count": 84,
   "id": "22a13c12-3629-42e0-8482-137cc16342df",
   "metadata": {
    "tags": []
   },
   "outputs": [],
   "source": [
    "import numpy as np\n",
    "from matplotlib import pyplot as plt\n",
    "from tqdm.notebook import tqdm\n",
    "from module import *\n",
    "data_rows = {\n",
    "    \"e\":  {0: 0, 1: 0, 2: 0, 3: 1, 4: 1, 5: 1},\n",
    "    \"r\":  {0: 0, 1: 0, 2: 1, 3: 1, 4: 1, 5: 0},\n",
    "    \"c\":  {0: 0, 1: 1, 2: 0, 3: 1, 4: 0, 5: 1},\n",
    "    \"cr\": {0: 0, 1: 1, 2: 1, 3: 1, 4: 0, 5: 0},\n",
    "    \"l\":  {0: 1, 1: 0, 2: 0, 3: 0, 4: 1, 5: 1},\n",
    "    \"lr\": {0: 1, 1: 0, 2: 1, 3: 0, 4: 1, 5: 0},\n",
    "    \"lc\": {0: 1, 1: 1, 2: 0, 3: 0, 4: 0, 5: 1},\n",
    "    \"f\":  {0: 1, 1: 1, 2: 1, 3: 0, 4: 0, 5: 0},\n",
    "    \"off\":{0: 0, 1: 0, 2: 0, 3: 0, 4: 0, 5: 0}\n",
    "}\n",
    "numbers_2l = {\n",
    "    0: \"f lr lr lr f\",\n",
    "    1: \"c c c c c\",\n",
    "    2: \"f r f l f\",\n",
    "    3: \"f r f r f\",\n",
    "    4: \"lr lr f r r\",\n",
    "    5: \"f l f r f\",\n",
    "    6: \"f l f lr f\",\n",
    "    7: \"f r r r r\",\n",
    "    8: \"f lr f lr f\",\n",
    "    9: \"f lr f r f\",\n",
    "}\n",
    "numbers_d = {\n",
    "    0: \"f lr lr lr lr lr f\",\n",
    "    1: \"c c c c c c c\",\n",
    "    2: \"f r r c l l f\",\n",
    "    3: \"lc r r c r r lc\",\n",
    "    4: \"lr lr lr f r r r\",\n",
    "    5: \"f l l c r r f\",\n",
    "    6: \"f l l f lr lr f\",\n",
    "    7: \"f r r c c c c\",\n",
    "    8: \"c lr lr c lr lr f\",\n",
    "    9: \"c lr lr cr r c l\",\n",
    "}\n",
    "empty = np.array([[0,0,0,1,1,1],[0,0,0,1,1,1],[0,0,0,1,1,1],[0,0,0,1,1,1],[0,0,0,1,1,1]])\n",
    "\n",
    "numbers_rows_2l = {k: [data_rows[vv] for vv in v.split(\" \")] for k, v in numbers_2l.items()}\n",
    "numbers_rows_d = {k: [data_rows[vv] for vv in v.split(\" \")] for k, v in numbers_d.items()}\n",
    "\n",
    "from ipywidgets import SelectMultiple, Select, Button, HBox, VBox, Output, IntRangeSlider, Checkbox, Accordion\n",
    "def ui(data):\n",
    "    def update_graph(b):\n",
    "        fig, ax = plt.subplots(figsize=(8,8))\n",
    "        s = np.concatenate(([x.value for x in select_nodes]))\n",
    "        if np.isin('---', s):\n",
    "            s = s[np.where(s != '---')].astype(int)\n",
    "        for n in s:\n",
    "            t = data.index.tolist()\n",
    "            ax.step(t[xw.value[0]:xw.value[1]], data[n][xw.value[0]:xw.value[1]])\n",
    "        ax.legend([int(n) for n in s])\n",
    "        with graph:\n",
    "            graph.clear_output()\n",
    "            display(plt.show())\n",
    "\n",
    "\n",
    "    graph = Output()\n",
    "    layer_select = Select(\n",
    "        options=net.nodes.layer.unique(),\n",
    "        value=0,\n",
    "        description='Слой'\n",
    "    )\n",
    "\n",
    "    type_chboxs = []\n",
    "    for t in net.nodes.type.unique():\n",
    "        type_chboxs.append(Checkbox(\n",
    "            value=True,\n",
    "            description=t,\n",
    "            disabled=False\n",
    "        ))\n",
    "    select_nodes = []\n",
    "    for t in type_chboxs:\n",
    "        v = t.value\n",
    "        if v:\n",
    "            select_nodes.append(\n",
    "                SelectMultiple(\n",
    "                    options=np.insert(np.array(net.nodes.query(f\"type=='{t.description}'\").index.tolist(),dtype=object), 0, '---'),\n",
    "                    description=t.description\n",
    "                )\n",
    "            )\n",
    "            select_nodes[-1].rows = min(len(select_nodes[-1].options), 10)\n",
    "\n",
    "    def on_layer_change(change):\n",
    "        select_nodes = []\n",
    "        for t in type_chboxs:\n",
    "            v = t.value\n",
    "            if v:\n",
    "                select_nodes.append(\n",
    "                    SelectMultiple(\n",
    "                        options=np.insert(np.array(net.nodes.query(f\"type=={t.description}\").index.tolist(),dtype=object), 0, '---'),\n",
    "                        description=t.description\n",
    "                    )\n",
    "                )\n",
    "                select_nodes[-1].rows = min(len(select_nodes[-1].options), 10)\n",
    "\n",
    "    layer_select.observe(on_layer_change, names='value')\n",
    "\n",
    "    xw = IntRangeSlider(\n",
    "        min=data.index.min(),\n",
    "        max=data.index.max(),\n",
    "        value=(data.index.min(), data.index.max()),\n",
    "        description='Окно просмотра',\n",
    "        disabled=False\n",
    "    )\n",
    "    select = Accordion(children=[VBox(type_chboxs), VBox(select_nodes)])\n",
    "    select.selected_index=1\n",
    "    select.set_title(0, 'Типы')\n",
    "    select.set_title(1, 'Ноды')\n",
    "    xw.observe(update_graph, names='value')\n",
    "    [x.observe(update_graph, names='value') for x in select_nodes]\n",
    "    draw = Button(description='Draw')\n",
    "    draw.on_click(update_graph)\n",
    "    return HBox((VBox((xw,select,draw)), graph))\n",
    "\n",
    "\n",
    "def calculate_aggregate_error(network_error):\n",
    "    e = {k: v.copy() for k, v in network_error.items()}\n",
    "    mins = []\n",
    "    for _ in network_error.keys():\n",
    "        b = {k: min(e[k], key=lambda x: abs(e[k][x])) for k in e.keys()}\n",
    "        a = min(b, key=lambda x: abs(e[x][b[x]]))\n",
    "        mins.append(e[a][b[a]])\n",
    "        del e[a]\n",
    "        for k in e.keys():\n",
    "            del e[k][b[a]]\n",
    "    mins = np.array(mins)\n",
    "    return mins.mean()"
   ]
  },
  {
   "cell_type": "markdown",
   "id": "cb294833-32bc-4fb8-8034-204311857cbc",
   "metadata": {
    "tags": []
   },
   "source": [
    "## 2. 2 layer SNN"
   ]
  },
  {
   "cell_type": "markdown",
   "id": "a8b4ffad-d1fa-4bb6-b187-e0570ab392e5",
   "metadata": {},
   "source": [
    "## 3. Dendritic SNN"
   ]
  },
  {
   "cell_type": "markdown",
   "id": "722f7f66-118c-4d01-884f-7db3f645bd43",
   "metadata": {},
   "source": [
    "### 3.1. Network generation preset"
   ]
  },
  {
   "cell_type": "code",
   "execution_count": 68,
   "id": "07ff9ad9-00d1-496e-808f-cf20c3afd89e",
   "metadata": {
    "tags": []
   },
   "outputs": [],
   "source": [
    "def new_network(p={}):\n",
    "    params = params_dendrites.copy()\n",
    "    params.update(p)\n",
    "    net = SpikeNetworkSim(inputs_l=6, dt=1)\n",
    "    teacher_nodes, who_is_who = net.ttron_layer(num_nodes=4, num_cat_inputs=4, delay_depth=5, **params)\n",
    "    return net, teacher_nodes, who_is_who\n",
    "net, teacher_nodes, who_is_who = new_network()"
   ]
  },
  {
   "cell_type": "markdown",
   "id": "3c695169-907c-410c-bc47-aab47e5f9578",
   "metadata": {},
   "source": [
    "### 3.2. Training and test data generation"
   ]
  },
  {
   "cell_type": "code",
   "execution_count": 9,
   "id": "49aa2c7b-90a0-44d8-ba9a-f62536d28400",
   "metadata": {
    "tags": []
   },
   "outputs": [],
   "source": [
    "row_time = 10\n",
    "silent_time = 100\n",
    "\n",
    "genome = {\n",
    "    1:{35:0, 65:0}, \n",
    "    2:{35:1, 65:2},\n",
    "    3:{35:1, 65:1}, \n",
    "    4:{35:3, 65:1}, \n",
    "    5:{35:2, 65:1},\n",
    "    6:{35:2, 65:3},\n",
    "    7:{35:1, 65:0}, \n",
    "}\n",
    "pattern_sights = {teacher_nodes[k]: (np.concatenate([(g[row_time*3.5], g[row_time*6.5]) for g in genome.values()])==k).sum() for k in range(4)}"
   ]
  },
  {
   "cell_type": "markdown",
   "id": "66e4f5fa-e908-4984-b864-20d0326841aa",
   "metadata": {
    "tags": []
   },
   "source": [
    "#### 3.2.1. Training data"
   ]
  },
  {
   "cell_type": "code",
   "execution_count": 14,
   "id": "83f2dc64-8f7a-4142-8644-0907b895ad3a",
   "metadata": {
    "tags": []
   },
   "outputs": [],
   "source": [
    "def gen_training_set(n_num):\n",
    "    seq_data = []\n",
    "    seq_labels = []\n",
    "    a = None\n",
    "    for n in range(n_num):\n",
    "            a = np.random.randint(1, 8)\n",
    "            seq_data+=[x.copy() for x in numbers_rows_d[a]]\n",
    "            seq_labels+=[a for _ in numbers_rows_d[a]]\n",
    "            seq_labels.append(-1)\n",
    "            seq_data.append(data_rows[\"off\"].copy())\n",
    "\n",
    "    nseq_d = []\n",
    "    nseq_l = []\n",
    "\n",
    "    for d, l in zip(seq_data, seq_labels):\n",
    "        if l != -1:\n",
    "            t = row_time\n",
    "        else:\n",
    "            t = silent_time\n",
    "        nseq_d.append(d.copy())\n",
    "        nseq_l.append(l)\n",
    "        for i in range(t-1):\n",
    "            nseq_d.append(data_rows[\"off\"].copy())\n",
    "            nseq_l.append(l)\n",
    "\n",
    "    seq_data = nseq_d\n",
    "    seq_labels = nseq_l\n",
    "\n",
    "    d_p = seq_labels[0]\n",
    "    step = 1\n",
    "    for i, d in enumerate(seq_labels[1:]):\n",
    "        seq_data[i].update({k:0 for k in teacher_nodes})\n",
    "        if d_p == -1 and d != d_p:\n",
    "            step = 0\n",
    "        if d in genome:\n",
    "            if step in genome[d]:\n",
    "                seq_data[i][teacher_nodes[genome[d][step]]] = 1\n",
    "        d_p = d\n",
    "        step += 1\n",
    "    return seq_data"
   ]
  },
  {
   "cell_type": "markdown",
   "id": "32412c09-53b2-4e5e-a91d-8dcb951af400",
   "metadata": {},
   "source": [
    "#### 3.2.2. Test data"
   ]
  },
  {
   "cell_type": "code",
   "execution_count": 13,
   "id": "f35a5f3a-17bd-4dd2-a0e2-1f2ff4bfccb7",
   "metadata": {
    "tags": []
   },
   "outputs": [],
   "source": [
    "nseq_d = []\n",
    "nseq_l = []\n",
    "test_data = []\n",
    "test_labels = []\n",
    "a = None\n",
    "for n in range(1, 9):\n",
    "    a = n\n",
    "    test_data+=[x.copy() for x in numbers_rows_d[a]]\n",
    "    test_labels+=[a for _ in numbers_rows_d[a]]\n",
    "    test_labels.append(-1)\n",
    "    test_data.append(data_rows[\"off\"].copy())\n",
    "\n",
    "for d, l in zip(test_data, test_labels):\n",
    "    if l != -1:\n",
    "        t = row_time\n",
    "    else:\n",
    "        t = silent_time\n",
    "        \n",
    "    nseq_d.append(d.copy())\n",
    "    nseq_l.append(l)\n",
    "    for i in range(t-1):\n",
    "        nseq_d.append(data_rows[\"off\"].copy())\n",
    "        nseq_l.append(l)\n",
    "\n",
    "test_data = nseq_d\n",
    "test_labels = nseq_l\n",
    "step = 0\n",
    "d_p = 0\n",
    "for i, d in enumerate(test_labels[1:]):\n",
    "    test_data[i].update({k:0 for k in teacher_nodes})\n",
    "    if d_p == -1 and d != d_p:\n",
    "        step = 0\n",
    "    if d in genome:\n",
    "        if step<25:\n",
    "            test_data[i][teacher_nodes[genome[d][35]]] = 1\n",
    "        elif step<35:\n",
    "            test_data[i][teacher_nodes[genome[d][35]]] = 1\n",
    "            test_data[i][teacher_nodes[genome[d][65]]] = 1     \n",
    "        else:\n",
    "            test_data[i][teacher_nodes[genome[d][65]]] = 1            \n",
    "    d_p = d\n",
    "    step += 1"
   ]
  },
  {
   "cell_type": "markdown",
   "id": "c237dfd0-4808-410b-b9e6-729b94e6cee4",
   "metadata": {
    "tags": []
   },
   "source": [
    "### 3.3. Hyperparameter optimization"
   ]
  },
  {
   "cell_type": "code",
   "execution_count": 25,
   "id": "b27197fc-9054-49ed-b040-8500ab6a6c37",
   "metadata": {
    "tags": []
   },
   "outputs": [],
   "source": [
    "POOL_N = 5\n",
    "HYPER_POOL = 5\n",
    "error_convolution_threshold = 1.2"
   ]
  },
  {
   "cell_type": "code",
   "execution_count": null,
   "id": "6a6f792a-2965-4258-8c82-f97ff90e3033",
   "metadata": {
    "tags": []
   },
   "outputs": [
    {
     "data": {
      "application/vnd.jupyter.widget-view+json": {
       "model_id": "15ddc103031d4a0aa54726866c4c9cd2",
       "version_major": 2,
       "version_minor": 0
      },
      "text/plain": [
       "  0%|          | 0/5 [00:00<?, ?it/s]"
      ]
     },
     "metadata": {},
     "output_type": "display_data"
    },
    {
     "data": {
      "application/vnd.jupyter.widget-view+json": {
       "model_id": "e92191153544459981dfa3c79ad837e1",
       "version_major": 2,
       "version_minor": 0
      },
      "text/plain": [
       "  0%|          | 0/5 [00:00<?, ?it/s]"
      ]
     },
     "metadata": {},
     "output_type": "display_data"
    }
   ],
   "source": [
    "networks_pool = []\n",
    "variations = []\n",
    "net, _, _ = new_network()\n",
    "start_weights = net.weights.weights.copy()\n",
    "temp_start = temp = 0.5\n",
    "training_data = [gen_training_set(10) for _ in range(10)]\n",
    "params_dendrites = {\n",
    "    \"tau_leak\": 2*row_time, \n",
    "    \"tau_inhibitory\": 1,\n",
    "    \"tau_refractory\": 1,\n",
    "    \"tau_ltp\": 3*row_time, \n",
    "    \"thres\": 1150,\n",
    "    \"ainc\": 0.7, \n",
    "    \"adec\": -3, \n",
    "    \"wmax\": 250, \n",
    "    \"wmin\": 1,\n",
    "    \"learning\": True,\n",
    "    \"wta\": True,\n",
    "    \"layer_type\": \"ttron\"\n",
    "}\n",
    "\n",
    "\n",
    "for i in tqdm(range(HYPER_POOL)):\n",
    "    for j in tqdm(range(POOL_N)):\n",
    "        params_update = {\n",
    "            \"tau_leak\": np.random.randint(-1*row_time, 1*row_time)*temp+params_dendrites[\"tau_leak\"]*(1-temp), \n",
    "            \"tau_ltp\": np.random.randint(-1*row_time, 1*row_time)*temp+params_dendrites[\"tau_ltp\"]*(1-temp), \n",
    "            \"wmax\": np.random.randint(params_dendrites[\"wmin\"]+1, 255)*temp+params_dendrites[\"wmax\"]*(1-temp), \n",
    "        }\n",
    "        params_update = {k: v if v > 0 else 1 for k, v in params_update.items()}\n",
    "        net, _, _ = new_network(params_update)\n",
    "        net.weights.weights = start_weights.copy()\n",
    "        error_agg = error_agg_min = 1\n",
    "        for section, training_data_part in enumerate(training_data):\n",
    "            net.layer_params[\"learning\"][-1] = True\n",
    "            out_learn = net.feed_raw(training_data_part)\n",
    "            net.layer_params[\"learning\"][-1] = False\n",
    "            out_test = net.feed_raw(test_data)\n",
    "\n",
    "            error_agg = calculate_aggregate_error(net.error(teacher_nodes, pattern_sights=pattern_sights))\n",
    "\n",
    "            if error_agg > error_agg_min*error_convolution_threshold:\n",
    "                break\n",
    "                \n",
    "            if error_agg < error_agg_min:\n",
    "                params_dendrites.update(params_update)\n",
    "                temp = temp_start*error_agg_min\n",
    "                \n",
    "            error_agg_min = min(error_agg, error_agg_min)\n",
    "            variations.append(\n",
    "                {\"sp\": i*HYPER_POOL+j, \"sec\": section, \"weights\": net.weights.weights.copy(), \"error_agg\": error_agg, \"params_update\": params_update.copy()}\n",
    "            )\n",
    "    \n",
    "optimization_ds = pd.DataFrame(variations)"
   ]
  },
  {
   "cell_type": "code",
   "execution_count": 88,
   "id": "c2e68491-b59e-4457-b4e7-2e9680d184e2",
   "metadata": {
    "tags": []
   },
   "outputs": [
    {
     "name": "stdout",
     "output_type": "stream",
     "text": [
      "0      {'tau_leak': 13.0, 'tau_ltp': 16.5, 'wmax': 17...\n",
      "136    {'tau_leak': 15.822916666666668, 'tau_ltp': 9....\n",
      "137    {'tau_leak': 15.822916666666668, 'tau_ltp': 9....\n",
      "1      {'tau_leak': 13.0, 'tau_ltp': 16.5, 'wmax': 17...\n",
      "138    {'tau_leak': 15.822916666666668, 'tau_ltp': 9....\n",
      "Name: params_update, dtype: object\n"
     ]
    },
    {
     "data": {
      "image/png": "[encoded data removed]",
      "text/plain": [
       "<Figure size 640x480 with 1 Axes>"
      ]
     },
     "metadata": {},
     "output_type": "display_data"
    }
   ],
   "source": [
    "for i in optimization_ds.sp:\n",
    "    d = optimization_ds.sort_values(\"sec\").groupby(\"sp\", group_keys=True).apply(pd.DataFrame).loc[i]\n",
    "    plt.plot(\n",
    "        d.sec, \n",
    "        d.error_agg\n",
    "    )\n",
    "print(optimization_ds.loc[optimization_ds[\"error_agg\"].abs().sort_values().index[:5]].params_update)"
   ]
  },
  {
   "cell_type": "code",
   "execution_count": null,
   "id": "7bf73bbe-cb5a-4372-8846-9d7610d1aa09",
   "metadata": {},
   "outputs": [],
   "source": []
  }
 ],
 "metadata": {
  "kernelspec": {
   "display_name": "spikesim",
   "language": "python",
   "name": "spikesim"
  },
  "language_info": {
   "codemirror_mode": {
    "name": "ipython",
    "version": 3
   },
   "file_extension": ".py",
   "mimetype": "text/x-python",
   "name": "python",
   "nbconvert_exporter": "python",
   "pygments_lexer": "ipython3",
   "version": "3.11.2"
  }
 },
 "nbformat": 4,
 "nbformat_minor": 5
}
