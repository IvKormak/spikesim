{
 "cells": [
  {
   "cell_type": "code",
   "execution_count": 1,
   "id": "858e9826-0cfc-4d8b-a830-9a9135afc0fd",
   "metadata": {},
   "outputs": [],
   "source": [
    "import pandas as pd\n",
    "import numpy as np\n",
    "import pickle\n",
    "from matplotlib import pyplot as plt\n",
    "from tqdm import trange\n",
    "from dataclasses import dataclass\n",
    "import csv"
   ]
  },
  {
   "cell_type": "code",
   "execution_count": 2,
   "id": "d7e16c3e-aeb3-4717-9f75-3404d907cb35",
   "metadata": {},
   "outputs": [],
   "source": [
    "from module import *"
   ]
  },
  {
   "cell_type": "code",
   "execution_count": 3,
   "id": "14bfeb0b-03a7-40da-a7fe-4bfbf3e054e6",
   "metadata": {
    "tags": []
   },
   "outputs": [],
   "source": [
    "data_rows = {\n",
    "    \"e\":  {0: 0, 1: 0, 2: 0, 3: 1, 4: 1, 5: 1},\n",
    "    \"r\":  {0: 0, 1: 0, 2: 1, 3: 1, 4: 1, 5: 0},\n",
    "    \"c\":  {0: 0, 1: 1, 2: 0, 3: 1, 4: 0, 5: 1},\n",
    "    \"cr\": {0: 0, 1: 1, 2: 1, 3: 1, 4: 0, 5: 0},\n",
    "    \"l\":  {0: 1, 1: 0, 2: 0, 3: 0, 4: 1, 5: 1},\n",
    "    \"lr\": {0: 1, 1: 0, 2: 1, 3: 0, 4: 1, 5: 0},\n",
    "    \"lc\": {0: 1, 1: 1, 2: 0, 3: 0, 4: 0, 5: 1},\n",
    "    \"f\":  {0: 1, 1: 1, 2: 1, 3: 0, 4: 0, 5: 0},\n",
    "    \"off\":{0: 0, 1: 0, 2: 0, 3: 0, 4: 0, 5: 0}\n",
    "}\n",
    "numbers = {\n",
    "    0: \"f lr lr lr f\",\n",
    "    1: \"c c c c c\",\n",
    "    2: \"f r f l f\",\n",
    "    3: \"f r f r f\",\n",
    "    4: \"lr lr f r r\",\n",
    "    5: \"f l f r f\",\n",
    "    6: \"f l f lr f\",\n",
    "    7: \"f r r r r\",\n",
    "    8: \"f lr f lr f\",\n",
    "    9: \"f lr f r f\",\n",
    "}\n",
    "empty = np.array([[0,0,0,1,1,1],[0,0,0,1,1,1],[0,0,0,1,1,1],[0,0,0,1,1,1],[0,0,0,1,1,1]])\n",
    "\n",
    "numbers_rows = {k: [data_rows[vv] for vv in v.split(\" \")] for k, v in numbers.items()}\n"
   ]
  },
  {
   "cell_type": "code",
   "execution_count": 4,
   "id": "666a7476-bf51-418a-96b7-d125633e7923",
   "metadata": {
    "tags": []
   },
   "outputs": [],
   "source": [
    "from ipywidgets import SelectMultiple, Select, Button, HBox, VBox, Output, IntRangeSlider, Checkbox, Accordion\n",
    "def ui(data):\n",
    "    def update_graph(b):\n",
    "        fig, ax = plt.subplots(figsize=(8,8))\n",
    "        s = np.concatenate(([x.value for x in select_nodes]))\n",
    "        if np.isin('---', s):\n",
    "            s = s[np.where(s != '---')].astype(int)\n",
    "        for n in s:\n",
    "            t = data.index.tolist()\n",
    "            ax.step(t[xw.value[0]:xw.value[1]], data[n][xw.value[0]:xw.value[1]])\n",
    "        ax.legend([int(n) for n in s])\n",
    "        with graph:\n",
    "            graph.clear_output()\n",
    "            display(plt.show())\n",
    "\n",
    "\n",
    "    graph = Output()\n",
    "    layer_select = Select(\n",
    "        options=net.nodes.layer.unique(),\n",
    "        value=0,\n",
    "        description='Слой'\n",
    "    )\n",
    "\n",
    "    type_chboxs = []\n",
    "    for t in net.nodes.type.unique():\n",
    "        type_chboxs.append(Checkbox(\n",
    "            value=True,\n",
    "            description=t,\n",
    "            disabled=False\n",
    "        ))\n",
    "    select_nodes = []\n",
    "    for t in type_chboxs:\n",
    "        v = t.value\n",
    "        if v:\n",
    "            select_nodes.append(\n",
    "                SelectMultiple(\n",
    "                    options=np.insert(np.array(net.nodes.query(f\"type=='{t.description}'\").index.tolist(),dtype=object), 0, '---'),\n",
    "                    description=t.description\n",
    "                )\n",
    "            )\n",
    "            select_nodes[-1].rows = min(len(select_nodes[-1].options), 10)\n",
    "\n",
    "    def on_layer_change(change):\n",
    "        select_nodes = []\n",
    "        for t in type_chboxs:\n",
    "            v = t.value\n",
    "            if v:\n",
    "                select_nodes.append(\n",
    "                    SelectMultiple(\n",
    "                        options=np.insert(np.array(net.nodes.query(f\"type=={t.description}\").index.tolist(),dtype=object), 0, '---'),\n",
    "                        description=t.description\n",
    "                    )\n",
    "                )\n",
    "                select_nodes[-1].rows = min(len(select_nodes[-1].options), 10)\n",
    "\n",
    "    layer_select.observe(on_layer_change, names='value')\n",
    "\n",
    "    xw = IntRangeSlider(\n",
    "        min=data.index.min(),\n",
    "        max=data.index.max(),\n",
    "        value=(data.index.min(), data.index.max()),\n",
    "        description='Окно просмотра',\n",
    "        disabled=False\n",
    "    )\n",
    "    select = Accordion(children=[VBox(type_chboxs), VBox(select_nodes)])\n",
    "    select.selected_index=1\n",
    "    select.set_title(0, 'Типы')\n",
    "    select.set_title(1, 'Ноды')\n",
    "    xw.observe(update_graph, names='value')\n",
    "    [x.observe(update_graph, names='value') for x in select_nodes]\n",
    "    draw = Button(description='Draw')\n",
    "    draw.on_click(update_graph)\n",
    "    return HBox((VBox((xw,select,draw)), graph))"
   ]
  },
  {
   "cell_type": "code",
   "execution_count": 5,
   "id": "60c586cf-176d-4093-aa53-b23fcce77de1",
   "metadata": {
    "tags": []
   },
   "outputs": [],
   "source": [
    "def draw_network(net):\n",
    "    import networkx as nx\n",
    "    edges = []\n",
    "    pos = {}\n",
    "    n_in = {}\n",
    "    for node, (_, priority, listen, cast, __) in net.nodes.iterrows():\n",
    "        if listen is not None:\n",
    "            try:\n",
    "                iter(listen)\n",
    "            except:\n",
    "                listen = [listen]\n",
    "            for l in listen:\n",
    "                edges.append((l, node))\n",
    "        if cast is not None:\n",
    "            try:\n",
    "                iter(cast)\n",
    "            except:\n",
    "                cast = [cast]\n",
    "            for c in cast:\n",
    "                edges.append((node, c))\n",
    "        if priority not in n_in:\n",
    "            n_in[priority] = 0\n",
    "        pos[node] = (priority, n_in[priority])\n",
    "        n_in[priority] += 0.5\n",
    "    G = nx.DiGraph()\n",
    "    G.add_edges_from(edges)\n",
    "    plt.figure(figsize=(15,15))\n",
    "    options = {\n",
    "        \"font_size\": 12,\n",
    "        \"node_size\": 300,\n",
    "        \"node_color\": \"white\",\n",
    "        \"edgecolors\": \"blue\",\n",
    "        \"linewidths\": 2,\n",
    "        \"width\": 2,\n",
    "        \"connectionstyle\": 'arc3, rad = 0.3'\n",
    "    }\n",
    "    ax = plt.gca()\n",
    "    ax.margins(0.20)\n",
    "    plt.axis(\"off\")\n",
    "    nx.draw_networkx(G, pos, **options)\n",
    "    plt.show()"
   ]
  },
  {
   "cell_type": "code",
   "execution_count": 6,
   "id": "d4a7215f-0cad-4c13-a358-694860c5e84c",
   "metadata": {
    "tags": []
   },
   "outputs": [],
   "source": [
    "params_rows = {\n",
    "    \"tau_leak\": 1, \n",
    "    \"tau_inhibitory\": 1,\n",
    "    \"tau_refractory\": 1,\n",
    "    \"tau_ltp\": 1, \n",
    "    \"thres\": 750,\n",
    "    \"ainc\": 30, \n",
    "    \"adec\": -15, \n",
    "    \"wmax\": 255, \n",
    "    \"wmin\": 1,\n",
    "    \"learning\": False,\n",
    "    \"wta\": True\n",
    "}\n",
    "weights_rows = np.array([\n",
    "    [1, 1, 1, 255, 255, 255],\n",
    "    [1, 1, 255, 255, 255, 1],\n",
    "    [1, 255, 1, 255, 1, 255],\n",
    "    [1, 255, 255, 255, 1, 1],\n",
    "    [255, 1, 1, 1, 255, 255],\n",
    "    [255, 1, 255, 1, 255, 1],\n",
    "    [255, 255, 1, 1, 1, 255],\n",
    "    [255, 255, 255, 1, 1, 1]\n",
    "])\n",
    "labels_rows = [\n",
    "    \"e\",\n",
    "    \"r\",\n",
    "    \"c\",\n",
    "    \"cr\",\n",
    "    \"l\",\n",
    "    \"lr\",\n",
    "    \"lc\",\n",
    "    \"f\"\n",
    "]\n",
    "params_digits = {\n",
    "    \"tau_leak\": 50, \n",
    "    \"tau_inhibitory\": 30, \n",
    "    \"tau_refractory\": 300,\n",
    "    \"tau_ltp\": 50 ,\n",
    "    \"thres\": 500,\n",
    "    \"ainc\": 20, \n",
    "    \"adec\": -15, \n",
    "    \"wmax\": 255, \n",
    "    \"wmin\": 1,\n",
    "    \"learning\": True,\n",
    "    \"wta\": True\n",
    "}\n",
    "weights_digits = np.array([\n",
    "    [1, 1, 255, 1, 1, 1, 1, 1],\n",
    "    [1, 255, 1, 1, 255, 1, 1, 255],\n",
    "    [1, 1, 1, 1, 1,255, 1, 255]\n",
    "])"
   ]
  },
  {
   "cell_type": "code",
   "execution_count": 7,
   "id": "afdc0cb0-11ec-409a-8427-0d9f4f36734c",
   "metadata": {
    "tags": []
   },
   "outputs": [],
   "source": [
    "nseq_d = []\n",
    "nseq_l = []\n",
    "test_data = [data_rows[\"off\"].copy()]\n",
    "test_labels = [-1]\n",
    "a = None\n",
    "for n in range(3):\n",
    "    a = n\n",
    "    test_data+=[x.copy() for x in numbers_rows[a]]\n",
    "    test_labels+=[a for _ in numbers_rows[a]]\n",
    "    test_labels.append(-1)\n",
    "    test_data.append(data_rows[\"off\"].copy())\n",
    "\n",
    "for d, l in zip(test_data, test_labels):\n",
    "    if l != -1:\n",
    "        t = 10\n",
    "    else:\n",
    "        t = 50\n",
    "        \n",
    "    nseq_d.append(d.copy())\n",
    "    nseq_l.append(l)\n",
    "    for i in range(t-1):\n",
    "        nseq_d.append(data_rows[\"off\"].copy())\n",
    "        nseq_l.append(l)\n",
    "\n",
    "test_data = nseq_d\n",
    "test_labels = nseq_l"
   ]
  },
  {
   "cell_type": "code",
   "execution_count": 8,
   "id": "947f35f6-bcc8-4b35-9c88-40f9ea487bc3",
   "metadata": {
    "tags": []
   },
   "outputs": [],
   "source": [
    "data = []\n",
    "ans = []\n",
    "net = SpikeNetworkSim(inputs_l=6, dt=1)\n",
    "net.new_layer(8, weights=weights_rows, **params_rows)\n",
    "net.new_layer(3, weights=weights_digits, **params_digits) \n",
    "out = net.feed_raw(test_data)\n"
   ]
  },
  {
   "cell_type": "code",
   "execution_count": 29,
   "id": "b36d6b92-b58d-4bf1-8ddf-438cd0f0039a",
   "metadata": {
    "tags": []
   },
   "outputs": [
    {
     "data": {
      "image/png": "[encoded data removed]",
      "text/plain": [
       "<Figure size 1250x750 with 2 Axes>"
      ]
     },
     "metadata": {},
     "output_type": "display_data"
    }
   ],
   "source": [
    "import matplotlib.font_manager as font_manager\n",
    "from cycler import cycler\n",
    "from matplotlib import gridspec\n",
    "\n",
    "imin = 0\n",
    "imax = 50\n",
    "fig = plt.figure(figsize=(2.5, 1.5), dpi=500)\n",
    "fig.tight_layout()\n",
    "font = {\"family\":'Calibri',\n",
    "        \"weight\":'normal',\n",
    "        \"style\":'normal', \n",
    "        \"size\":10}\n",
    "\n",
    "vth = 1.96\n",
    "au_to_v = lambda x: vth/600*x\n",
    "\n",
    "gs1 = gridspec.GridSpec(2, 1, height_ratios=[1, 1])\n",
    "\n",
    "ind = np.array(out.index.to_list())+1-249\n",
    "\n",
    "ax0 = plt.subplot(gs1[0])\n",
    "ax0.step(ind, out[0].values+3, ind, out[1].values+1.5, ind, out[2].values, lw=.8)\n",
    "ax0.set_xticks(())\n",
    "ax0.set_xlim(imin, imax)\n",
    "\n",
    "ax1 = plt.subplot(gs1[1])\n",
    "ax1.step(ind, out[3].values+3, ind, out[4].values+1.5, ind, out[5].values, lw=.8)\n",
    "ax1.set_xlim(imin, imax)\n",
    "ax1.set_xticks(())\n",
    "ax0.spines[['left', 'right', 'top', 'bottom']].set_visible(False)\n",
    "ax1.spines[['left', 'right', 'top', 'bottom']].set_visible(False)\n",
    "ax0.set_ylim(0,4)\n",
    "ax0.set_yticks(())\n",
    "\n",
    "ax1.spines.bottom.set_bounds(imin, imax)\n",
    "ax1.spines.left.set_bounds(0, 4)\n",
    "ax1.spines.right.set_visible(False)\n",
    "ax1.spines.top.set_visible(False)\n",
    "ax1.set_ylim(0,4)\n",
    "ax1.set_yticks(())\n",
    "plt.savefig('timediagrams.png', dpi=500)"
   ]
  },
  {
   "cell_type": "code",
   "execution_count": 10,
   "id": "fde586e0-2e4d-4e88-9ac4-46383131b9ce",
   "metadata": {
    "tags": []
   },
   "outputs": [
    {
     "data": {
      "text/plain": [
       "(40.0, 345.0)"
      ]
     },
     "execution_count": 10,
     "metadata": {},
     "output_type": "execute_result"
    },
    {
     "data": {
      "image/png": "[encoded data removed]",
      "text/plain": [
       "<Figure size 300x1000 with 2 Axes>"
      ]
     },
     "metadata": {},
     "output_type": "display_data"
    }
   ],
   "source": [
    "import matplotlib.font_manager as font_manager\n",
    "from cycler import cycler\n",
    "from matplotlib import gridspec\n",
    "\n",
    "imin = 40\n",
    "imax = 345\n",
    "plt.figure(figsize=(3, 10))\n",
    "\n",
    "font = {\"family\":'Calibri',\n",
    "        \"weight\":'normal',\n",
    "        \"style\":'normal', \n",
    "        \"size\":10}\n",
    "\n",
    "vth = 1.96\n",
    "au_to_v = lambda x: vth/600*x\n",
    "\n",
    "gs = gridspec.GridSpec(3, 1, height_ratios=[2, 1, 1])\n",
    "gs1 = gridspec.GridSpecFromSubplotSpec(2, 1, height_ratios=[1, 1], subplot_spec=gs[0])\n",
    "\n",
    "ind = out.index.to_list()\n",
    "\n",
    "ax0 = plt.subplot(gs1[0])\n",
    "ax0.step(ind, out[0].values+3, ind, out[1].values+1.5, ind, out[2].values, lw=1)\n",
    "ax0.legend([\"Imp1\", \"Imp2\", \"Imp3\"], loc='center left', bbox_to_anchor=(1, 0.5), frameon=False, prop=font)\n",
    "ax0.xaxis.set_tick_params(labelbottom=False)\n",
    "ax0.set_xlim(imin, imax)\n",
    "\n",
    "ax1 = plt.subplot(gs1[1])\n",
    "ax1.step(ind, out[3].values+3, ind, out[4].values+1.5, ind, out[5].values, lw=1)\n",
    "ax1.legend([\"Imp1N\", \"Imp2N\", \"Imp3N\"], loc='center left', bbox_to_anchor=(1, 0.5), frameon=False,  prop=font)\n",
    "ax1.set_xlim(imin, imax)"
   ]
  },
  {
   "cell_type": "code",
   "execution_count": 11,
   "id": "d8dc0617-55ee-4dd3-84ab-3307c044ed5e",
   "metadata": {
    "tags": []
   },
   "outputs": [
    {
     "data": {
      "image/png": "[encoded data removed]",
      "text/plain": [
       "<Figure size 300x1000 with 4 Axes>"
      ]
     },
     "metadata": {},
     "output_type": "display_data"
    }
   ],
   "source": [
    "import matplotlib.font_manager as font_manager\n",
    "from cycler import cycler\n",
    "from matplotlib import gridspec\n",
    "\n",
    "imin = 40\n",
    "imax = 345\n",
    "plt.figure(figsize=(3, 10))\n",
    "\n",
    "font = {\"family\":'Calibri',\n",
    "        \"weight\":'normal',\n",
    "        \"style\":'normal', \n",
    "        \"size\":10}\n",
    "\n",
    "vth = 1.96\n",
    "au_to_v = lambda x: vth/600*x\n",
    "\n",
    "gs = gridspec.GridSpec(3, 1, height_ratios=[2, 1, 1])\n",
    "gs1 = gridspec.GridSpecFromSubplotSpec(2, 1, height_ratios=[1, 1], subplot_spec=gs[0])\n",
    "\n",
    "ind = out.index.to_list()\n",
    "\n",
    "ax0 = plt.subplot(gs1[0])\n",
    "ax0.step(ind, out[0].values+3, ind, out[1].values+1.5, ind, out[2].values, lw=1)\n",
    "ax0.legend([\"Imp1\", \"Imp2\", \"Imp3\"], loc='center left', bbox_to_anchor=(1, 0.5), frameon=False, prop=font)\n",
    "ax0.xaxis.set_tick_params(labelbottom=False)\n",
    "ax0.set_xlim(imin, imax)\n",
    "\n",
    "ax1 = plt.subplot(gs1[1])\n",
    "ax1.step(ind, out[3].values+3, ind, out[4].values+1.5, ind, out[5].values, lw=1)\n",
    "ax1.legend([\"Imp1N\", \"Imp2N\", \"Imp3N\"], loc='center left', bbox_to_anchor=(1, 0.5), frameon=False,  prop=font)\n",
    "ax1.set_xlim(imin, imax)\n",
    "\n",
    "\n",
    "ax3 = plt.subplot(gs[1])\n",
    "for i in range(37, 44):\n",
    "    ax3.step(ind, out[i], lw=1)\n",
    "ax3.legend([\"N1.1\", \"N1.2\", \"N1.3\", \"N1.4\", \"N1.5\", \"N1.6\", \"N1.7\"], title=\"Нейроны 1-го слоя\", loc='center left', ncols=2, bbox_to_anchor=(1, 0.5), frameon=False, prop=font, title_fontproperties=font)\n",
    "ax3.set_xlim(imin, imax)\n",
    "\n",
    "pres, posts = [], []\n",
    "\n",
    "ax5 = plt.subplot(gs[2], sharex = ax3)\n",
    "for i in range(53, 60, 3):\n",
    "    posts.append(ax5.step(out[i].index.tolist(), out[i])[0])\n",
    "    \n",
    "ax5.legend(posts, [\"N2.1\", \"N2.2\", \"N2.3\"], title=\"Нейроны 2-го слоя\", loc='center left', bbox_to_anchor=(1, 0.5), frameon=False,  prop=font, title_fontproperties=font)\n",
    "\n",
    "\n",
    "ax0.spines.bottom.set_bounds(imin, imax)\n",
    "ax0.spines.left.set_bounds(0, 4)\n",
    "ax0.spines.right.set_visible(False)\n",
    "ax0.spines.top.set_visible(False)\n",
    "ax0.set_ylim(0,4)\n",
    "ax0.set_xticks((50, 100, 150, 200,  250, 300))\n",
    "ax0.set_yticks(())\n",
    "ax0.set_title(\"Входные импульсы\",  fontdict=font)\n",
    "ax5.set_xlabel(\"Время, мкс\", loc='right',  fontdict=font)\n",
    "\n",
    "ax1.spines.bottom.set_bounds(imin, imax)\n",
    "ax1.spines.left.set_bounds(0, 4)\n",
    "ax1.spines.right.set_visible(False)\n",
    "ax1.spines.top.set_visible(False)\n",
    "ax1.set_ylim(0,4)\n",
    "ax1.set_xticks((50, 100, 150, 200,  250, 300))\n",
    "ax1.set_yticks(())\n",
    "ax1.set_xlabel(\"Время, мкс\", loc='right',  fontdict=font)\n",
    "\n",
    "\n",
    "ax3.spines.bottom.set_bounds(imin, imax)\n",
    "ax3.spines.left.set_bounds(0, 1)\n",
    "ax3.spines.right.set_visible(False)\n",
    "ax3.spines.top.set_visible(False)\n",
    "ax3.set_ylim(0,1)\n",
    "ax3.set_yticks(())\n",
    "ax3.set_xticks((50, 100, 150, 200,  250, 300))\n",
    "#ax3.set_xlabel(\"Время, мкс\", loc='right',  fontdict=font)\n",
    "\n",
    "\n",
    "ax5.spines.bottom.set_bounds(imin, imax)\n",
    "ax5.spines.left.set_bounds(0, 1)\n",
    "ax5.spines.right.set_visible(False)\n",
    "ax5.spines.top.set_visible(False)\n",
    "ax5.set_ylim(0,1)\n",
    "ax5.set_yticks(())\n",
    "ax5.set_xlabel(\"Время, мкс\", loc='right',  fontdict=font)\n",
    "\n",
    "plt.show()"
   ]
  },
  {
   "cell_type": "code",
   "execution_count": 12,
   "id": "7896bf92-61ca-4898-8267-33adc5a18e9b",
   "metadata": {
    "tags": []
   },
   "outputs": [
    {
     "name": "stderr",
     "output_type": "stream",
     "text": [
      "C:\\Users\\Кормак\\AppData\\Local\\Temp\\ipykernel_19724\\4278657340.py:12: MatplotlibDeprecationWarning: Auto-removal of overlapping axes is deprecated since 3.6 and will be removed two minor releases later; explicitly call ax.remove() as needed.\n",
      "  ax1 = plt.subplot(gs1[1])\n"
     ]
    },
    {
     "ename": "AttributeError",
     "evalue": "'NoneType' object has no attribute 'dpi_scale_trans'",
     "output_type": "error",
     "traceback": [
      "\u001b[1;31m---------------------------------------------------------------------------\u001b[0m",
      "\u001b[1;31mAttributeError\u001b[0m                            Traceback (most recent call last)",
      "Cell \u001b[1;32mIn[12], line 38\u001b[0m\n\u001b[0;32m     36\u001b[0m ax0\u001b[38;5;241m.\u001b[39mspines\u001b[38;5;241m.\u001b[39mtop\u001b[38;5;241m.\u001b[39mset_visible(\u001b[38;5;28;01mFalse\u001b[39;00m)\n\u001b[0;32m     37\u001b[0m ax0\u001b[38;5;241m.\u001b[39mset_ylim(\u001b[38;5;241m0\u001b[39m,\u001b[38;5;241m4\u001b[39m)\n\u001b[1;32m---> 38\u001b[0m \u001b[43max0\u001b[49m\u001b[38;5;241;43m.\u001b[39;49m\u001b[43mset_xticks\u001b[49m\u001b[43m(\u001b[49m\u001b[43m(\u001b[49m\u001b[38;5;241;43m50\u001b[39;49m\u001b[43m,\u001b[49m\u001b[43m \u001b[49m\u001b[38;5;241;43m100\u001b[39;49m\u001b[43m,\u001b[49m\u001b[43m \u001b[49m\u001b[38;5;241;43m150\u001b[39;49m\u001b[43m,\u001b[49m\u001b[43m \u001b[49m\u001b[38;5;241;43m200\u001b[39;49m\u001b[43m,\u001b[49m\u001b[43m  \u001b[49m\u001b[38;5;241;43m250\u001b[39;49m\u001b[43m,\u001b[49m\u001b[43m \u001b[49m\u001b[38;5;241;43m300\u001b[39;49m\u001b[43m)\u001b[49m\u001b[43m)\u001b[49m\n\u001b[0;32m     39\u001b[0m ax0\u001b[38;5;241m.\u001b[39mset_yticks(())\n\u001b[0;32m     40\u001b[0m ax0\u001b[38;5;241m.\u001b[39mset_title(\u001b[38;5;124m\"\u001b[39m\u001b[38;5;124mВходные импульсы\u001b[39m\u001b[38;5;124m\"\u001b[39m,  fontdict\u001b[38;5;241m=\u001b[39mfont)\n",
      "File \u001b[1;32mH:\\JupyterLab\\spikesim\\Lib\\site-packages\\matplotlib\\axes\\_base.py:74\u001b[0m, in \u001b[0;36m_axis_method_wrapper.__set_name__.<locals>.wrapper\u001b[1;34m(self, *args, **kwargs)\u001b[0m\n\u001b[0;32m     73\u001b[0m \u001b[38;5;28;01mdef\u001b[39;00m \u001b[38;5;21mwrapper\u001b[39m(\u001b[38;5;28mself\u001b[39m, \u001b[38;5;241m*\u001b[39margs, \u001b[38;5;241m*\u001b[39m\u001b[38;5;241m*\u001b[39mkwargs):\n\u001b[1;32m---> 74\u001b[0m     \u001b[38;5;28;01mreturn\u001b[39;00m \u001b[43mget_method\u001b[49m\u001b[43m(\u001b[49m\u001b[38;5;28;43mself\u001b[39;49m\u001b[43m)\u001b[49m\u001b[43m(\u001b[49m\u001b[38;5;241;43m*\u001b[39;49m\u001b[43margs\u001b[49m\u001b[43m,\u001b[49m\u001b[43m \u001b[49m\u001b[38;5;241;43m*\u001b[39;49m\u001b[38;5;241;43m*\u001b[39;49m\u001b[43mkwargs\u001b[49m\u001b[43m)\u001b[49m\n",
      "File \u001b[1;32mH:\\JupyterLab\\spikesim\\Lib\\site-packages\\matplotlib\\axis.py:2078\u001b[0m, in \u001b[0;36mAxis.set_ticks\u001b[1;34m(self, ticks, labels, minor, **kwargs)\u001b[0m\n\u001b[0;32m   2075\u001b[0m \u001b[38;5;28;01mif\u001b[39;00m labels \u001b[38;5;129;01mis\u001b[39;00m \u001b[38;5;28;01mNone\u001b[39;00m \u001b[38;5;129;01mand\u001b[39;00m kwargs:\n\u001b[0;32m   2076\u001b[0m     \u001b[38;5;28;01mraise\u001b[39;00m \u001b[38;5;167;01mValueError\u001b[39;00m(\u001b[38;5;124m'\u001b[39m\u001b[38;5;124mlabels argument cannot be None when \u001b[39m\u001b[38;5;124m'\u001b[39m\n\u001b[0;32m   2077\u001b[0m                      \u001b[38;5;124m'\u001b[39m\u001b[38;5;124mkwargs are passed\u001b[39m\u001b[38;5;124m'\u001b[39m)\n\u001b[1;32m-> 2078\u001b[0m result \u001b[38;5;241m=\u001b[39m \u001b[38;5;28;43mself\u001b[39;49m\u001b[38;5;241;43m.\u001b[39;49m\u001b[43m_set_tick_locations\u001b[49m\u001b[43m(\u001b[49m\u001b[43mticks\u001b[49m\u001b[43m,\u001b[49m\u001b[43m \u001b[49m\u001b[43mminor\u001b[49m\u001b[38;5;241;43m=\u001b[39;49m\u001b[43mminor\u001b[49m\u001b[43m)\u001b[49m\n\u001b[0;32m   2079\u001b[0m \u001b[38;5;28;01mif\u001b[39;00m labels \u001b[38;5;129;01mis\u001b[39;00m \u001b[38;5;129;01mnot\u001b[39;00m \u001b[38;5;28;01mNone\u001b[39;00m:\n\u001b[0;32m   2080\u001b[0m     \u001b[38;5;28mself\u001b[39m\u001b[38;5;241m.\u001b[39mset_ticklabels(labels, minor\u001b[38;5;241m=\u001b[39mminor, \u001b[38;5;241m*\u001b[39m\u001b[38;5;241m*\u001b[39mkwargs)\n",
      "File \u001b[1;32mH:\\JupyterLab\\spikesim\\Lib\\site-packages\\matplotlib\\axis.py:2039\u001b[0m, in \u001b[0;36mAxis._set_tick_locations\u001b[1;34m(self, ticks, minor)\u001b[0m\n\u001b[0;32m   2037\u001b[0m \u001b[38;5;28;01melse\u001b[39;00m:\n\u001b[0;32m   2038\u001b[0m     \u001b[38;5;28mself\u001b[39m\u001b[38;5;241m.\u001b[39mset_major_locator(locator)\n\u001b[1;32m-> 2039\u001b[0m     \u001b[38;5;28;01mreturn\u001b[39;00m \u001b[38;5;28;43mself\u001b[39;49m\u001b[38;5;241;43m.\u001b[39;49m\u001b[43mget_major_ticks\u001b[49m\u001b[43m(\u001b[49m\u001b[38;5;28;43mlen\u001b[39;49m\u001b[43m(\u001b[49m\u001b[43mticks\u001b[49m\u001b[43m)\u001b[49m\u001b[43m)\u001b[49m\n",
      "File \u001b[1;32mH:\\JupyterLab\\spikesim\\Lib\\site-packages\\matplotlib\\axis.py:1597\u001b[0m, in \u001b[0;36mAxis.get_major_ticks\u001b[1;34m(self, numticks)\u001b[0m\n\u001b[0;32m   1593\u001b[0m     numticks \u001b[38;5;241m=\u001b[39m \u001b[38;5;28mlen\u001b[39m(\u001b[38;5;28mself\u001b[39m\u001b[38;5;241m.\u001b[39mget_majorticklocs())\n\u001b[0;32m   1595\u001b[0m \u001b[38;5;28;01mwhile\u001b[39;00m \u001b[38;5;28mlen\u001b[39m(\u001b[38;5;28mself\u001b[39m\u001b[38;5;241m.\u001b[39mmajorTicks) \u001b[38;5;241m<\u001b[39m numticks:\n\u001b[0;32m   1596\u001b[0m     \u001b[38;5;66;03m# Update the new tick label properties from the old.\u001b[39;00m\n\u001b[1;32m-> 1597\u001b[0m     tick \u001b[38;5;241m=\u001b[39m \u001b[38;5;28;43mself\u001b[39;49m\u001b[38;5;241;43m.\u001b[39;49m\u001b[43m_get_tick\u001b[49m\u001b[43m(\u001b[49m\u001b[43mmajor\u001b[49m\u001b[38;5;241;43m=\u001b[39;49m\u001b[38;5;28;43;01mTrue\u001b[39;49;00m\u001b[43m)\u001b[49m\n\u001b[0;32m   1598\u001b[0m     \u001b[38;5;28mself\u001b[39m\u001b[38;5;241m.\u001b[39mmajorTicks\u001b[38;5;241m.\u001b[39mappend(tick)\n\u001b[0;32m   1599\u001b[0m     \u001b[38;5;28mself\u001b[39m\u001b[38;5;241m.\u001b[39m_copy_tick_props(\u001b[38;5;28mself\u001b[39m\u001b[38;5;241m.\u001b[39mmajorTicks[\u001b[38;5;241m0\u001b[39m], tick)\n",
      "File \u001b[1;32mH:\\JupyterLab\\spikesim\\Lib\\site-packages\\matplotlib\\axis.py:1546\u001b[0m, in \u001b[0;36mAxis._get_tick\u001b[1;34m(self, major)\u001b[0m\n\u001b[0;32m   1542\u001b[0m     \u001b[38;5;28;01mraise\u001b[39;00m \u001b[38;5;167;01mNotImplementedError\u001b[39;00m(\n\u001b[0;32m   1543\u001b[0m         \u001b[38;5;124mf\u001b[39m\u001b[38;5;124m\"\u001b[39m\u001b[38;5;124mThe Axis subclass \u001b[39m\u001b[38;5;132;01m{\u001b[39;00m\u001b[38;5;28mself\u001b[39m\u001b[38;5;241m.\u001b[39m\u001b[38;5;18m__class__\u001b[39m\u001b[38;5;241m.\u001b[39m\u001b[38;5;18m__name__\u001b[39m\u001b[38;5;132;01m}\u001b[39;00m\u001b[38;5;124m must define \u001b[39m\u001b[38;5;124m\"\u001b[39m\n\u001b[0;32m   1544\u001b[0m         \u001b[38;5;124m\"\u001b[39m\u001b[38;5;124m_tick_class or reimplement _get_tick()\u001b[39m\u001b[38;5;124m\"\u001b[39m)\n\u001b[0;32m   1545\u001b[0m tick_kw \u001b[38;5;241m=\u001b[39m \u001b[38;5;28mself\u001b[39m\u001b[38;5;241m.\u001b[39m_major_tick_kw \u001b[38;5;28;01mif\u001b[39;00m major \u001b[38;5;28;01melse\u001b[39;00m \u001b[38;5;28mself\u001b[39m\u001b[38;5;241m.\u001b[39m_minor_tick_kw\n\u001b[1;32m-> 1546\u001b[0m \u001b[38;5;28;01mreturn\u001b[39;00m \u001b[38;5;28;43mself\u001b[39;49m\u001b[38;5;241;43m.\u001b[39;49m\u001b[43m_tick_class\u001b[49m\u001b[43m(\u001b[49m\u001b[38;5;28;43mself\u001b[39;49m\u001b[38;5;241;43m.\u001b[39;49m\u001b[43maxes\u001b[49m\u001b[43m,\u001b[49m\u001b[43m \u001b[49m\u001b[38;5;241;43m0\u001b[39;49m\u001b[43m,\u001b[49m\u001b[43m \u001b[49m\u001b[43mmajor\u001b[49m\u001b[38;5;241;43m=\u001b[39;49m\u001b[43mmajor\u001b[49m\u001b[43m,\u001b[49m\u001b[43m \u001b[49m\u001b[38;5;241;43m*\u001b[39;49m\u001b[38;5;241;43m*\u001b[39;49m\u001b[43mtick_kw\u001b[49m\u001b[43m)\u001b[49m\n",
      "File \u001b[1;32mH:\\JupyterLab\\spikesim\\Lib\\site-packages\\matplotlib\\axis.py:427\u001b[0m, in \u001b[0;36mXTick.__init__\u001b[1;34m(self, *args, **kwargs)\u001b[0m\n\u001b[0;32m    424\u001b[0m \u001b[38;5;28mself\u001b[39m\u001b[38;5;241m.\u001b[39mgridline\u001b[38;5;241m.\u001b[39mset(\n\u001b[0;32m    425\u001b[0m     data\u001b[38;5;241m=\u001b[39m([\u001b[38;5;241m0\u001b[39m, \u001b[38;5;241m0\u001b[39m], [\u001b[38;5;241m0\u001b[39m, \u001b[38;5;241m1\u001b[39m]), transform\u001b[38;5;241m=\u001b[39max\u001b[38;5;241m.\u001b[39mget_xaxis_transform(\u001b[38;5;124m\"\u001b[39m\u001b[38;5;124mgrid\u001b[39m\u001b[38;5;124m\"\u001b[39m))\n\u001b[0;32m    426\u001b[0m \u001b[38;5;66;03m# the y loc is 3 points below the min of y axis\u001b[39;00m\n\u001b[1;32m--> 427\u001b[0m trans, va, ha \u001b[38;5;241m=\u001b[39m \u001b[38;5;28;43mself\u001b[39;49m\u001b[38;5;241;43m.\u001b[39;49m\u001b[43m_get_text1_transform\u001b[49m\u001b[43m(\u001b[49m\u001b[43m)\u001b[49m\n\u001b[0;32m    428\u001b[0m \u001b[38;5;28mself\u001b[39m\u001b[38;5;241m.\u001b[39mlabel1\u001b[38;5;241m.\u001b[39mset(\n\u001b[0;32m    429\u001b[0m     x\u001b[38;5;241m=\u001b[39m\u001b[38;5;241m0\u001b[39m, y\u001b[38;5;241m=\u001b[39m\u001b[38;5;241m0\u001b[39m,\n\u001b[0;32m    430\u001b[0m     verticalalignment\u001b[38;5;241m=\u001b[39mva, horizontalalignment\u001b[38;5;241m=\u001b[39mha, transform\u001b[38;5;241m=\u001b[39mtrans,\n\u001b[0;32m    431\u001b[0m )\n\u001b[0;32m    432\u001b[0m trans, va, ha \u001b[38;5;241m=\u001b[39m \u001b[38;5;28mself\u001b[39m\u001b[38;5;241m.\u001b[39m_get_text2_transform()\n",
      "File \u001b[1;32mH:\\JupyterLab\\spikesim\\Lib\\site-packages\\matplotlib\\axis.py:439\u001b[0m, in \u001b[0;36mXTick._get_text1_transform\u001b[1;34m(self)\u001b[0m\n\u001b[0;32m    438\u001b[0m \u001b[38;5;28;01mdef\u001b[39;00m \u001b[38;5;21m_get_text1_transform\u001b[39m(\u001b[38;5;28mself\u001b[39m):\n\u001b[1;32m--> 439\u001b[0m     \u001b[38;5;28;01mreturn\u001b[39;00m \u001b[38;5;28;43mself\u001b[39;49m\u001b[38;5;241;43m.\u001b[39;49m\u001b[43maxes\u001b[49m\u001b[38;5;241;43m.\u001b[39;49m\u001b[43mget_xaxis_text1_transform\u001b[49m\u001b[43m(\u001b[49m\u001b[38;5;28;43mself\u001b[39;49m\u001b[38;5;241;43m.\u001b[39;49m\u001b[43m_pad\u001b[49m\u001b[43m)\u001b[49m\n",
      "File \u001b[1;32mH:\\JupyterLab\\spikesim\\Lib\\site-packages\\matplotlib\\axes\\_base.py:968\u001b[0m, in \u001b[0;36m_AxesBase.get_xaxis_text1_transform\u001b[1;34m(self, pad_points)\u001b[0m\n\u001b[0;32m    946\u001b[0m \u001b[38;5;250m\u001b[39m\u001b[38;5;124;03m\"\"\"\u001b[39;00m\n\u001b[0;32m    947\u001b[0m \u001b[38;5;124;03mReturns\u001b[39;00m\n\u001b[0;32m    948\u001b[0m \u001b[38;5;124;03m-------\u001b[39;00m\n\u001b[1;32m   (...)\u001b[0m\n\u001b[0;32m    963\u001b[0m \u001b[38;5;124;03mmay need to place axis elements in different locations.\u001b[39;00m\n\u001b[0;32m    964\u001b[0m \u001b[38;5;124;03m\"\"\"\u001b[39;00m\n\u001b[0;32m    965\u001b[0m labels_align \u001b[38;5;241m=\u001b[39m mpl\u001b[38;5;241m.\u001b[39mrcParams[\u001b[38;5;124m\"\u001b[39m\u001b[38;5;124mxtick.alignment\u001b[39m\u001b[38;5;124m\"\u001b[39m]\n\u001b[0;32m    966\u001b[0m \u001b[38;5;28;01mreturn\u001b[39;00m (\u001b[38;5;28mself\u001b[39m\u001b[38;5;241m.\u001b[39mget_xaxis_transform(which\u001b[38;5;241m=\u001b[39m\u001b[38;5;124m'\u001b[39m\u001b[38;5;124mtick1\u001b[39m\u001b[38;5;124m'\u001b[39m) \u001b[38;5;241m+\u001b[39m\n\u001b[0;32m    967\u001b[0m         mtransforms\u001b[38;5;241m.\u001b[39mScaledTranslation(\u001b[38;5;241m0\u001b[39m, \u001b[38;5;241m-\u001b[39m\u001b[38;5;241m1\u001b[39m \u001b[38;5;241m*\u001b[39m pad_points \u001b[38;5;241m/\u001b[39m \u001b[38;5;241m72\u001b[39m,\n\u001b[1;32m--> 968\u001b[0m                                       \u001b[38;5;28;43mself\u001b[39;49m\u001b[38;5;241;43m.\u001b[39;49m\u001b[43mfigure\u001b[49m\u001b[38;5;241;43m.\u001b[39;49m\u001b[43mdpi_scale_trans\u001b[49m),\n\u001b[0;32m    969\u001b[0m         \u001b[38;5;124m\"\u001b[39m\u001b[38;5;124mtop\u001b[39m\u001b[38;5;124m\"\u001b[39m, labels_align)\n",
      "\u001b[1;31mAttributeError\u001b[0m: 'NoneType' object has no attribute 'dpi_scale_trans'"
     ]
    },
    {
     "data": {
      "image/png": "[encoded data removed]",
      "text/plain": [
       "<Figure size 640x480 with 3 Axes>"
      ]
     },
     "metadata": {},
     "output_type": "display_data"
    }
   ],
   "source": [
    "import matplotlib.font_manager as font_manager\n",
    "from cycler import cycler\n",
    "from matplotlib import gridspec\n",
    "\n",
    "\n",
    "ax0 = plt.subplot()\n",
    "ax0.step(ind, out[0].values+3, ind, out[1].values+1.5, ind, out[2].values, lw=1)\n",
    "ax0.legend([\"Imp1\", \"Imp2\", \"Imp3\"], loc='center left', bbox_to_anchor=(1, 0.5), frameon=False, prop=font)\n",
    "ax0.xaxis.set_tick_params(labelbottom=False)\n",
    "ax0.set_xlim(imin, imax)\n",
    "\n",
    "ax1 = plt.subplot(gs1[1])\n",
    "ax1.step(ind, out[3].values+3, ind, out[4].values+1.5, ind, out[5].values, lw=1)\n",
    "ax1.legend([\"Imp1N\", \"Imp2N\", \"Imp3N\"], loc='center left', bbox_to_anchor=(1, 0.5), frameon=False,  prop=font)\n",
    "ax1.set_xlim(imin, imax)\n",
    "\n",
    "\n",
    "ax3 = plt.subplot(gs[1])\n",
    "for i in range(37, 44):\n",
    "    ax3.step(ind, out[i], lw=1)\n",
    "ax3.legend([\"N1.1\", \"N1.2\", \"N1.3\", \"N1.4\", \"N1.5\", \"N1.6\", \"N1.7\"], title=\"Нейроны 1-го слоя\", loc='center left', ncols=2, bbox_to_anchor=(1, 0.5), frameon=False, prop=font, title_fontproperties=font)\n",
    "ax3.set_xlim(imin, imax)\n",
    "\n",
    "pres, posts = [], []\n",
    "\n",
    "ax5 = plt.subplot(gs[2], sharex = ax3)\n",
    "for i in range(53, 60, 3):\n",
    "    posts.append(ax5.step(out[i].index.tolist(), out[i])[0])\n",
    "    \n",
    "ax5.legend(posts, [\"N2.1\", \"N2.2\", \"N2.3\"], title=\"Нейроны 2-го слоя\", loc='center left', bbox_to_anchor=(1, 0.5), frameon=False,  prop=font, title_fontproperties=font)\n",
    "\n",
    "\n",
    "ax0.spines.bottom.set_bounds(imin, imax)\n",
    "ax0.spines.left.set_bounds(0, 4)\n",
    "ax0.spines.right.set_visible(False)\n",
    "ax0.spines.top.set_visible(False)\n",
    "ax0.set_ylim(0,4)\n",
    "ax0.set_xticks((50, 100, 150, 200,  250, 300))\n",
    "ax0.set_yticks(())\n",
    "ax0.set_title(\"Входные импульсы\",  fontdict=font)\n",
    "ax5.set_xlabel(\"Время, мкс\", loc='right',  fontdict=font)\n",
    "\n",
    "ax1.spines.bottom.set_bounds(imin, imax)\n",
    "ax1.spines.left.set_bounds(0, 4)\n",
    "ax1.spines.right.set_visible(False)\n",
    "ax1.spines.top.set_visible(False)\n",
    "ax1.set_ylim(0,4)\n",
    "ax1.set_xticks((50, 100, 150, 200,  250, 300))\n",
    "ax1.set_yticks(())\n",
    "ax1.set_xlabel(\"Время, мкс\", loc='right',  fontdict=font)\n",
    "\n",
    "\n",
    "ax3.spines.bottom.set_bounds(imin, imax)\n",
    "ax3.spines.left.set_bounds(0, 1)\n",
    "ax3.spines.right.set_visible(False)\n",
    "ax3.spines.top.set_visible(False)\n",
    "ax3.set_ylim(0,1)\n",
    "ax3.set_yticks(())\n",
    "ax3.set_xticks((50, 100, 150, 200,  250, 300))\n",
    "#ax3.set_xlabel(\"Время, мкс\", loc='right',  fontdict=font)\n",
    "\n",
    "\n",
    "ax5.spines.bottom.set_bounds(imin, imax)\n",
    "ax5.spines.left.set_bounds(0, 1)\n",
    "ax5.spines.right.set_visible(False)\n",
    "ax5.spines.top.set_visible(False)\n",
    "ax5.set_ylim(0,1)\n",
    "ax5.set_yticks(())\n",
    "ax5.set_xlabel(\"Время, мкс\", loc='right',  fontdict=font)\n",
    "\n",
    "plt.show()"
   ]
  },
  {
   "cell_type": "code",
   "execution_count": null,
   "id": "978fccbb-dad1-4287-8b37-642f171a9466",
   "metadata": {
    "tags": []
   },
   "outputs": [],
   "source": [
    "imin = 240\n",
    "imax = 300\n",
    "plt.figure(figsize=(14, 9))\n",
    "\n",
    "font = {\"family\":'Times New Roman',\n",
    "        \"weight\":'normal',\n",
    "        \"style\":'normal', \n",
    "        \"size\":10}\n",
    "\n",
    "vth = 1.96\n",
    "au_to_v = lambda x: vth/600*x\n",
    "\n",
    "gs = gridspec.GridSpec(1, 2)\n",
    "gs1 = gridspec.GridSpecFromSubplotSpec(2, 1, height_ratios=[1, 1], subplot_spec=gs[0])\n",
    "gs2 = gridspec.GridSpecFromSubplotSpec(1, 1, height_ratios=[1], subplot_spec=gs[1])\n",
    "\n",
    "ind = np.arange(0, 60)\n",
    "\n",
    "ax0 = plt.subplot(gs1[0])\n",
    "ax0.step(ind, out[0].values[imin:imax]+3, ind, out[1].values[imin:imax]+1.5, ind, out[2].values[imin:imax], lw=1.5)\n",
    "ax0.legend([\"Imp1\", \"Imp2\", \"Imp3\"], loc='center left', bbox_to_anchor=(1, 0.5), frameon=False, prop=font)\n",
    "ax0.xaxis.set_tick_params(labelbottom=False)\n",
    "\n",
    "ax1 = plt.subplot(gs1[1])\n",
    "ax1.step(ind, out[3].values[imin:imax]+3, ind, out[4].values[imin:imax]+1.5, ind, out[5].values[imin:imax], lw=1.5)\n",
    "ax1.legend([\"Imp1N\", \"Imp2N\", \"Imp3N\"], loc='center left', bbox_to_anchor=(1, 0.5), frameon=False,  prop=font)\n",
    "\n",
    "ax0.set_xlim(0, 60)\n",
    "ax1.set_xlim(0, 60)\n",
    "\n",
    "ax0.spines.left.set_bounds(0, 4)\n",
    "ax0.spines.right.set_visible(False)\n",
    "ax0.spines.top.set_visible(False)\n",
    "ax0.set_ylim(0,4)\n",
    "ax0.set_yticks(())\n",
    "ax0.set_title(\"Входные импульсы\",  fontdict=font)\n",
    "ax1.spines.left.set_bounds(0, 4)\n",
    "ax1.spines.right.set_visible(False)\n",
    "ax1.spines.top.set_visible(False)\n",
    "ax1.set_ylim(0,4)\n",
    "ax1.set_yticks(())\n",
    "ax1.set_xlabel(\"Время, мкс\", loc='right',  fontdict=font)\n",
    "\n",
    "ax2 = plt.subplot(gs2[0])\n",
    "ax2.imshow(np.array([[0,0,0],[1,1,0],[0,0,0],[0,1,1],[0,0,0]]), cmap=\"gray\")"
   ]
  },
  {
   "cell_type": "code",
   "execution_count": null,
   "id": "5b853009-0374-4586-a728-175ffa334a79",
   "metadata": {
    "tags": []
   },
   "outputs": [],
   "source": [
    "0/0\n",
    "import matplotlib.font_manager as font_manager\n",
    "from cycler import cycler\n",
    "\n",
    "imin = 40\n",
    "imax = 310\n",
    "plt.figure(figsize=(7, 4.5))\n",
    "\n",
    "font = {\"family\":'Times New Roman',\n",
    "        \"weight\":'normal',\n",
    "        \"style\":'normal', \n",
    "        \"size\":10}\n",
    "\n",
    "plt.rc('axes', prop_cycle=cycler(color=[\"0.0\", \"0.4\", \"0.7\"]))\n",
    "vth = 1.96\n",
    "au_to_v = lambda x: vth/600*x\n",
    "\n",
    "gs = gridspec.GridSpec(1, 2)\n",
    "gs1 = gridspec.GridSpecFromSubplotSpec(2, 1, height_ratios=[1, 1], subplot_spec=gs[0])\n",
    "gs2 = gridspec.GridSpecFromSubplotSpec(3, 1, height_ratios=[1, 2, 1], subplot_spec=gs[1])\n",
    "\n",
    "ind = out.index.to_list()\n",
    "\n",
    "ax0 = plt.subplot(gs1[0])\n",
    "ax0.step(ind, out[0].values+3, ind, out[1].values+1.5, ind, out[2].values, lw=1)\n",
    "ax0.legend([\"Imp1\", \"Imp2\", \"Imp3\"], loc='center left', bbox_to_anchor=(1, 0.5), frameon=False, prop=font)\n",
    "ax0.xaxis.set_tick_params(labelbottom=False)\n",
    "ax0.set_xlim(imin, imax)\n",
    "\n",
    "ax1 = plt.subplot(gs1[1])\n",
    "ax1.step(ind, out[3].values+3, ind, out[4].values+1.5, ind, out[5].values, lw=1)\n",
    "ax1.legend([\"Imp1N\", \"Imp2N\", \"Imp3N\"], loc='center left', bbox_to_anchor=(1, 0.5), frameon=False,  prop=font)\n",
    "ax1.set_xlim(imin, imax)\n",
    "\n",
    "\n",
    "default_cycler = (cycler(color=['0.0', '0.4', '0.7']) *\n",
    "                  cycler(linestyle=['-', '--', ':'])\n",
    "                 )\n",
    "\n",
    "\n",
    "ax3 = plt.subplot(gs2[0])\n",
    "ax3.set_prop_cycle(default_cycler)\n",
    "for i in range(37, 44):\n",
    "    ax3.step(ind, out[i], lw=1)\n",
    "ax3.legend([\"N1.1\", \"N1.2\", \"N1.3\", \"N1.4\", \"N1.5\", \"N1.6\", \"N1.7\"], title=\"Нейроны 1-го слоя\", loc='center left', ncols=2, bbox_to_anchor=(1, 0.5), frameon=False, prop=font, title_fontproperties=font)\n",
    "ax3.xaxis.set_tick_params(labelbottom=False)\n",
    "ax3.set_xlim(imin, imax)\n",
    "\n",
    "pres, posts = [], []\n",
    "ax4 = plt.subplot(gs2[1], sharex = ax3)\n",
    "for i in range(52, 59, 3):\n",
    "    pres.append(ax4.plot(au_to_v(out[i].values))[0])\n",
    "ax4.xaxis.set_tick_params(labelbottom=False)\n",
    "pres.append(ax4.step([imin, imax], [1.96, 1.96], 'k--', lw=2)[0])\n",
    "    \n",
    "ax5 = plt.subplot(gs2[2], sharex = ax3)\n",
    "for i in range(53, 60, 3):\n",
    "    posts.append(ax5.step(out[i].index.tolist(), out[i])[0])\n",
    "    \n",
    "ax5.legend(posts, [\"N2.1\", \"N2.2\", \"N2.3\"], title=\"Нейроны 2-го слоя\", loc='center left', bbox_to_anchor=(1, 0.5), frameon=False,  prop=font, title_fontproperties=font)\n",
    "ax4.legend(pres, [\"N2.1\", \"N2.2\", \"N2.3\", \"Vth\"], title=\"Выходы интеграторов\\n с утечкой 2-го слоя\", loc='center left', bbox_to_anchor=(1, 0.5), frameon=False,  prop=font, title_fontproperties=font)\n",
    "\n",
    "\n",
    "ax0.spines.bottom.set_bounds(imin, imax)\n",
    "ax0.spines.left.set_bounds(0, 4)\n",
    "ax0.spines.right.set_visible(False)\n",
    "ax0.spines.top.set_visible(False)\n",
    "ax0.set_ylim(0,4)\n",
    "ax0.set_xticks((50, 125, 200,  275))\n",
    "ax0.set_yticks(())\n",
    "ax0.set_title(\"Входные импульсы\",  fontdict=font)\n",
    "ax5.set_xlabel(\"Время, мкс\", loc='right',  fontdict=font)\n",
    "\n",
    "ax1.spines.bottom.set_bounds(imin, imax)\n",
    "ax1.spines.left.set_bounds(0, 4)\n",
    "ax1.spines.right.set_visible(False)\n",
    "ax1.spines.top.set_visible(False)\n",
    "ax1.set_ylim(0,4)\n",
    "ax1.set_xticks((50, 125, 200,  275))\n",
    "ax1.set_yticks(())\n",
    "ax1.set_xlabel(\"Время, мкс\", loc='right',  fontdict=font)\n",
    "\n",
    "\n",
    "ax3.spines.bottom.set_bounds(imin, imax)\n",
    "ax3.spines.left.set_bounds(0, 1)\n",
    "ax3.spines.right.set_visible(False)\n",
    "ax3.spines.top.set_visible(False)\n",
    "ax3.set_ylim(0,1)\n",
    "ax3.set_yticks(())\n",
    "ax3.set_xticks((50, 125, 200,  275))\n",
    "\n",
    "ax4.spines.bottom.set_bounds(imin, imax)\n",
    "ax4.spines.right.set_visible(False)\n",
    "ax4.set_ylim(0,2.2)\n",
    "ax4.set_ylabel(\"U, В\", loc='top', rotation=0, labelpad=-17,  fontdict=font)\n",
    "ax4.spines.top.set_visible(False)\n",
    "\n",
    "ax5.spines.bottom.set_bounds(imin, imax)\n",
    "ax5.spines.left.set_bounds(0, 1)\n",
    "ax5.spines.right.set_visible(False)\n",
    "ax5.spines.top.set_visible(False)\n",
    "ax5.set_ylim(0,1)\n",
    "ax5.set_yticks(())\n",
    "ax5.set_xlabel(\"Время, мкс\", loc='right',  fontdict=font)\n",
    "\n",
    "plt.subplots_adjust(wspace=1)\n",
    "plt.show()"
   ]
  },
  {
   "cell_type": "code",
   "execution_count": null,
   "id": "b172dfbe-46eb-4a24-b7a9-fe521551dd75",
   "metadata": {},
   "outputs": [],
   "source": [
    "net.nodes[50:]"
   ]
  },
  {
   "cell_type": "code",
   "execution_count": null,
   "id": "767b0894-7363-4a81-81f1-1799ca3fbd36",
   "metadata": {
    "tags": []
   },
   "outputs": [],
   "source": [
    "plt.step(np.arange(-10, 50), net.weights.loc[15].weights*out[net.nodes.iloc[15].listening[0]][240:300].values)"
   ]
  },
  {
   "cell_type": "code",
   "execution_count": null,
   "id": "efe4dee5-f337-42e3-a484-b8945ae1ee9d",
   "metadata": {
    "tags": []
   },
   "outputs": [],
   "source": [
    "gs = gridspec.GridSpec(1, 2)\n",
    "gs1 = gridspec.GridSpecFromSubplotSpec(2, 1, height_ratios=[1, 1], subplot_spec=gs[0])\n",
    "gs2 = gridspec.GridSpecFromSubplotSpec(2, 1, height_ratios=[1, 1], subplot_spec=gs[0])\n",
    "\n",
    "ind = out.index.to_list()\n",
    "\n",
    "ax0 = plt.subplot(gs1[0])\n",
    "\n",
    "plt.step(np.arange(-10, 50), out[15][240:300])"
   ]
  },
  {
   "cell_type": "code",
   "execution_count": null,
   "id": "2974792e-4397-4945-8fda-9d455b25c911",
   "metadata": {
    "tags": []
   },
   "outputs": [],
   "source": [
    "plt.step(np.arange(-10, 50), out[16][240:300])"
   ]
  },
  {
   "cell_type": "code",
   "execution_count": 63,
   "id": "9eb0d763-ebae-43bd-91c6-774cc186411c",
   "metadata": {
    "tags": []
   },
   "outputs": [
    {
     "data": {
      "text/plain": [
       "[<matplotlib.lines.Line2D at 0x28cc471e010>]"
      ]
     },
     "execution_count": 63,
     "metadata": {},
     "output_type": "execute_result"
    },
    {
     "data": {
      "image/png": "[encoded data removed]",
      "text/plain": [
       "<Figure size 640x480 with 1 Axes>"
      ]
     },
     "metadata": {},
     "output_type": "display_data"
    }
   ],
   "source": [
    "plt"
   ]
  },
  {
   "cell_type": "code",
   "execution_count": 43,
   "id": "ed84a88c-de2e-43b7-a718-a00570c13bd5",
   "metadata": {
    "tags": []
   },
   "outputs": [
    {
     "data": {
      "text/plain": [
       "[<matplotlib.lines.Line2D at 0x28cc1aaadd0>]"
      ]
     },
     "execution_count": 43,
     "metadata": {},
     "output_type": "execute_result"
    },
    {
     "data": {
      "image/png": "[encoded data removed]",
      "text/plain": [
       "<Figure size 640x480 with 1 Axes>"
      ]
     },
     "metadata": {},
     "output_type": "display_data"
    }
   ],
   "source": [
    "plt"
   ]
  },
  {
   "cell_type": "code",
   "execution_count": 41,
   "id": "68055b71-e168-41c4-a584-e8f8e8ebadb4",
   "metadata": {
    "tags": []
   },
   "outputs": [
    {
     "data": {
      "text/plain": [
       "[<matplotlib.lines.Line2D at 0x28cc188a210>]"
      ]
     },
     "execution_count": 41,
     "metadata": {},
     "output_type": "execute_result"
    },
    {
     "data": {
      "image/png": "[encoded data removed]",
      "text/plain": [
       "<Figure size 640x480 with 1 Axes>"
      ]
     },
     "metadata": {},
     "output_type": "display_data"
    }
   ],
   "source": [
    "plt.step(np.arange(-10, 50), out[56][240:300])"
   ]
  },
  {
   "cell_type": "code",
   "execution_count": 108,
   "id": "fa261db0-486e-4b99-be8c-191683041fb6",
   "metadata": {
    "tags": []
   },
   "outputs": [
    {
     "data": {
      "image/png": "[encoded data removed]",
      "text/plain": [
       "<Figure size 400x600 with 3 Axes>"
      ]
     },
     "metadata": {},
     "output_type": "display_data"
    }
   ],
   "source": [
    "fig, ax = plt.subplots(3, 1, figsize=(4, 6))\n",
    "ax[0].step(np.arange(-10, 50), np.sum(out[net.nodes.iloc[55].listening[0]][240:300].values, axis=1))\n",
    "ax[1].plot(np.arange(-10, 50), out[55][240:300])\n",
    "ax[2].step(np.arange(-10, 50), out[56][240:300])\n",
    "\n",
    "\n",
    "\n",
    "def arrowed_spines(fig, ax):\n",
    "\n",
    "    xmin, xmax = ax.get_xlim() \n",
    "    ymin, ymax = ax.get_ylim()\n",
    "\n",
    "    # removing the default axis on all sides:\n",
    "    for side in ['bottom','right','top','left']:\n",
    "        ax.spines[side].set_visible(False)\n",
    "\n",
    "    # get width and height of axes object to compute \n",
    "    # matching arrowhead length and width\n",
    "    dps = fig.dpi_scale_trans.inverted()\n",
    "    bbox = ax.get_window_extent().transformed(dps)\n",
    "    width, height = bbox.width, bbox.height\n",
    "\n",
    "    # manual arrowhead width and length\n",
    "    hw = 1./40.*(ymax-ymin) \n",
    "    hl = 1./20.*(xmax-xmin)\n",
    "    lw = 1 # axis line width\n",
    "    ohg = 0.3 # arrow overhang\n",
    "\n",
    "    # compute matching arrowhead length and width\n",
    "    yhw = hw/(ymax-ymin)*(xmax-xmin)* height/width \n",
    "    yhl = hl/(xmax-xmin)*(ymax-ymin)* width/height\n",
    "\n",
    "    # draw x and y axis\n",
    "    ax.arrow(xmin, 0, xmax-xmin, 0., fc='k', ec='k', lw = lw, \n",
    "             head_width=hw, head_length=hl, overhang = ohg, \n",
    "             length_includes_head= True, clip_on = False, zorder=20) \n",
    "\n",
    "    ax.arrow(0, ymin, 0., ymax-ymin, fc='k', ec='k', lw = lw, \n",
    "             head_width=yhw, head_length=yhl, overhang = ohg, \n",
    "             length_includes_head= True, clip_on = False, zorder=20)\n",
    "\n",
    "ax[0].set_ylim(0, 1.2)\n",
    "ax[1].set_ylim(0, 700)\n",
    "ax[2].set_ylim(0, 1.2)\n",
    "for a in ax: \n",
    "    a.spines.right.set_visible(False)\n",
    "    a.spines.top.set_visible(False)\n",
    "    a.set_xlim(0,45)\n",
    "    a.set_xticks(())\n",
    "    a.set_yticks(())\n",
    "    arrowed_spines(fig, a)\n",
    "ax[2].set_xticks((0, 10, 20, 30, 40))\n",
    "\n",
    "ax[1].plot((0,45), (500, 500), '--k')\n",
    "\n",
    "fig.tight_layout()"
   ]
  },
  {
   "cell_type": "code",
   "execution_count": null,
   "id": "bbd07406-3f77-4841-af3f-d5c39a6bf9e8",
   "metadata": {},
   "outputs": [],
   "source": []
  }
 ],
 "metadata": {
  "kernelspec": {
   "display_name": "spikesim",
   "language": "python",
   "name": "spikesim"
  },
  "language_info": {
   "codemirror_mode": {
    "name": "ipython",
    "version": 3
   },
   "file_extension": ".py",
   "mimetype": "text/x-python",
   "name": "python",
   "nbconvert_exporter": "python",
   "pygments_lexer": "ipython3",
   "version": "3.11.2"
  }
 },
 "nbformat": 4,
 "nbformat_minor": 5
}
